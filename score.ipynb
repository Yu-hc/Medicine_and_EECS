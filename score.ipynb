{
 "cells": [
  {
   "cell_type": "markdown",
   "metadata": {},
   "source": [
    "## install required packages\n",
    "run the following command line in terminal\n",
    "\n",
    "       pip install -r requirements_score.txt"
   ]
  },
  {
   "cell_type": "code",
   "execution_count": null,
   "metadata": {},
   "outputs": [],
   "source": [
    "import networkx as nx\n",
    "import obonet\n",
    "import inflect\n",
    "\n",
    "# URL for Cell Ontology (CO) OBO file\n",
    "CO_URL = 'http://purl.obolibrary.org/obo/CL.obo'\n",
    "OBO_FILE_PATH = 'oboNet/cl.obo' ## set the file path to your obo file, can be downloaded for the link above\n",
    "def load_ontology(url):\n",
    "    graph = obonet.read_obo(url)\n",
    "    return graph\n",
    "\n",
    "inflector = inflect.engine()\n",
    "\n",
    "def lookup_clid_by_name(graph: nx.graph, cell_name: str)->str:\n",
    "   \n",
    "    normalized_name = inflector.singular_noun(cell_name.lower()) or cell_name.lower()\n",
    "\n",
    "    # Search for the term by normalized name\n",
    "    for node, data in graph.nodes(data=True):\n",
    "        if 'name' in data:\n",
    "            # Singularize and normalize the graph's 'name'\n",
    "            graph_name = inflector.singular_noun(data['name'].lower()) or data['name'].lower()\n",
    "            # Compare normalized names\n",
    "            if graph_name == normalized_name:\n",
    "                return node  # Return the term ID if a match is found\n",
    "\n",
    "    return None\n",
    "\n",
    "# Load the Cell Ontology\n",
    "graph = load_ontology(CO_URL)\n"
   ]
  },
  {
   "cell_type": "code",
   "execution_count": null,
   "metadata": {},
   "outputs": [],
   "source": [
    "ugraph = graph.to_undirected()\n",
    "\n",
    "def calculate_difference(graph:nx.graph, clid_1:str, clid_2:str)->int:\n",
    "    try:\n",
    "        return nx.shortest_path_length(graph, source=clid_1, target=clid_2)\n",
    "    except:\n",
    "        return -1\n",
    "def calculate_difference_name(graph:nx.graph, type_1:str, type_2:str)->int:\n",
    "    clid_1 = lookup_clid_by_name(graph, type_1)\n",
    "    clid_2 = lookup_clid_by_name(graph, type_2)\n",
    "    return calculate_difference(graph, clid_1, clid_2)\n"
   ]
  },
  {
   "cell_type": "markdown",
   "metadata": {},
   "source": [
    "### Usage \n",
    "use calculate_difference to search for distance between to clids\\\n",
    "use calculate_difference_name to search for distance between to cell types\\\n",
    "note that the broader cell type should be the clid_2 argument(i.e. the last one)\\\n",
    "the result will be -1 if there is no path found or node not found\n"
   ]
  },
  {
   "cell_type": "code",
   "execution_count": 4,
   "metadata": {},
   "outputs": [
    {
     "name": "stdout",
     "output_type": "stream",
     "text": [
      "-1\n",
      "1\n",
      "-1\n",
      "3\n"
     ]
    }
   ],
   "source": [
    "print(calculate_difference(graph, 'CL:0002250', 'CL:0009016'))\n",
    "print(calculate_difference(graph,  'CL:0009016','CL:0002250'))\n",
    "# intestinal crypt stem cell 0002250\n",
    "# intestinal crypt stem cell of large intestine 0009016\n",
    "# should put the broader type (i.e. LLM annotated ) behind\n",
    "print(calculate_difference_name(graph, 'T cells', 'Cytotoxic T cells'))\n",
    "print(calculate_difference_name(graph, 'Cytotoxic T cells', 'T cells'))"
   ]
  }
 ],
 "metadata": {
  "kernelspec": {
   "display_name": "Python 3",
   "language": "python",
   "name": "python3"
  },
  "language_info": {
   "codemirror_mode": {
    "name": "ipython",
    "version": 3
   },
   "file_extension": ".py",
   "mimetype": "text/x-python",
   "name": "python",
   "nbconvert_exporter": "python",
   "pygments_lexer": "ipython3",
   "version": "3.12.5"
  }
 },
 "nbformat": 4,
 "nbformat_minor": 2
}
