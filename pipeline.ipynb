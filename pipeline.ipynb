{
 "cells": [
  {
   "cell_type": "markdown",
   "metadata": {},
   "source": [
    "## install required packages\n",
    "run the following command line in terminal\n",
    "\n",
    "       pip install -r requirements.txt"
   ]
  },
  {
   "cell_type": "markdown",
   "metadata": {},
   "source": [
    "## Import packages"
   ]
  },
  {
   "cell_type": "code",
   "execution_count": 1,
   "metadata": {},
   "outputs": [
    {
     "name": "stderr",
     "output_type": "stream",
     "text": [
      "/Library/Frameworks/Python.framework/Versions/3.12/lib/python3.12/site-packages/tqdm/auto.py:21: TqdmWarning: IProgress not found. Please update jupyter and ipywidgets. See https://ipywidgets.readthedocs.io/en/stable/user_install.html\n",
      "  from .autonotebook import tqdm as notebook_tqdm\n"
     ]
    },
    {
     "data": {
      "text/plain": [
       "True"
      ]
     },
     "execution_count": 1,
     "metadata": {},
     "output_type": "execute_result"
    }
   ],
   "source": [
    "import pandas as pd\n",
    "import numpy as np\n",
    "import os\n",
    "import json\n",
    "import obonet\n",
    "import inflect\n",
    "import networkx as nx\n",
    "import matplotlib.pyplot as plt\n",
    "from openai import OpenAI\n",
    "from pydantic import BaseModel\n",
    "import google.generativeai as genai\n",
    "from dotenv import load_dotenv\n",
    "load_dotenv()\n"
   ]
  },
  {
   "cell_type": "markdown",
   "metadata": {},
   "source": [
    "## Define output format"
   ]
  },
  {
   "cell_type": "code",
   "execution_count": 2,
   "metadata": {},
   "outputs": [],
   "source": [
    "class cellTypeFormat(BaseModel):\n",
    "       cellType: str"
   ]
  },
  {
   "cell_type": "markdown",
   "metadata": {},
   "source": [
    "## Read cell clusters file \n",
    "file path set to ./Data/all.csv"
   ]
  },
  {
   "cell_type": "code",
   "execution_count": 3,
   "metadata": {},
   "outputs": [
    {
     "name": "stdout",
     "output_type": "stream",
     "text": [
      "0       MS4A1, TNFRSF13B, IGHM, IGHD, AIM2, CD79A, LIN...\n",
      "1       MS4A1, COCH, AIM2, BANK1, SSPN, CD79A, TEX9, R...\n",
      "2       IGHM, IGHD, CD79A, IL4R, MS4A1, CXCR4, BTG1, T...\n",
      "3       IGHA2, MZB1, TNFRSF17, DERL3, TXNDC5, TNFRSF13...\n",
      "4       GZMH, CD4, FGFBP2, ITGB1, GZMA, CST7, GNLY, B2...\n",
      "                              ...                        \n",
      "1125    KLRD1,NKG7,XCL2,CTSW,XCL1,GNLY,GZMA,KLRB1,KLRC...\n",
      "1126    JCHAIN,MZB1,DERL3,IGHG2,IGHA2,TNFRSF17,SDC1,FC...\n",
      "1127    TFF3,PKHD1L1,PROX1,NTS,FLT4,RELN,GPR182,STAB2,...\n",
      "1128    VWF,ACKR1,PLVAP,PECAM1,AQP1,RAMP3,CLEC14A,SOX1...\n",
      "1129    MSLN,UPK3B,MUC16,CALB2,KLK11,BICDL1,CHAC1,TGM1...\n",
      "Name: marker, Length: 1130, dtype: object\n",
      "dataset                                                               Azimuth\n",
      "tissue                                                                   PBMC\n",
      "marker                      MS4A1, TNFRSF13B, IGHM, IGHD, AIM2, CD79A, LIN...\n",
      "manual_annotation                                         Intermediate B cell\n",
      "manual_CLname                                       transitional stage B cell\n",
      "manual_CLID                                                        CL:0000818\n",
      "manual_broadtype                                                       b cell\n",
      "gpt4aug3_annotation                                                   B Cells\n",
      "gpt4aug3_CLname                                                        B cell\n",
      "gpt4aug3_CLID                                                      CL:0000236\n",
      "gpt4aug3_broadtype                                                     b cell\n",
      "gpt4aug3_agreement                                                        0.5\n",
      "gpt4mar23_annotation                                                  B cells\n",
      "gpt4mar23_CLname                                                       B cell\n",
      "gpt4mar23_CLID                                                     CL:0000236\n",
      "gpt4mar23_broadtype                                                    b cell\n",
      "gpt4mar23_agreement                                                       0.5\n",
      "gpt3.5aug3_annotation                                                 B cells\n",
      "gpt3.5aug3_CLname                                                      B cell\n",
      "gpt3.5aug3_CLID                                                    CL:0000236\n",
      "gpt3.5aug3_broadtype                                                   b cell\n",
      "gpt3.5aug3_agreement                                                      0.5\n",
      "CellMarker2.0_annotation                               Germinal center B cell\n",
      "CellMarker2.0_CLname                                   germinal center B cell\n",
      "CellMarker2.0_CLID                                                 CL:0000844\n",
      "CellMarker2.0_broadtype                                                b cell\n",
      "CellMarker2.0_agreement                                                   0.5\n",
      "SingleR_annotation                                                        NaN\n",
      "SingleR_CLname                                                            NaN\n",
      "SingleR_CLID                                                              NaN\n",
      "SingleR_broadtype                                                         NaN\n",
      "SingleR_agreement                                                         NaN\n",
      "ScType_annotation                                                         NaN\n",
      "ScType_CLname                                                             NaN\n",
      "ScType_CLID                                                               NaN\n",
      "ScType_broadtype                                                          NaN\n",
      "ScType_agreement                                                          NaN\n",
      "Name: 0, dtype: object\n"
     ]
    }
   ],
   "source": [
    "def read_cluster(path):\n",
    "      dataframe = pd.read_csv(path)\n",
    "      print(dataframe['marker'])\n",
    "      return dataframe \n",
    "gene_list = read_cluster('./Data/all.csv')\n",
    "print(gene_list.iloc[0])"
   ]
  },
  {
   "cell_type": "markdown",
   "metadata": {},
   "source": [
    "## Split genelist\n",
    "split genelist to multiple chunks so that it won't exceed model input size"
   ]
  },
  {
   "cell_type": "code",
   "execution_count": 5,
   "metadata": {},
   "outputs": [
    {
     "name": "stdout",
     "output_type": "stream",
     "text": [
      "0    PBMC : MS4A1, TNFRSF13B, IGHM, IGHD, AIM2, CD7...\n",
      "1    PBMC : MS4A1, COCH, AIM2, BANK1, SSPN, CD79A, ...\n",
      "2    PBMC : IGHM, IGHD, CD79A, IL4R, MS4A1, CXCR4, ...\n",
      "3    PBMC : IGHA2, MZB1, TNFRSF17, DERL3, TXNDC5, T...\n",
      "4    PBMC : GZMH, CD4, FGFBP2, ITGB1, GZMA, CST7, G...\n",
      "5    PBMC : TCF7, CD4, CCR7, IL7R, FHIT, LEF1, MAL,...\n",
      "6    PBMC : MKI67, TOP2A, PCLAF, CENPF, TYMS, NUSAP...\n",
      "7    PBMC : IL7R, TMSB10, CD4, ITGB1, LTB, TRAC, AQ...\n",
      "8    PBMC : IL7R, CCL5, FYB1, GZMK, IL32, GZMA, KLR...\n",
      "9    PBMC : RTKN2, FOXP3, AC133644.2, CD4, IL2RA, T...\n",
      "dtype: object\n"
     ]
    }
   ],
   "source": [
    "# Generate the user message for each chunk\n",
    "def generate_user_message(gene_list:  pd.DataFrame, max_chunk_size=100) -> list:\n",
    "    # Split the gene_list into chunks\n",
    "    chunks = [group for _, group in gene_list.groupby(gene_list.index // max_chunk_size)]\n",
    "    messages = []\n",
    "    for chunk in chunks:\n",
    "        # Construct the user message for each chunk\n",
    "        user_message = (\n",
    "            chunk['tissue'] + ' : '\n",
    "            + chunk['marker']\n",
    "        )\n",
    "        messages.append(user_message)\n",
    "    return messages\n",
    "\n",
    "# Generate messages with a tunable chunk size\n",
    "messages = generate_user_message(gene_list, max_chunk_size=10)  # Adjust max_chunk_size as needed\n",
    "print(messages[0])"
   ]
  },
  {
   "cell_type": "markdown",
   "metadata": {},
   "source": [
    "## Gemeni ai"
   ]
  },
  {
   "cell_type": "markdown",
   "metadata": {},
   "source": [
    "### model configuration\n",
    "set the GOOGLE_API_KEY under .env file"
   ]
  },
  {
   "cell_type": "code",
   "execution_count": 6,
   "metadata": {},
   "outputs": [],
   "source": [
    "genai.configure(api_key=os.getenv(\"GOOGLE_API_KEY\"))\n",
    "gemeni_model = genai.GenerativeModel(\"gemini-1.5-flash\")\n",
    "gemeni_config = genai.GenerationConfig(response_mime_type=\"application/json\",response_schema=list[cellTypeFormat])"
   ]
  },
  {
   "cell_type": "markdown",
   "metadata": {},
   "source": [
    "### Send prompt to gemini"
   ]
  },
  {
   "cell_type": "code",
   "execution_count": 7,
   "metadata": {},
   "outputs": [],
   "source": [
    "earlyStop = 2\n",
    "Prompt = \"Identify cell types using the following tissue name and markers separately for each row. Only provide the cell type name. Do not show numbers before the name. Some can be a mixture of multiple cell types.\"\n",
    "def annotateCell_Gemini(messages: list)->list:\n",
    "    global gemeni_model, gemeni_config \n",
    "    responses = []\n",
    "    i = 0\n",
    "    for message in messages:\n",
    "       i+=1\n",
    "       if i> earlyStop:\n",
    "              break\n",
    "       prompt = Prompt\n",
    "       for cluster in message:\n",
    "              prompt += cluster\n",
    "              prompt += '\\n'\n",
    "       print(prompt)\n",
    "       response = gemeni_model.generate_content(\n",
    "              prompt,\n",
    "              generation_config=gemeni_config\n",
    "       )\n",
    "       responses.append(response.text)\n",
    "    return responses\n"
   ]
  },
  {
   "cell_type": "code",
   "execution_count": 8,
   "metadata": {},
   "outputs": [
    {
     "name": "stdout",
     "output_type": "stream",
     "text": [
      "Identify cell types using the following tissue name and markers separately for each row. Only provide the cell type name. Do not show numbers before the name. Some can be a mixture of multiple cell types.PBMC : MS4A1, TNFRSF13B, IGHM, IGHD, AIM2, CD79A, LINC01857, RALGPS2, BANK1, CD79B\n",
      "PBMC : MS4A1, COCH, AIM2, BANK1, SSPN, CD79A, TEX9, RALGPS2, TNFRSF13C, LINC01781\n",
      "PBMC : IGHM, IGHD, CD79A, IL4R, MS4A1, CXCR4, BTG1, TCL1A, CD79B, YBX3\n",
      "PBMC : IGHA2, MZB1, TNFRSF17, DERL3, TXNDC5, TNFRSF13B, POU2AF1, CPNE5, HRASLS2, NT5DC2\n",
      "PBMC : GZMH, CD4, FGFBP2, ITGB1, GZMA, CST7, GNLY, B2M, IL32, NKG7\n",
      "PBMC : TCF7, CD4, CCR7, IL7R, FHIT, LEF1, MAL, NOSIP, LDHB, PIK3IP1\n",
      "PBMC : MKI67, TOP2A, PCLAF, CENPF, TYMS, NUSAP1, ASPM, PTTG1, TPX2, RRM2\n",
      "PBMC : IL7R, TMSB10, CD4, ITGB1, LTB, TRAC, AQP3, LDHB, IL32, MAL\n",
      "PBMC : IL7R, CCL5, FYB1, GZMK, IL32, GZMA, KLRB1, TRAC, LTB, AQP3\n",
      "PBMC : RTKN2, FOXP3, AC133644.2, CD4, IL2RA, TIGIT, CTLA4, FCRL3, LAIR2, IKZF2\n",
      "\n",
      "Identify cell types using the following tissue name and markers separately for each row. Only provide the cell type name. Do not show numbers before the name. Some can be a mixture of multiple cell types.PBMC : CD8B, S100B, CCR7, RGS10, NOSIP, LINC02446, LEF1, CRTAM, CD8A, OXNAD1\n",
      "PBMC : MKI67, CD8B, TYMS, TRAC, PCLAF, CD3D, CLSPN, CD3G, TK1, RRM2\n",
      "PBMC : CD8B, ANXA1, CD8A, KRT1, LINC02446, YBX3, IL7R, TRAC, NELL2, LDHB\n",
      "PBMC : CCL5, GZMH, CD8A, TRAC, KLRD1, NKG7, GZMK, CST7, CD8B, TRGC2\n",
      "PBMC : PPP1R14A, LILRA4, AXL, IL3RA, SCT, SCN9A, LGMN, DNASE1L3, CLEC4C, GAS6\n",
      "PBMC : CLEC9A, DNASE1L3, C1orf54, IDO1, CLNK, CADM1, FLT3, ENPP1, XCR1, NDRG2\n",
      "PBMC : FCER1A, HLA-DQA1, CLEC10A, CD1C, ENHO, PLD4, GSN, SLC38A1, NDRG2, AFF3\n",
      "PBMC : ITM2C, PLD4, SERPINF1, LILRA4, IL3RA, TPM2, MZB1, SPIB, IRF4, SMPD3\n",
      "PBMC : S100A9, CTSS, S100A8, LYZ, VCAN, S100A12, IL1B, CD14, G0S2, FCN1\n",
      "PBMC : CDKN1C, FCGR3A, PTPRC, LST1, IER5, MS4A7, RHOC, IFITM3, AIF1, HES4\n",
      "\n",
      "['[{\"cellType\": \"B cells\"}, {\"cellType\": \"B cells\"}, {\"cellType\": \"B cells\"}, {\"cellType\": \"B cells\"}, {\"cellType\": \"Cytotoxic T cells\"}, {\"cellType\": \"T cells\"}, {\"cellType\": \"Proliferating cells\"}, {\"cellType\": \"T cells\"}, {\"cellType\": \"Cytotoxic T cells\"}, {\"cellType\": \"T regulatory cells\"}]', '[{\"cellType\": \"T cells, activated NK cells\"}, {\"cellType\": \"T cells\"}, {\"cellType\": \"T cells\"}, {\"cellType\": \"Cytotoxic T cells\"}, {\"cellType\": \"Monocytes\"}, {\"cellType\": \"Dendritic cells\"}, {\"cellType\": \"Dendritic cells\"}, {\"cellType\": \"B cells\"}, {\"cellType\": \"Monocytes\"}, {\"cellType\": \"Macrophages\"}]']\n"
     ]
    }
   ],
   "source": [
    "annotateCell_Gemini_results = annotateCell_Gemini(messages)\n",
    "print(annotateCell_Gemini_results)"
   ]
  },
  {
   "cell_type": "markdown",
   "metadata": {},
   "source": [
    "## GPT"
   ]
  },
  {
   "cell_type": "markdown",
   "metadata": {},
   "source": [
    "### model configuration"
   ]
  },
  {
   "cell_type": "code",
   "execution_count": null,
   "metadata": {},
   "outputs": [],
   "source": [
    "client = OpenAI()"
   ]
  },
  {
   "cell_type": "markdown",
   "metadata": {},
   "source": [
    "### upload file"
   ]
  },
  {
   "cell_type": "code",
   "execution_count": null,
   "metadata": {},
   "outputs": [],
   "source": [
    "def upload_cell_cluster(filename):\n",
    "       global client\n",
    "       client.files.create(\n",
    "              file=open(filename, \"rb\"),\n",
    "              purpose=\"assistant\"\n",
    "       )\n",
    "       print(client.files.list())"
   ]
  },
  {
   "cell_type": "markdown",
   "metadata": {},
   "source": [
    "### send prompt to GPT"
   ]
  },
  {
   "cell_type": "code",
   "execution_count": null,
   "metadata": {},
   "outputs": [],
   "source": [
    "def annotateCell_GPT(messages: list)->list:\n",
    "    global client\n",
    "    responses = []\n",
    "    for message in messages:\n",
    "        completion = client.beta.chat.completions.parse(\n",
    "            model=\"gpt-4o-2024-08-06\",\n",
    "            messages=[\n",
    "                {\"role\": \"system\", \"content\":  \"Identify cell types using the following tissue name and markers separately for each row. \"\n",
    "            + \"Only provide the cell type name. \"\n",
    "            + \"Do not show numbers before the name. \"\n",
    "            + \"Some can be a mixture of multiple cell types.\"},\n",
    "                {\"role\": \"user\", \"content\": message}\n",
    "            ],\n",
    "            response_format=cellTypeFormat,\n",
    "        )\n",
    "        responses.append(completion.choices[0].message.parsed)\n",
    "    return responses\n"
   ]
  },
  {
   "cell_type": "markdown",
   "metadata": {},
   "source": [
    "## Scoring system"
   ]
  },
  {
   "cell_type": "markdown",
   "metadata": {},
   "source": [
    "### result parsing"
   ]
  },
  {
   "cell_type": "code",
   "execution_count": 9,
   "metadata": {},
   "outputs": [],
   "source": [
    "def json_parsing(annotateCell_results: json)->list:\n",
    "       # Parse the strings into Python objects\n",
    "       parsed_results = [json.loads(item.strip()) for item in annotateCell_results]\n",
    "       # Flatten the results to get a list of all cell types\n",
    "       cell_types = [entry['cellType'] for result in parsed_results for entry in result]\n",
    "       return cell_types"
   ]
  },
  {
   "cell_type": "code",
   "execution_count": 15,
   "metadata": {},
   "outputs": [
    {
     "name": "stdout",
     "output_type": "stream",
     "text": [
      "['B cells', 'B cells', 'B cells', 'B cells', 'Cytotoxic T cells', 'T cells', 'Proliferating cells', 'T cells', 'Cytotoxic T cells', 'T regulatory cells', 'T cells, activated NK cells', 'T cells', 'T cells', 'Cytotoxic T cells', 'Monocytes', 'Dendritic cells', 'Dendritic cells', 'B cells', 'Monocytes', 'Macrophages']\n"
     ]
    }
   ],
   "source": [
    "cell_types = json_parsing(annotateCell_Gemini_results)\n",
    "print(cell_types)"
   ]
  },
  {
   "cell_type": "markdown",
   "metadata": {},
   "source": [
    "### CL correspondence\n",
    "match the cell_types to get CLID from Cell Ontology"
   ]
  },
  {
   "cell_type": "code",
   "execution_count": 11,
   "metadata": {},
   "outputs": [],
   "source": [
    "# URL for Cell Ontology (CO) OBO file\n",
    "CO_URL = 'http://purl.obolibrary.org/obo/CL.obo'\n",
    "OBO_FILE_PATH = 'oboNet/cl.obo'\n",
    "def load_ontology(url):\n",
    "    graph = obonet.read_obo(url)\n",
    "    return graph\n",
    "\n",
    "inflector = inflect.engine()\n",
    "\n",
    "def lookup_clid_by_name(graph: nx.graph, cell_name: str)->str:\n",
    "   \n",
    "    normalized_name = inflector.singular_noun(cell_name.lower()) or cell_name.lower()\n",
    "\n",
    "    # Search for the term by normalized name\n",
    "    for node, data in graph.nodes(data=True):\n",
    "        if 'name' in data:\n",
    "            # Singularize and normalize the graph's 'name'\n",
    "            graph_name = inflector.singular_noun(data['name'].lower()) or data['name'].lower()\n",
    "\n",
    "            # Compare normalized names\n",
    "            if graph_name == normalized_name:\n",
    "                return node  # Return the term ID if a match is found\n",
    "\n",
    "    return None\n",
    "\n",
    "# Load the Cell Ontology\n",
    "graph = load_ontology(OBO_FILE_PATH)\n"
   ]
  },
  {
   "cell_type": "code",
   "execution_count": 12,
   "metadata": {},
   "outputs": [
    {
     "name": "stdout",
     "output_type": "stream",
     "text": [
      "['CL:0000236', 'CL:0000236', 'CL:0000236', 'CL:0000236', 'CL:0000910', 'CL:0000084', None, 'CL:0000084', 'CL:0000910', None, None, 'CL:0000084', 'CL:0000084', 'CL:0000910', 'CL:0000576', 'CL:0000451', 'CL:0000451', 'CL:0000236', 'CL:0000576', 'CL:0000235']\n"
     ]
    }
   ],
   "source": [
    "clids = []\n",
    "for cell_type in cell_types:\n",
    "  clids.append(lookup_clid_by_name(graph, cell_type))\n",
    "\n",
    "print(clids)"
   ]
  },
  {
   "cell_type": "markdown",
   "metadata": {},
   "source": [
    "### Calculate difference with two CLID\n",
    "change the graph from Cell Ontology to undirected graph\n",
    "and calculate the distance between two nodes ( manual CLID and LLM annotated CLID)"
   ]
  },
  {
   "cell_type": "code",
   "execution_count": 44,
   "metadata": {},
   "outputs": [],
   "source": [
    "ugraph = graph.to_undirected()\n",
    "\n",
    "def calculate_difference(graph:nx.graph, clid_1:str, clid_2:str)->int:\n",
    "    try:\n",
    "        return nx.shortest_path_length(graph, source=clid_1, target=clid_2)\n",
    "    except:\n",
    "        return -1\n",
    "def calculate_difference_name(graph:nx.graph, type_1:str, type_2:str)->int:\n",
    "    clid_1 = lookup_clid_by_name(graph, type_1)\n",
    "    clid_2 = lookup_clid_by_name(graph, type_2)\n",
    "    return calculate_difference(graph, clid_1, clid_2)\n"
   ]
  },
  {
   "cell_type": "code",
   "execution_count": 47,
   "metadata": {},
   "outputs": [
    {
     "name": "stdout",
     "output_type": "stream",
     "text": [
      "-1\n",
      "1\n",
      "-1\n",
      "3\n"
     ]
    }
   ],
   "source": [
    "print(calculate_difference(graph, 'CL:0002250', 'CL:0009016'))\n",
    "print(calculate_difference(graph,  'CL:0009016','CL:0002250'))\n",
    "# intestinal crypt stem cell 0002250\n",
    "# intestinal crypt stem cell of large intestine 0009016\n",
    "# should put the broader type (i.e. LLM annotated ) behind\n",
    "print(calculate_difference_name(graph, 'T cells', 'Cytotoxic T cells'))\n",
    "print(calculate_difference_name(graph, 'Cytotoxic T cells', 'T cells'))"
   ]
  },
  {
   "cell_type": "code",
   "execution_count": 43,
   "metadata": {},
   "outputs": [
    {
     "name": "stdout",
     "output_type": "stream",
     "text": [
      "CL:0000236 CL:0000818\n",
      "CL:0000236 CL:0000787\n",
      "CL:0000236 CL:0000788\n",
      "CL:0000236 CL:0000980\n",
      "CL:0000910 CL:0000934\n",
      "CL:0000084 CL:0000895\n",
      "None nan\n",
      "CL:0000084 CL:0000904\n",
      "CL:0000910 CL:0000905\n",
      "None CL:0000815\n",
      "None CL:0000900\n",
      "CL:0000084 nan\n",
      "CL:0000084 CL:0000907\n",
      "CL:0000910 CL:0000913\n",
      "CL:0000576 nan\n",
      "CL:0000451 CL:0000990\n",
      "CL:0000451 CL:0000990\n",
      "CL:0000236 CL:0000784\n",
      "CL:0000576 CL:0001054\n",
      "CL:0000235 nan\n",
      "[2, 3, 3, 3, -1, 3, -1, 5, -1, -1, -1, -1, 5, -1, -1, 1, 1, -1, 1, -1]\n"
     ]
    }
   ],
   "source": [
    "diff_result=[]\n",
    "for i in range(len(clids)):\n",
    "  clid_1 =clids[i] #LLM annotated CLID\n",
    "  clid_2 =gene_list[\"manual_CLID\"][i] \n",
    "  if(clid_1 != None and clid_2!=\"nan\"):# manual annotated CLID\n",
    "    difference = calculate_difference(graph, clid_2, clid_1)\n",
    "    diff_result.append(difference)\n",
    "  else:\n",
    "    diff_result.append(-1)\n",
    "  print(clid_1, clid_2)\n",
    "  # print(difference)\n",
    "print(diff_result)"
   ]
  },
  {
   "cell_type": "markdown",
   "metadata": {},
   "source": [
    "### Assign new scoring system to all.csv"
   ]
  },
  {
   "cell_type": "code",
   "execution_count": 39,
   "metadata": {},
   "outputs": [],
   "source": [
    "MODELS = ['gpt4aug3', 'gpt4mar23','gpt3.5aug3', 'CellMarker2.0','SingleR', 'ScType']\n",
    "MANUAL = 'manual'"
   ]
  },
  {
   "cell_type": "code",
   "execution_count": 40,
   "metadata": {},
   "outputs": [],
   "source": [
    "def assign_score(gene_list: pd.DataFrame):\n",
    "       global MODELS\n",
    "       global MANUAL\n",
    "       global graph\n",
    "       gene_list_scored = pd.DataFrame()\n",
    "       gene_list_scored = gene_list.copy()\n",
    "       for MODEL in MODELS:\n",
    "              scores = []\n",
    "              for i in range(len(gene_list)):\n",
    "                     clid_1 = gene_list[MANUAL+'_CLID'][i] \n",
    "                     clid_2 = gene_list[MODEL+'_CLID'][i]\n",
    "                     scores.append(calculate_difference(graph, clid_1, clid_2))\n",
    "              gene_list_scored[MODEL+'_aggrement_modified'] = scores\n",
    "       return gene_list_scored\n"
   ]
  },
  {
   "cell_type": "code",
   "execution_count": 41,
   "metadata": {},
   "outputs": [
    {
     "name": "stdout",
     "output_type": "stream",
     "text": [
      "            dataset       tissue  \\\n",
      "0           Azimuth         PBMC   \n",
      "1           Azimuth         PBMC   \n",
      "2           Azimuth         PBMC   \n",
      "3           Azimuth         PBMC   \n",
      "4           Azimuth         PBMC   \n",
      "...             ...          ...   \n",
      "1125  tabulasapiens  Vasculature   \n",
      "1126  tabulasapiens  Vasculature   \n",
      "1127  tabulasapiens  Vasculature   \n",
      "1128  tabulasapiens  Vasculature   \n",
      "1129  tabulasapiens  Vasculature   \n",
      "\n",
      "                                                 marker  \\\n",
      "0     MS4A1, TNFRSF13B, IGHM, IGHD, AIM2, CD79A, LIN...   \n",
      "1     MS4A1, COCH, AIM2, BANK1, SSPN, CD79A, TEX9, R...   \n",
      "2     IGHM, IGHD, CD79A, IL4R, MS4A1, CXCR4, BTG1, T...   \n",
      "3     IGHA2, MZB1, TNFRSF17, DERL3, TXNDC5, TNFRSF13...   \n",
      "4     GZMH, CD4, FGFBP2, ITGB1, GZMA, CST7, GNLY, B2...   \n",
      "...                                                 ...   \n",
      "1125  KLRD1,NKG7,XCL2,CTSW,XCL1,GNLY,GZMA,KLRB1,KLRC...   \n",
      "1126  JCHAIN,MZB1,DERL3,IGHG2,IGHA2,TNFRSF17,SDC1,FC...   \n",
      "1127  TFF3,PKHD1L1,PROX1,NTS,FLT4,RELN,GPR182,STAB2,...   \n",
      "1128  VWF,ACKR1,PLVAP,PECAM1,AQP1,RAMP3,CLEC14A,SOX1...   \n",
      "1129  MSLN,UPK3B,MUC16,CALB2,KLK11,BICDL1,CHAC1,TGM1...   \n",
      "\n",
      "               manual_annotation                              manual_CLname  \\\n",
      "0            Intermediate B cell                  transitional stage B cell   \n",
      "1                  Memory B cell                              memory B cell   \n",
      "2                   Naive B cell                               naive B cell   \n",
      "3                    Plasmablast                                plasmablast   \n",
      "4               CD4+ Cytotoxic T  CD4-positive, alpha-beta cytotoxic T cell   \n",
      "...                          ...                                        ...   \n",
      "1125                     nk cell                        natural killer cell   \n",
      "1126                 plasma cell                                plasma cell   \n",
      "1127  lymphatic endothelial cell       endothelial cell of lymphatic vessel   \n",
      "1128            endothelial cell                           endothelial cell   \n",
      "1129             epithelial cell                            epithelial cell   \n",
      "\n",
      "     manual_CLID  manual_broadtype          gpt4aug3_annotation  \\\n",
      "0     CL:0000818            b cell                      B Cells   \n",
      "1     CL:0000787            b cell                      B Cells   \n",
      "2     CL:0000788            b cell                      B Cells   \n",
      "3     CL:0000980            b cell                 Plasma Cells   \n",
      "4     CL:0000934         t/nk cell                     NK Cells   \n",
      "...          ...               ...                          ...   \n",
      "1125  CL:0000623         t/nk cell         Natural Killer Cells   \n",
      "1126  CL:0000786            b cell                 Plasma Cells   \n",
      "1127  CL:0002138  endothelial cell  Lymphatic Endothelial Cells   \n",
      "1128  CL:0000115  endothelial cell            Endothelial Cells   \n",
      "1129  CL:0000066   epithelial cell             Epithelial Cells   \n",
      "\n",
      "                           gpt4aug3_CLname gpt4aug3_CLID  ...  \\\n",
      "0                                   B cell    CL:0000236  ...   \n",
      "1                                   B cell    CL:0000236  ...   \n",
      "2                                   B cell    CL:0000236  ...   \n",
      "3                              plasma cell    CL:0000786  ...   \n",
      "4                      natural killer cell    CL:0000623  ...   \n",
      "...                                    ...           ...  ...   \n",
      "1125                   natural killer cell    CL:0000623  ...   \n",
      "1126                           plasma cell    CL:0000786  ...   \n",
      "1127  endothelial cell of lymphatic vessel    CL:0002138  ...   \n",
      "1128                      endothelial cell    CL:0000115  ...   \n",
      "1129                       epithelial cell    CL:0000066  ...   \n",
      "\n",
      "                             ScType_CLname  ScType_CLID  ScType_broadtype  \\\n",
      "0                                      NaN          NaN               NaN   \n",
      "1                                      NaN          NaN               NaN   \n",
      "2                                      NaN          NaN               NaN   \n",
      "3                                      NaN          NaN               NaN   \n",
      "4                                      NaN          NaN               NaN   \n",
      "...                                    ...          ...               ...   \n",
      "1125                                   NaN          NaN         t/nk cell   \n",
      "1126                           plasma cell   CL:0000786            b cell   \n",
      "1127  endothelial cell of lymphatic vessel   CL:0002138  endothelial cell   \n",
      "1128                      endothelial cell   CL:0000115  endothelial cell   \n",
      "1129                  epicardial adipocyte   CL:1000309          fat cell   \n",
      "\n",
      "     ScType_agreement gpt4aug3_aggrement_modified  \\\n",
      "0                 NaN                           2   \n",
      "1                 NaN                           3   \n",
      "2                 NaN                           3   \n",
      "3                 NaN                          -1   \n",
      "4                 NaN                          -1   \n",
      "...               ...                         ...   \n",
      "1125              0.5                           0   \n",
      "1126              1.0                           0   \n",
      "1127              1.0                           0   \n",
      "1128              1.0                           0   \n",
      "1129              0.0                           0   \n",
      "\n",
      "     gpt4mar23_aggrement_modified  gpt3.5aug3_aggrement_modified  \\\n",
      "0                               2                              2   \n",
      "1                               2                              3   \n",
      "2                               0                              3   \n",
      "3                              -1                             -1   \n",
      "4                               0                             -1   \n",
      "...                           ...                            ...   \n",
      "1125                           -1                              0   \n",
      "1126                           -1                             -1   \n",
      "1127                           -1                              0   \n",
      "1128                           -1                              0   \n",
      "1129                           -1                              0   \n",
      "\n",
      "     CellMarker2.0_aggrement_modified SingleR_aggrement_modified  \\\n",
      "0                                  -1                         -1   \n",
      "1                                  -1                         -1   \n",
      "2                                  -1                         -1   \n",
      "3                                  -1                         -1   \n",
      "4                                  -1                         -1   \n",
      "...                               ...                        ...   \n",
      "1125                               -1                          0   \n",
      "1126                               -1                          4   \n",
      "1127                               -1                          2   \n",
      "1128                               -1                          0   \n",
      "1129                               -1                         -1   \n",
      "\n",
      "     ScType_aggrement_modified  \n",
      "0                           -1  \n",
      "1                           -1  \n",
      "2                           -1  \n",
      "3                           -1  \n",
      "4                           -1  \n",
      "...                        ...  \n",
      "1125                        -1  \n",
      "1126                         0  \n",
      "1127                         0  \n",
      "1128                         0  \n",
      "1129                        -1  \n",
      "\n",
      "[1130 rows x 43 columns]\n"
     ]
    }
   ],
   "source": [
    "gene_list_scored = assign_score(gene_list)\n",
    "print(gene_list_scored)"
   ]
  },
  {
   "cell_type": "code",
   "execution_count": 42,
   "metadata": {},
   "outputs": [],
   "source": [
    "gene_list_scored.to_csv('Data/all_modified.csv')"
   ]
  },
  {
   "cell_type": "code",
   "execution_count": null,
   "metadata": {},
   "outputs": [],
   "source": []
  }
 ],
 "metadata": {
  "kernelspec": {
   "display_name": "Python 3",
   "language": "python",
   "name": "python3"
  },
  "language_info": {
   "codemirror_mode": {
    "name": "ipython",
    "version": 3
   },
   "file_extension": ".py",
   "mimetype": "text/x-python",
   "name": "python",
   "nbconvert_exporter": "python",
   "pygments_lexer": "ipython3",
   "version": "3.12.5"
  }
 },
 "nbformat": 4,
 "nbformat_minor": 2
}
