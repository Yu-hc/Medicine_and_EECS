{
 "cells": [
  {
   "cell_type": "markdown",
   "metadata": {},
   "source": [
    "## install required packages\n",
    "run the following command line in terminal\n",
    "\n",
    "       pip install -r requirements.txt"
   ]
  },
  {
   "cell_type": "markdown",
   "metadata": {},
   "source": [
    "## Import packages"
   ]
  },
  {
   "cell_type": "code",
   "execution_count": 1,
   "metadata": {},
   "outputs": [
    {
     "name": "stderr",
     "output_type": "stream",
     "text": [
      "/Library/Frameworks/Python.framework/Versions/3.12/lib/python3.12/site-packages/tqdm/auto.py:21: TqdmWarning: IProgress not found. Please update jupyter and ipywidgets. See https://ipywidgets.readthedocs.io/en/stable/user_install.html\n",
      "  from .autonotebook import tqdm as notebook_tqdm\n"
     ]
    },
    {
     "data": {
      "text/plain": [
       "True"
      ]
     },
     "execution_count": 1,
     "metadata": {},
     "output_type": "execute_result"
    }
   ],
   "source": [
    "import pandas as pd\n",
    "import numpy as np\n",
    "import os\n",
    "import json\n",
    "import obonet\n",
    "import inflect\n",
    "import networkx as nx\n",
    "import matplotlib.pyplot as plt\n",
    "import requests\n",
    "import re\n",
    "from openai import OpenAI\n",
    "from pydantic import BaseModel\n",
    "import google.generativeai as genai\n",
    "from dotenv import load_dotenv\n",
    "load_dotenv()\n"
   ]
  },
  {
   "cell_type": "markdown",
   "metadata": {},
   "source": [
    "## Define output format\n",
    "cell type ( string )"
   ]
  },
  {
   "cell_type": "code",
   "execution_count": 2,
   "metadata": {},
   "outputs": [],
   "source": [
    "class cellTypeFormat(BaseModel):\n",
    "       cellType: str"
   ]
  },
  {
   "cell_type": "markdown",
   "metadata": {},
   "source": [
    "## Read cell clusters file \n",
    "file path set to ./Data/all.csv"
   ]
  },
  {
   "cell_type": "code",
   "execution_count": 99,
   "metadata": {},
   "outputs": [
    {
     "name": "stdout",
     "output_type": "stream",
     "text": [
      "0       MS4A1, TNFRSF13B, IGHM, IGHD, AIM2, CD79A, LIN...\n",
      "1       MS4A1, COCH, AIM2, BANK1, SSPN, CD79A, TEX9, R...\n",
      "2       IGHM, IGHD, CD79A, IL4R, MS4A1, CXCR4, BTG1, T...\n",
      "3       IGHA2, MZB1, TNFRSF17, DERL3, TXNDC5, TNFRSF13...\n",
      "4       GZMH, CD4, FGFBP2, ITGB1, GZMA, CST7, GNLY, B2...\n",
      "                              ...                        \n",
      "1125    KLRD1,NKG7,XCL2,CTSW,XCL1,GNLY,GZMA,KLRB1,KLRC...\n",
      "1126    JCHAIN,MZB1,DERL3,IGHG2,IGHA2,TNFRSF17,SDC1,FC...\n",
      "1127    TFF3,PKHD1L1,PROX1,NTS,FLT4,RELN,GPR182,STAB2,...\n",
      "1128    VWF,ACKR1,PLVAP,PECAM1,AQP1,RAMP3,CLEC14A,SOX1...\n",
      "1129    MSLN,UPK3B,MUC16,CALB2,KLK11,BICDL1,CHAC1,TGM1...\n",
      "Name: marker, Length: 1130, dtype: object\n",
      "dataset                                                               Azimuth\n",
      "tissue                                                                   PBMC\n",
      "marker                      MS4A1, TNFRSF13B, IGHM, IGHD, AIM2, CD79A, LIN...\n",
      "manual_annotation                                         Intermediate B cell\n",
      "manual_CLname                                       transitional stage B cell\n",
      "manual_CLID                                                        CL:0000818\n",
      "manual_broadtype                                                       b cell\n",
      "gpt4aug3_annotation                                                   B Cells\n",
      "gpt4aug3_CLname                                                        B cell\n",
      "gpt4aug3_CLID                                                      CL:0000236\n",
      "gpt4aug3_broadtype                                                     b cell\n",
      "gpt4aug3_agreement                                                        0.5\n",
      "gpt4mar23_annotation                                                  B cells\n",
      "gpt4mar23_CLname                                                       B cell\n",
      "gpt4mar23_CLID                                                     CL:0000236\n",
      "gpt4mar23_broadtype                                                    b cell\n",
      "gpt4mar23_agreement                                                       0.5\n",
      "gpt3.5aug3_annotation                                                 B cells\n",
      "gpt3.5aug3_CLname                                                      B cell\n",
      "gpt3.5aug3_CLID                                                    CL:0000236\n",
      "gpt3.5aug3_broadtype                                                   b cell\n",
      "gpt3.5aug3_agreement                                                      0.5\n",
      "CellMarker2.0_annotation                               Germinal center B cell\n",
      "CellMarker2.0_CLname                                   germinal center B cell\n",
      "CellMarker2.0_CLID                                                 CL:0000844\n",
      "CellMarker2.0_broadtype                                                b cell\n",
      "CellMarker2.0_agreement                                                   0.5\n",
      "SingleR_annotation                                                        NaN\n",
      "SingleR_CLname                                                            NaN\n",
      "SingleR_CLID                                                              NaN\n",
      "SingleR_broadtype                                                         NaN\n",
      "SingleR_agreement                                                         NaN\n",
      "ScType_annotation                                                         NaN\n",
      "ScType_CLname                                                             NaN\n",
      "ScType_CLID                                                               NaN\n",
      "ScType_broadtype                                                          NaN\n",
      "ScType_agreement                                                          NaN\n",
      "Name: 0, dtype: object\n"
     ]
    }
   ],
   "source": [
    "def read_cluster(path):\n",
    "      dataframe = pd.read_csv(path)\n",
    "      print(dataframe['marker'])\n",
    "      return dataframe \n",
    "GENE_LIST = read_cluster('./Data/all.csv')\n",
    "print(gene_list.iloc[0])"
   ]
  },
  {
   "cell_type": "markdown",
   "metadata": {},
   "source": [
    "## Split genelist\n",
    "split genelist to multiple chunks so that it won't exceed model input size"
   ]
  },
  {
   "cell_type": "code",
   "execution_count": 101,
   "metadata": {},
   "outputs": [
    {
     "name": "stdout",
     "output_type": "stream",
     "text": [
      "0    PBMC : MS4A1, TNFRSF13B, IGHM, IGHD, AIM2, CD7...\n",
      "1    PBMC : MS4A1, COCH, AIM2, BANK1, SSPN, CD79A, ...\n",
      "2    PBMC : IGHM, IGHD, CD79A, IL4R, MS4A1, CXCR4, ...\n",
      "3    PBMC : IGHA2, MZB1, TNFRSF17, DERL3, TXNDC5, T...\n",
      "4    PBMC : GZMH, CD4, FGFBP2, ITGB1, GZMA, CST7, G...\n",
      "5    PBMC : TCF7, CD4, CCR7, IL7R, FHIT, LEF1, MAL,...\n",
      "6    PBMC : MKI67, TOP2A, PCLAF, CENPF, TYMS, NUSAP...\n",
      "7    PBMC : IL7R, TMSB10, CD4, ITGB1, LTB, TRAC, AQ...\n",
      "8    PBMC : IL7R, CCL5, FYB1, GZMK, IL32, GZMA, KLR...\n",
      "9    PBMC : RTKN2, FOXP3, AC133644.2, CD4, IL2RA, T...\n",
      "dtype: object\n"
     ]
    }
   ],
   "source": [
    "# Generate the user message for each chunk\n",
    "def generate_user_message(gene_list:  pd.DataFrame, max_chunk_size=100) -> list:\n",
    "    # Split the gene_list into chunks\n",
    "    chunks = [group for _, group in gene_list.groupby(gene_list.index // max_chunk_size)]\n",
    "    messages = []\n",
    "    for chunk in chunks:\n",
    "        # Construct the user message for each chunk\n",
    "        user_message = (\n",
    "            chunk['tissue'] + ' : '\n",
    "            + chunk['marker']\n",
    "        )\n",
    "        messages.append(user_message)\n",
    "    return messages\n",
    "\n",
    "# Generate messages with a tunable chunk size\n",
    "messages = generate_user_message(GENE_LIST, max_chunk_size=10)  # Adjust max_chunk_size as needed\n",
    "print(messages[0])"
   ]
  },
  {
   "cell_type": "markdown",
   "metadata": {},
   "source": [
    "## Gemeni ai"
   ]
  },
  {
   "cell_type": "markdown",
   "metadata": {},
   "source": [
    "### model configuration\n",
    "set the GOOGLE_API_KEY under .env file"
   ]
  },
  {
   "cell_type": "code",
   "execution_count": 102,
   "metadata": {},
   "outputs": [],
   "source": [
    "genai.configure(api_key=os.getenv(\"GOOGLE_API_KEY\"))\n",
    "gemeni_model = genai.GenerativeModel(\"gemini-1.5-flash\")\n",
    "gemeni_config = genai.GenerationConfig(response_mime_type=\"application/json\",response_schema=list[cellTypeFormat])"
   ]
  },
  {
   "cell_type": "markdown",
   "metadata": {},
   "source": [
    "### Send prompt to gemini"
   ]
  },
  {
   "cell_type": "code",
   "execution_count": 103,
   "metadata": {},
   "outputs": [],
   "source": [
    "earlyStop = 2\n",
    "Prompt = \"Identify cell types using the following tissue name and markers separately for each row. Only provide the cell type name. Do not show numbers before the name. Some can be a mixture of multiple cell types.\"\n",
    "def annotateCell_Gemini(messages: list)->list:\n",
    "    global gemeni_model, gemeni_config \n",
    "    responses = []\n",
    "    i = 0\n",
    "    for message in messages:\n",
    "       i+=1\n",
    "       if i> earlyStop:\n",
    "              break\n",
    "       prompt = Prompt\n",
    "       for cluster in message:\n",
    "              prompt += cluster\n",
    "              prompt += '\\n'\n",
    "       print(prompt)\n",
    "       response = gemeni_model.generate_content(\n",
    "              prompt,\n",
    "              generation_config=gemeni_config\n",
    "       )\n",
    "       responses.append(response.text)\n",
    "    return responses\n"
   ]
  },
  {
   "cell_type": "code",
   "execution_count": 104,
   "metadata": {},
   "outputs": [
    {
     "name": "stdout",
     "output_type": "stream",
     "text": [
      "Identify cell types using the following tissue name and markers separately for each row. Only provide the cell type name. Do not show numbers before the name. Some can be a mixture of multiple cell types.PBMC : MS4A1, TNFRSF13B, IGHM, IGHD, AIM2, CD79A, LINC01857, RALGPS2, BANK1, CD79B\n",
      "PBMC : MS4A1, COCH, AIM2, BANK1, SSPN, CD79A, TEX9, RALGPS2, TNFRSF13C, LINC01781\n",
      "PBMC : IGHM, IGHD, CD79A, IL4R, MS4A1, CXCR4, BTG1, TCL1A, CD79B, YBX3\n",
      "PBMC : IGHA2, MZB1, TNFRSF17, DERL3, TXNDC5, TNFRSF13B, POU2AF1, CPNE5, HRASLS2, NT5DC2\n",
      "PBMC : GZMH, CD4, FGFBP2, ITGB1, GZMA, CST7, GNLY, B2M, IL32, NKG7\n",
      "PBMC : TCF7, CD4, CCR7, IL7R, FHIT, LEF1, MAL, NOSIP, LDHB, PIK3IP1\n",
      "PBMC : MKI67, TOP2A, PCLAF, CENPF, TYMS, NUSAP1, ASPM, PTTG1, TPX2, RRM2\n",
      "PBMC : IL7R, TMSB10, CD4, ITGB1, LTB, TRAC, AQP3, LDHB, IL32, MAL\n",
      "PBMC : IL7R, CCL5, FYB1, GZMK, IL32, GZMA, KLRB1, TRAC, LTB, AQP3\n",
      "PBMC : RTKN2, FOXP3, AC133644.2, CD4, IL2RA, TIGIT, CTLA4, FCRL3, LAIR2, IKZF2\n",
      "\n",
      "Identify cell types using the following tissue name and markers separately for each row. Only provide the cell type name. Do not show numbers before the name. Some can be a mixture of multiple cell types.PBMC : CD8B, S100B, CCR7, RGS10, NOSIP, LINC02446, LEF1, CRTAM, CD8A, OXNAD1\n",
      "PBMC : MKI67, CD8B, TYMS, TRAC, PCLAF, CD3D, CLSPN, CD3G, TK1, RRM2\n",
      "PBMC : CD8B, ANXA1, CD8A, KRT1, LINC02446, YBX3, IL7R, TRAC, NELL2, LDHB\n",
      "PBMC : CCL5, GZMH, CD8A, TRAC, KLRD1, NKG7, GZMK, CST7, CD8B, TRGC2\n",
      "PBMC : PPP1R14A, LILRA4, AXL, IL3RA, SCT, SCN9A, LGMN, DNASE1L3, CLEC4C, GAS6\n",
      "PBMC : CLEC9A, DNASE1L3, C1orf54, IDO1, CLNK, CADM1, FLT3, ENPP1, XCR1, NDRG2\n",
      "PBMC : FCER1A, HLA-DQA1, CLEC10A, CD1C, ENHO, PLD4, GSN, SLC38A1, NDRG2, AFF3\n",
      "PBMC : ITM2C, PLD4, SERPINF1, LILRA4, IL3RA, TPM2, MZB1, SPIB, IRF4, SMPD3\n",
      "PBMC : S100A9, CTSS, S100A8, LYZ, VCAN, S100A12, IL1B, CD14, G0S2, FCN1\n",
      "PBMC : CDKN1C, FCGR3A, PTPRC, LST1, IER5, MS4A7, RHOC, IFITM3, AIF1, HES4\n",
      "\n",
      "['[{\"cellType\": \"B cells\"}, {\"cellType\": \"B cells\"}, {\"cellType\": \"B cells\"}, {\"cellType\": \"B cells\"}, {\"cellType\": \"Cytotoxic T cells\"}, {\"cellType\": \"T cells\"}, {\"cellType\": \"Proliferating cells\"}, {\"cellType\": \"T cells\"}, {\"cellType\": \"T cells\"}, {\"cellType\": \"T cells\"}]', '[{\"cellType\": \"T cells, Neutrophils\"}, {\"cellType\": \"T cells\"}, {\"cellType\": \"T cells\"}, {\"cellType\": \"T cells\"}, {\"cellType\": \"Monocytes\"}, {\"cellType\": \"Monocytes\"}, {\"cellType\": \"Dendritic cells\"}, {\"cellType\": \"B cells\"}, {\"cellType\": \"Monocytes\"}, {\"cellType\": \"Monocytes\"}]']\n"
     ]
    }
   ],
   "source": [
    "annotateCell_Gemini_results = annotateCell_Gemini(messages)\n",
    "print(annotateCell_Gemini_results)"
   ]
  },
  {
   "cell_type": "markdown",
   "metadata": {},
   "source": [
    "## GPT"
   ]
  },
  {
   "cell_type": "markdown",
   "metadata": {},
   "source": [
    "### model configuration"
   ]
  },
  {
   "cell_type": "code",
   "execution_count": 8,
   "metadata": {},
   "outputs": [
    {
     "ename": "OpenAIError",
     "evalue": "The api_key client option must be set either by passing api_key to the client or by setting the OPENAI_API_KEY environment variable",
     "output_type": "error",
     "traceback": [
      "\u001b[0;31m---------------------------------------------------------------------------\u001b[0m",
      "\u001b[0;31mOpenAIError\u001b[0m                               Traceback (most recent call last)",
      "Cell \u001b[0;32mIn[8], line 1\u001b[0m\n\u001b[0;32m----> 1\u001b[0m client \u001b[38;5;241m=\u001b[39m \u001b[43mOpenAI\u001b[49m\u001b[43m(\u001b[49m\u001b[43m)\u001b[49m\n",
      "File \u001b[0;32m/Library/Frameworks/Python.framework/Versions/3.12/lib/python3.12/site-packages/openai/_client.py:105\u001b[0m, in \u001b[0;36mOpenAI.__init__\u001b[0;34m(self, api_key, organization, project, base_url, timeout, max_retries, default_headers, default_query, http_client, _strict_response_validation)\u001b[0m\n\u001b[1;32m    103\u001b[0m     api_key \u001b[38;5;241m=\u001b[39m os\u001b[38;5;241m.\u001b[39menviron\u001b[38;5;241m.\u001b[39mget(\u001b[38;5;124m\"\u001b[39m\u001b[38;5;124mOPENAI_API_KEY\u001b[39m\u001b[38;5;124m\"\u001b[39m)\n\u001b[1;32m    104\u001b[0m \u001b[38;5;28;01mif\u001b[39;00m api_key \u001b[38;5;129;01mis\u001b[39;00m \u001b[38;5;28;01mNone\u001b[39;00m:\n\u001b[0;32m--> 105\u001b[0m     \u001b[38;5;28;01mraise\u001b[39;00m OpenAIError(\n\u001b[1;32m    106\u001b[0m         \u001b[38;5;124m\"\u001b[39m\u001b[38;5;124mThe api_key client option must be set either by passing api_key to the client or by setting the OPENAI_API_KEY environment variable\u001b[39m\u001b[38;5;124m\"\u001b[39m\n\u001b[1;32m    107\u001b[0m     )\n\u001b[1;32m    108\u001b[0m \u001b[38;5;28mself\u001b[39m\u001b[38;5;241m.\u001b[39mapi_key \u001b[38;5;241m=\u001b[39m api_key\n\u001b[1;32m    110\u001b[0m \u001b[38;5;28;01mif\u001b[39;00m organization \u001b[38;5;129;01mis\u001b[39;00m \u001b[38;5;28;01mNone\u001b[39;00m:\n",
      "\u001b[0;31mOpenAIError\u001b[0m: The api_key client option must be set either by passing api_key to the client or by setting the OPENAI_API_KEY environment variable"
     ]
    }
   ],
   "source": [
    "client = OpenAI()"
   ]
  },
  {
   "cell_type": "markdown",
   "metadata": {},
   "source": [
    "### upload file"
   ]
  },
  {
   "cell_type": "code",
   "execution_count": null,
   "metadata": {},
   "outputs": [],
   "source": [
    "def upload_cell_cluster(filename):\n",
    "       global client\n",
    "       client.files.create(\n",
    "              file=open(filename, \"rb\"),\n",
    "              purpose=\"assistant\"\n",
    "       )\n",
    "       print(client.files.list())"
   ]
  },
  {
   "cell_type": "markdown",
   "metadata": {},
   "source": [
    "### send prompt to GPT"
   ]
  },
  {
   "cell_type": "code",
   "execution_count": 7,
   "metadata": {},
   "outputs": [],
   "source": [
    "def annotateCell_GPT(messages: list)->list:\n",
    "    global client\n",
    "    responses = []\n",
    "    for message in messages:\n",
    "        completion = client.beta.chat.completions.parse(\n",
    "            model=\"gpt-4o-2024-08-06\",\n",
    "            messages=[\n",
    "                {\"role\": \"system\", \"content\":  \"Identify cell types using the following tissue name and markers separately for each row. \"\n",
    "            + \"Only provide the cell type name. \"\n",
    "            + \"Do not show numbers before the name. \"\n",
    "            + \"Some can be a mixture of multiple cell types.\"},\n",
    "                {\"role\": \"user\", \"content\": message}\n",
    "            ],\n",
    "            response_format=cellTypeFormat,\n",
    "        )\n",
    "        responses.append(completion.choices[0].message.parsed)\n",
    "    return responses\n"
   ]
  },
  {
   "cell_type": "markdown",
   "metadata": {},
   "source": [
    "## Scoring system"
   ]
  },
  {
   "cell_type": "markdown",
   "metadata": {},
   "source": [
    "### result parsing"
   ]
  },
  {
   "cell_type": "code",
   "execution_count": 107,
   "metadata": {},
   "outputs": [],
   "source": [
    "def json_parsing(annotateCell_results: json)->list:\n",
    "       # Parse the strings into Python objects\n",
    "       parsed_results = [json.loads(item.strip()) for item in annotateCell_results]\n",
    "       # Flatten the results to get a list of all cell types\n",
    "       cell_types = [entry['cellType'] for result in parsed_results for entry in result]\n",
    "       return cell_types"
   ]
  },
  {
   "cell_type": "code",
   "execution_count": 108,
   "metadata": {},
   "outputs": [
    {
     "name": "stdout",
     "output_type": "stream",
     "text": [
      "['B cells', 'B cells', 'B cells', 'B cells', 'Cytotoxic T cells', 'T cells', 'Proliferating cells', 'T cells', 'T cells', 'T cells', 'T cells, Neutrophils', 'T cells', 'T cells', 'T cells', 'Monocytes', 'Monocytes', 'Dendritic cells', 'B cells', 'Monocytes', 'Monocytes']\n"
     ]
    }
   ],
   "source": [
    "cell_types = json_parsing(annotateCell_Gemini_results)\n",
    "print(cell_types)"
   ]
  },
  {
   "cell_type": "markdown",
   "metadata": {},
   "source": [
    "### CL correspondence\n",
    "match the cell_types to get CLID from Cell Ontology\n",
    "search name in graph and return the corresponding clid\\\n",
    "if no matches found, send request to cell ontology"
   ]
  },
  {
   "cell_type": "code",
   "execution_count": 105,
   "metadata": {},
   "outputs": [],
   "source": [
    "# URL for Cell Ontology (CO) OBO file\n",
    "CO_URL = 'http://purl.obolibrary.org/obo/CL.obo'\n",
    "OBO_FILE_PATH = 'oboNet/cl.obo'\n",
    "# dictionary to store search result\n",
    "NAME_TO_CLID_DICT = dict()\n",
    "\n",
    "def load_ontology(url):\n",
    "    graph = obonet.read_obo(url)\n",
    "    return graph\n",
    "def search_ontology(cell_name: str, ontology='cl')->str:\n",
    "    global NAME_TO_CLID_DICT\n",
    "    normalized_name = inflector.singular_noun(cell_name.lower()) or cell_name.lower()\n",
    "    normalized_name = re.sub(r\"^\\(?\\d+\\)?\\.\", \"\", normalized_name).strip()\n",
    "    # search in dict for faster access to clid and name\n",
    "    if normalized_name in NAME_TO_CLID_DICT :\n",
    "        return NAME_TO_CLID_DICT[normalized_name]\n",
    "    \n",
    "    for id, data in GRAPH.nodes(data=True):\n",
    "        if 'name' in data:\n",
    "            # Singularize and normalize the GRAPH's 'name'\n",
    "            label = inflector.singular_noun(data['name'].lower()) or data['name'].lower()\n",
    "            # Compare normalized names\n",
    "            if label == normalized_name:\n",
    "                NAME_TO_CLID_DICT[normalized_name] = (id, label)\n",
    "                return id, label # Return the clid and label(name) if a match is found\n",
    "    \n",
    "    # If no clid name found in GRAPH, send request to ontology api    \n",
    "    # OLS API URL\n",
    "    url = f\"https://www.ebi.ac.uk/ols/api/search?q={normalized_name}&ontology={ontology}\"\n",
    "\n",
    "    # Make the API request\n",
    "    response = requests.get(url)\n",
    "    if response.status_code == 200:\n",
    "        if len(response.json()['response']['docs'])==0:\n",
    "          return None, None\n",
    "        id = response.json()['response']['docs'][0]['obo_id']\n",
    "        label = response.json()['response']['docs'][0]['label']\n",
    "        NAME_TO_CLID_DICT[normalized_name] = (id, label)\n",
    "        return id, label\n",
    "    else:\n",
    "        print(f\"Error: {response.status_code}\")\n",
    "        return None, None\n",
    "\n",
    "inflector = inflect.engine()\n",
    "# Load the Cell Ontology\n",
    "GRAPH = load_ontology(OBO_FILE_PATH)\n",
    "\n"
   ]
  },
  {
   "cell_type": "code",
   "execution_count": 109,
   "metadata": {},
   "outputs": [
    {
     "name": "stdout",
     "output_type": "stream",
     "text": [
      "[('CL:0000236', 'b cell'), ('CL:0000236', 'b cell'), ('CL:0000236', 'b cell'), ('CL:0000236', 'b cell'), ('CL:0000910', 'cytotoxic t cell'), ('CL:0000084', 't cell'), ('CL:4033068', 'cycling B cell'), ('CL:0000084', 't cell'), ('CL:0000084', 't cell'), ('CL:0000084', 't cell'), ('CL:0000775', 'neutrophil'), ('CL:0000084', 't cell'), ('CL:0000084', 't cell'), ('CL:0000084', 't cell'), ('CL:0000576', 'monocyte'), ('CL:0000576', 'monocyte'), ('CL:0000451', 'dendritic cell'), ('CL:0000236', 'b cell'), ('CL:0000576', 'monocyte'), ('CL:0000576', 'monocyte')]\n"
     ]
    }
   ],
   "source": [
    "clids = []\n",
    "for cell_type in cell_types:\n",
    "  clids.append(search_ontology(cell_type))\n",
    "print(clids)"
   ]
  },
  {
   "cell_type": "markdown",
   "metadata": {},
   "source": [
    "### Calculate distance with two CLID\n",
    "#### Method 1 : shortest path length between two nodes\n",
    "calculate the distance between two nodes ( manual CLID and LLM annotated CLID)"
   ]
  },
  {
   "cell_type": "markdown",
   "metadata": {},
   "source": [
    "##### Function Definition\n",
    "- input\n",
    "    - GRAPH : graph with relationship between cells (i.e. GRAPH)\n",
    "    - clid or name : two nodes to assign score\n",
    "- output\n",
    "    - int : distance of the shortest path length of two nodes, -1 for no path"
   ]
  },
  {
   "cell_type": "code",
   "execution_count": 110,
   "metadata": {},
   "outputs": [],
   "source": [
    "def calculate_difference(graph:nx.graph, clid_1:str, clid_2:str)->int:\n",
    "    try:\n",
    "        return nx.shortest_path_length(graph, source=clid_1, target=clid_2)\n",
    "    except:\n",
    "        return -1\n",
    "def calculate_difference_name(graph:nx.graph, type_1:str, type_2:str)->int:\n",
    "    clid_1, label_1 = search_ontology(type_1)\n",
    "    clid_2, label_2 = search_ontology(type_2)\n",
    "    return calculate_difference(graph, clid_1, clid_2)\n"
   ]
  },
  {
   "cell_type": "code",
   "execution_count": 111,
   "metadata": {},
   "outputs": [
    {
     "name": "stdout",
     "output_type": "stream",
     "text": [
      "-1\n",
      "1\n",
      "-1\n",
      "3\n",
      "3\n"
     ]
    }
   ],
   "source": [
    "print(calculate_difference(GRAPH, 'CL:0002250', 'CL:0009016'))\n",
    "print(calculate_difference(GRAPH,  'CL:0009016','CL:0002250'))\n",
    "# intestinal crypt stem cell 0002250\n",
    "# intestinal crypt stem cell of large intestine 0009016\n",
    "# should put the broader type (i.e. LLM annotated ) behind\n",
    "print(calculate_difference_name(GRAPH, 'T cells', 'Cytotoxic T cells'))\n",
    "print(calculate_difference_name(GRAPH, 'Cytotoxic T cells', 'T cells'))\n",
    "print(calculate_difference_name(GRAPH, 'T-helper cells', 'T cells'))"
   ]
  },
  {
   "cell_type": "markdown",
   "metadata": {},
   "source": [
    "#### Method 2 : calculate adjusted path-based similarity\n",
    "assign score according to 'On measuring of SImilarity between tree nodes'\n",
    "\n",
    "$$ l_a (v_i, v_j) = \\frac{l(v_i, lca_{ij})+l(v_j, lca_{ij})}{1 + l(lca_{ij},t)}$$\n",
    "\n",
    "while score equals $$ s_a(v_i, v_j) = \\frac{1}{1+l_a(v_i, v_j)} = \\frac{1 + l(lca_{ij},t)}{1+ l(v_i, lca_{ij})+l(v_j, lca_{ij}) + l(lca_{ij},t)} $$"
   ]
  },
  {
   "cell_type": "markdown",
   "metadata": {},
   "source": [
    "##### Trim graph\n",
    "only keep nodes starting with CL, and keep edges 'is_a'"
   ]
  },
  {
   "cell_type": "code",
   "execution_count": 112,
   "metadata": {},
   "outputs": [
    {
     "name": "stdout",
     "output_type": "stream",
     "text": [
      "False\n",
      "True\n"
     ]
    }
   ],
   "source": [
    "TRIMMED_GRAPH = nx.DiGraph()\n",
    "i = 0\n",
    "for clid in GRAPH.nodes:\n",
    "       entry = GRAPH.nodes[clid]\n",
    "       if 'is_a' in entry:\n",
    "              for parent in entry['is_a']:\n",
    "                     if parent[0:2] == 'CL' and clid[0:2]=='CL':\n",
    "                            TRIMMED_GRAPH.add_node(clid) \n",
    "                            TRIMMED_GRAPH.add_edge(parent, clid)  # Add directed edge\n",
    "print(nx.is_directed_acyclic_graph(TRIMMED_GRAPH))\n",
    "TRIMMED_GRAPH.remove_edge('CL:0000164','CL:0000163')\n",
    "print(nx.is_directed_acyclic_graph(TRIMMED_GRAPH))\n"
   ]
  },
  {
   "cell_type": "markdown",
   "metadata": {},
   "source": [
    "##### Function definition\n",
    "- input\n",
    "    - graph : DAG graph (i.e. G_scc)\n",
    "    - scc_mapping : dictionary to map clid to scc (i.e. SCC_MAPPING)\n",
    "    - clid or name : two nodes to assign score\n",
    "- output\n",
    "    - float : adjusted score taking depth into consideration\n"
   ]
  },
  {
   "cell_type": "code",
   "execution_count": 118,
   "metadata": {},
   "outputs": [],
   "source": [
    "def adjusted_path_based_score(graph:nx.DiGraph,  clid_1:str, clid_2:str)->float:\n",
    "        try:\n",
    "                ugraph = graph.to_undirected()\n",
    "                lca = nx.lowest_common_ancestor(graph, clid_1, clid_2)\n",
    "                root_nodes = [x for x in graph.nodes() if graph.out_degree(x)>1 and graph.in_degree(x)==0]\n",
    "                l_i_lca = nx.shortest_path_length(ugraph, source = clid_1, target = lca)\n",
    "                l_j_lca = nx.shortest_path_length(ugraph, source = clid_2, target = lca)\n",
    "                l_lca_t = 0\n",
    "                for root_node in root_nodes:\n",
    "                        if(nx.has_path(ugraph, source=lca, target=root_node)):\n",
    "                             l_lca_t = nx.shortest_path_length(ugraph, source = lca, target = root_node)\n",
    "                return format(((1+l_lca_t) / (1+l_i_lca + l_j_lca + l_lca_t)), '.4f')   # give 2 digits after the point\n",
    "        except:\n",
    "                return -1\n",
    "\n",
    "    \n",
    "def adjusted_path_based_score_name(graph:nx.DiGraph,  type_1:str, type_2:str)->float:\n",
    "        ugraph = graph.to_undirected()\n",
    "        # convert name to clid\n",
    "        clid_1, label_1 = search_ontology(type_1)\n",
    "        clid_2, label_2 = search_ontology(type_2)\n",
    "        return adjusted_path_based_score(graph, clid_1=clid_1, clid_2=clid_2)\n",
    "\n"
   ]
  },
  {
   "cell_type": "code",
   "execution_count": 119,
   "metadata": {},
   "outputs": [
    {
     "name": "stdout",
     "output_type": "stream",
     "text": [
      "0.7000\n",
      "0.6667\n"
     ]
    }
   ],
   "source": [
    "print(adjusted_path_based_score(TRIMMED_GRAPH, 'CL:0000910', 'CL:0000898'))\n",
    "print(adjusted_path_based_score_name(TRIMMED_GRAPH, 'Cytotoxic T cells', 'T cells'))\n"
   ]
  },
  {
   "cell_type": "code",
   "execution_count": 131,
   "metadata": {},
   "outputs": [
    {
     "name": "stdout",
     "output_type": "stream",
     "text": [
      "b cell Intermediate B cell\n",
      "b cell Memory B cell\n",
      "b cell Naive B cell\n",
      "b cell Plasmablast\n",
      "cytotoxic t cell CD4+ Cytotoxic T\n",
      "t cell CD4+ Naive T\n",
      "cycling B cell CD4+ Proliferating T\n",
      "t cell CD4+ Central Memory T\n",
      "t cell CD4+ Effector Memory T\n",
      "t cell Regulatory T\n",
      "neutrophil CD8+ Naive T\n",
      "t cell CD8+ Proliferating T\n",
      "t cell CD8+ Central Memory T\n",
      "t cell CD8+ Effector Memory T\n",
      "monocyte AXL+ Dendritic Cell\n",
      "monocyte Conventional Dendritic Cell 1\n",
      "dendritic cell Conventional Dendritic Cell 2\n",
      "b cell Plasmacytoid Dendritic Cell\n",
      "monocyte CD14+ Monocyte\n",
      "monocyte CD16+ Monocyte\n",
      "[-1, 3, 3, 3, -1, 2, -1, 5, 5, 2, -1, 2, 5, 5, -1, -1, 1, -1, 1, 2]\n"
     ]
    }
   ],
   "source": [
    "diff_result=[]\n",
    "for i in range(len(clids)):\n",
    "  clid_1, label_1 =clids[i] #LLM annotated CLID\n",
    "  label_2 =GENE_LIST[\"manual_annotation\"][i] \n",
    "  difference = calculate_difference_name(GRAPH, label_2, label_1)\n",
    "  diff_result.append(difference)\n",
    "  print(label_1, label_2)\n",
    "  # print(difference)\n",
    "print(diff_result)"
   ]
  },
  {
   "cell_type": "code",
   "execution_count": 133,
   "metadata": {},
   "outputs": [
    {
     "name": "stdout",
     "output_type": "stream",
     "text": [
      "b cell\tIntermediate B cell\n",
      "b cell\tMemory B cell\n",
      "b cell\tNaive B cell\n",
      "b cell\tPlasmablast\n",
      "cytotoxic t cell\tCD4+ Cytotoxic T\n",
      "t cell\tCD4+ Naive T\n",
      "cycling B cell\tCD4+ Proliferating T\n",
      "t cell\tCD4+ Central Memory T\n",
      "t cell\tCD4+ Effector Memory T\n",
      "t cell\tRegulatory T\n",
      "neutrophil\tCD8+ Naive T\n",
      "t cell\tCD8+ Proliferating T\n",
      "t cell\tCD8+ Central Memory T\n",
      "t cell\tCD8+ Effector Memory T\n",
      "monocyte\tAXL+ Dendritic Cell\n",
      "monocyte\tConventional Dendritic Cell 1\n",
      "dendritic cell\tConventional Dendritic Cell 2\n",
      "b cell\tPlasmacytoid Dendritic Cell\n",
      "monocyte\tCD14+ Monocyte\n",
      "monocyte\tCD16+ Monocyte\n",
      "['0.2000', '0.7000', '0.7000', '0.7000', '0.5833', '0.7500', '0.4545', '0.5455', '0.5455', '0.7500', '0.2727', '0.7500', '0.5455', '0.5455', '0.5000', '0.5714', '0.8333', '0.4000', '0.8000', '0.6667']\n"
     ]
    }
   ],
   "source": [
    "adjusted_score_result=[]\n",
    "for i in range(len(clids)):\n",
    "  clid_1, label_1 =clids[i] #LLM annotated CLID\n",
    "  clid_2, label_2 =GENE_LIST[\"manual_CLID\"][i] , GENE_LIST[\"manual_annotation\"][i]\n",
    "  difference = adjusted_path_based_score_name(TRIMMED_GRAPH, label_2, label_1)\n",
    "  # difference = adjusted_path_based_score(TRIMMED_GRAPH, clid_2, clid_1)\n",
    "\n",
    "  adjusted_score_result.append(difference)\n",
    "  print(label_1, label_2, sep='\\t')\n",
    "print(adjusted_score_result)"
   ]
  },
  {
   "cell_type": "markdown",
   "metadata": {},
   "source": [
    "### Assign new scoring system to all.csv"
   ]
  },
  {
   "cell_type": "code",
   "execution_count": 39,
   "metadata": {},
   "outputs": [],
   "source": [
    "MODELS = ['gpt4aug3', 'gpt4mar23','gpt3.5aug3', 'CellMarker2.0','SingleR', 'ScType']\n",
    "MANUAL = 'manual'"
   ]
  },
  {
   "cell_type": "code",
   "execution_count": null,
   "metadata": {},
   "outputs": [],
   "source": [
    "def assign_score(gene_list: pd.DataFrame):\n",
    "       global MODELS\n",
    "       global MANUAL\n",
    "       global GRAPH\n",
    "       gene_list_scored = pd.DataFrame()\n",
    "       gene_list_scored = gene_list.copy()\n",
    "       for MODEL in MODELS:\n",
    "              scores = []\n",
    "              for i in range(len(gene_list)):\n",
    "                     clid_1 = gene_list[MANUAL+'_CLID'][i] \n",
    "                     clid_2 = gene_list[MODEL+'_CLID'][i]\n",
    "                     scores.append(calculate_difference(GRAPH, clid_1, clid_2))\n",
    "              gene_list_scored[MODEL+'_aggrement_modified'] = scores\n",
    "       return gene_list_scored\n"
   ]
  },
  {
   "cell_type": "code",
   "execution_count": null,
   "metadata": {},
   "outputs": [
    {
     "name": "stdout",
     "output_type": "stream",
     "text": [
      "            dataset       tissue  \\\n",
      "0           Azimuth         PBMC   \n",
      "1           Azimuth         PBMC   \n",
      "2           Azimuth         PBMC   \n",
      "3           Azimuth         PBMC   \n",
      "4           Azimuth         PBMC   \n",
      "...             ...          ...   \n",
      "1125  tabulasapiens  Vasculature   \n",
      "1126  tabulasapiens  Vasculature   \n",
      "1127  tabulasapiens  Vasculature   \n",
      "1128  tabulasapiens  Vasculature   \n",
      "1129  tabulasapiens  Vasculature   \n",
      "\n",
      "                                                 marker  \\\n",
      "0     MS4A1, TNFRSF13B, IGHM, IGHD, AIM2, CD79A, LIN...   \n",
      "1     MS4A1, COCH, AIM2, BANK1, SSPN, CD79A, TEX9, R...   \n",
      "2     IGHM, IGHD, CD79A, IL4R, MS4A1, CXCR4, BTG1, T...   \n",
      "3     IGHA2, MZB1, TNFRSF17, DERL3, TXNDC5, TNFRSF13...   \n",
      "4     GZMH, CD4, FGFBP2, ITGB1, GZMA, CST7, GNLY, B2...   \n",
      "...                                                 ...   \n",
      "1125  KLRD1,NKG7,XCL2,CTSW,XCL1,GNLY,GZMA,KLRB1,KLRC...   \n",
      "1126  JCHAIN,MZB1,DERL3,IGHG2,IGHA2,TNFRSF17,SDC1,FC...   \n",
      "1127  TFF3,PKHD1L1,PROX1,NTS,FLT4,RELN,GPR182,STAB2,...   \n",
      "1128  VWF,ACKR1,PLVAP,PECAM1,AQP1,RAMP3,CLEC14A,SOX1...   \n",
      "1129  MSLN,UPK3B,MUC16,CALB2,KLK11,BICDL1,CHAC1,TGM1...   \n",
      "\n",
      "               manual_annotation                              manual_CLname  \\\n",
      "0            Intermediate B cell                  transitional stage B cell   \n",
      "1                  Memory B cell                              memory B cell   \n",
      "2                   Naive B cell                               naive B cell   \n",
      "3                    Plasmablast                                plasmablast   \n",
      "4               CD4+ Cytotoxic T  CD4-positive, alpha-beta cytotoxic T cell   \n",
      "...                          ...                                        ...   \n",
      "1125                     nk cell                        natural killer cell   \n",
      "1126                 plasma cell                                plasma cell   \n",
      "1127  lymphatic endothelial cell       endothelial cell of lymphatic vessel   \n",
      "1128            endothelial cell                           endothelial cell   \n",
      "1129             epithelial cell                            epithelial cell   \n",
      "\n",
      "     manual_CLID  manual_broadtype          gpt4aug3_annotation  \\\n",
      "0     CL:0000818            b cell                      B Cells   \n",
      "1     CL:0000787            b cell                      B Cells   \n",
      "2     CL:0000788            b cell                      B Cells   \n",
      "3     CL:0000980            b cell                 Plasma Cells   \n",
      "4     CL:0000934         t/nk cell                     NK Cells   \n",
      "...          ...               ...                          ...   \n",
      "1125  CL:0000623         t/nk cell         Natural Killer Cells   \n",
      "1126  CL:0000786            b cell                 Plasma Cells   \n",
      "1127  CL:0002138  endothelial cell  Lymphatic Endothelial Cells   \n",
      "1128  CL:0000115  endothelial cell            Endothelial Cells   \n",
      "1129  CL:0000066   epithelial cell             Epithelial Cells   \n",
      "\n",
      "                           gpt4aug3_CLname gpt4aug3_CLID  ...  \\\n",
      "0                                   B cell    CL:0000236  ...   \n",
      "1                                   B cell    CL:0000236  ...   \n",
      "2                                   B cell    CL:0000236  ...   \n",
      "3                              plasma cell    CL:0000786  ...   \n",
      "4                      natural killer cell    CL:0000623  ...   \n",
      "...                                    ...           ...  ...   \n",
      "1125                   natural killer cell    CL:0000623  ...   \n",
      "1126                           plasma cell    CL:0000786  ...   \n",
      "1127  endothelial cell of lymphatic vessel    CL:0002138  ...   \n",
      "1128                      endothelial cell    CL:0000115  ...   \n",
      "1129                       epithelial cell    CL:0000066  ...   \n",
      "\n",
      "                             ScType_CLname  ScType_CLID  ScType_broadtype  \\\n",
      "0                                      NaN          NaN               NaN   \n",
      "1                                      NaN          NaN               NaN   \n",
      "2                                      NaN          NaN               NaN   \n",
      "3                                      NaN          NaN               NaN   \n",
      "4                                      NaN          NaN               NaN   \n",
      "...                                    ...          ...               ...   \n",
      "1125                                   NaN          NaN         t/nk cell   \n",
      "1126                           plasma cell   CL:0000786            b cell   \n",
      "1127  endothelial cell of lymphatic vessel   CL:0002138  endothelial cell   \n",
      "1128                      endothelial cell   CL:0000115  endothelial cell   \n",
      "1129                  epicardial adipocyte   CL:1000309          fat cell   \n",
      "\n",
      "     ScType_agreement gpt4aug3_aggrement_modified  \\\n",
      "0                 NaN                           2   \n",
      "1                 NaN                           3   \n",
      "2                 NaN                           3   \n",
      "3                 NaN                          -1   \n",
      "4                 NaN                          -1   \n",
      "...               ...                         ...   \n",
      "1125              0.5                           0   \n",
      "1126              1.0                           0   \n",
      "1127              1.0                           0   \n",
      "1128              1.0                           0   \n",
      "1129              0.0                           0   \n",
      "\n",
      "     gpt4mar23_aggrement_modified  gpt3.5aug3_aggrement_modified  \\\n",
      "0                               2                              2   \n",
      "1                               2                              3   \n",
      "2                               0                              3   \n",
      "3                              -1                             -1   \n",
      "4                               0                             -1   \n",
      "...                           ...                            ...   \n",
      "1125                           -1                              0   \n",
      "1126                           -1                             -1   \n",
      "1127                           -1                              0   \n",
      "1128                           -1                              0   \n",
      "1129                           -1                              0   \n",
      "\n",
      "     CellMarker2.0_aggrement_modified SingleR_aggrement_modified  \\\n",
      "0                                  -1                         -1   \n",
      "1                                  -1                         -1   \n",
      "2                                  -1                         -1   \n",
      "3                                  -1                         -1   \n",
      "4                                  -1                         -1   \n",
      "...                               ...                        ...   \n",
      "1125                               -1                          0   \n",
      "1126                               -1                          4   \n",
      "1127                               -1                          2   \n",
      "1128                               -1                          0   \n",
      "1129                               -1                         -1   \n",
      "\n",
      "     ScType_aggrement_modified  \n",
      "0                           -1  \n",
      "1                           -1  \n",
      "2                           -1  \n",
      "3                           -1  \n",
      "4                           -1  \n",
      "...                        ...  \n",
      "1125                        -1  \n",
      "1126                         0  \n",
      "1127                         0  \n",
      "1128                         0  \n",
      "1129                        -1  \n",
      "\n",
      "[1130 rows x 43 columns]\n"
     ]
    }
   ],
   "source": [
    "gene_list_scored = assign_score(GENE_LIST)\n",
    "print(gene_list_scored)"
   ]
  },
  {
   "cell_type": "code",
   "execution_count": 42,
   "metadata": {},
   "outputs": [],
   "source": [
    "gene_list_scored.to_csv('Data/all_modified.csv')"
   ]
  },
  {
   "cell_type": "markdown",
   "metadata": {},
   "source": [
    "## Supplement"
   ]
  },
  {
   "cell_type": "markdown",
   "metadata": {},
   "source": [
    "#### Build new graph with SCC\n",
    "create scc and scc mapping to convert graph to DAG"
   ]
  },
  {
   "cell_type": "code",
   "execution_count": null,
   "metadata": {},
   "outputs": [],
   "source": [
    "trimmed_graph_copy= TRIMMED_GRAPH.copy()\n",
    "# Find the SCCs using networkx's strongly_connected_components\n",
    "sccs = list(nx.strongly_connected_components(trimmed_graph_copy))\n",
    "G_SCC = nx.DiGraph()\n",
    "\n",
    "# create scc mapping to map clid to group\n",
    "SCC_MAPPING = {}\n",
    "for i, scc in enumerate(sccs):\n",
    "    for node in scc:\n",
    "        SCC_MAPPING[node] = i\n",
    "\n",
    "for u, v in trimmed_graph_copy.edges():\n",
    "    if SCC_MAPPING[u] != SCC_MAPPING[v]:  # Only add edges between different SCCs\n",
    "        G_SCC.add_edge(SCC_MAPPING[v], SCC_MAPPING[u])\n",
    "# Check if the new graph is a DAG (should return True)\n",
    "print(\"Is DAG?\", nx.is_directed_acyclic_graph(G_SCC))"
   ]
  },
  {
   "cell_type": "markdown",
   "metadata": {},
   "source": [
    "#### Build reverse mapping\n",
    "note that only two nodes are in the same group(CL:0000164, CL:0000163)\n",
    "- CL:0000164 eternoendocrine cell\n",
    "- CL:0000163 endocrine cell\n",
    "\n",
    "Endocrine cell is_a eteroendocrine cell seems to be a incorrect edge"
   ]
  },
  {
   "cell_type": "code",
   "execution_count": null,
   "metadata": {},
   "outputs": [],
   "source": [
    "reverse_mapping = {}\n",
    "for items in SCC_MAPPING:\n",
    "       # print(items, SCC_MAPPING[items])\n",
    "       if(SCC_MAPPING[items] in reverse_mapping):\n",
    "              reverse_mapping[SCC_MAPPING[items]].append(items)\n",
    "              print(reverse_mapping[SCC_MAPPING[items]])\n",
    "       else:\n",
    "              reverse_mapping[SCC_MAPPING[items]] = [items]"
   ]
  },
  {
   "cell_type": "code",
   "execution_count": null,
   "metadata": {},
   "outputs": [],
   "source": [
    "print(GRAPH.nodes['CL:0000164'])\n",
    "print(GRAPH.nodes['CL:0000163'])"
   ]
  }
 ],
 "metadata": {
  "kernelspec": {
   "display_name": "Python 3",
   "language": "python",
   "name": "python3"
  },
  "language_info": {
   "codemirror_mode": {
    "name": "ipython",
    "version": 3
   },
   "file_extension": ".py",
   "mimetype": "text/x-python",
   "name": "python",
   "nbconvert_exporter": "python",
   "pygments_lexer": "ipython3",
   "version": "3.12.5"
  }
 },
 "nbformat": 4,
 "nbformat_minor": 2
}
