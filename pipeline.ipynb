{
 "cells": [
  {
   "cell_type": "markdown",
   "metadata": {},
   "source": [
    "## install required packages\n",
    "run the following command line in terminal\n",
    "\n",
    "       pip install -r requirements.txt"
   ]
  },
  {
   "cell_type": "markdown",
   "metadata": {},
   "source": [
    "## Import packages"
   ]
  },
  {
   "cell_type": "code",
   "execution_count": 14,
   "metadata": {},
   "outputs": [
    {
     "name": "stderr",
     "output_type": "stream",
     "text": [
      "Matplotlib is building the font cache; this may take a moment.\n"
     ]
    },
    {
     "data": {
      "text/plain": [
       "True"
      ]
     },
     "execution_count": 14,
     "metadata": {},
     "output_type": "execute_result"
    }
   ],
   "source": [
    "import pandas as pd\n",
    "import numpy as np\n",
    "import os\n",
    "import json\n",
    "import obonet\n",
    "import inflect\n",
    "import networkx as nx\n",
    "import matplotlib.pyplot as plt\n",
    "from openai import OpenAI\n",
    "from pydantic import BaseModel\n",
    "import google.generativeai as genai\n",
    "from dotenv import load_dotenv\n",
    "load_dotenv()\n"
   ]
  },
  {
   "cell_type": "markdown",
   "metadata": {},
   "source": [
    "## Define output format"
   ]
  },
  {
   "cell_type": "code",
   "execution_count": 3,
   "metadata": {},
   "outputs": [],
   "source": [
    "class cellTypeFormat(BaseModel):\n",
    "       cellType: str"
   ]
  },
  {
   "cell_type": "markdown",
   "metadata": {},
   "source": [
    "## Read cell clusters file \n",
    "all.csv"
   ]
  },
  {
   "cell_type": "code",
   "execution_count": 4,
   "metadata": {},
   "outputs": [
    {
     "name": "stdout",
     "output_type": "stream",
     "text": [
      "0       MS4A1, TNFRSF13B, IGHM, IGHD, AIM2, CD79A, LIN...\n",
      "1       MS4A1, COCH, AIM2, BANK1, SSPN, CD79A, TEX9, R...\n",
      "2       IGHM, IGHD, CD79A, IL4R, MS4A1, CXCR4, BTG1, T...\n",
      "3       IGHA2, MZB1, TNFRSF17, DERL3, TXNDC5, TNFRSF13...\n",
      "4       GZMH, CD4, FGFBP2, ITGB1, GZMA, CST7, GNLY, B2...\n",
      "                              ...                        \n",
      "1125    KLRD1,NKG7,XCL2,CTSW,XCL1,GNLY,GZMA,KLRB1,KLRC...\n",
      "1126    JCHAIN,MZB1,DERL3,IGHG2,IGHA2,TNFRSF17,SDC1,FC...\n",
      "1127    TFF3,PKHD1L1,PROX1,NTS,FLT4,RELN,GPR182,STAB2,...\n",
      "1128    VWF,ACKR1,PLVAP,PECAM1,AQP1,RAMP3,CLEC14A,SOX1...\n",
      "1129    MSLN,UPK3B,MUC16,CALB2,KLK11,BICDL1,CHAC1,TGM1...\n",
      "Name: marker, Length: 1130, dtype: object\n",
      "dataset                                                               Azimuth\n",
      "tissue                                                                   PBMC\n",
      "marker                      MS4A1, TNFRSF13B, IGHM, IGHD, AIM2, CD79A, LIN...\n",
      "manual_annotation                                         Intermediate B cell\n",
      "manual_CLname                                       transitional stage B cell\n",
      "manual_CLID                                                        CL:0000818\n",
      "manual_broadtype                                                       b cell\n",
      "gpt4aug3_annotation                                                   B Cells\n",
      "gpt4aug3_CLname                                                        B cell\n",
      "gpt4aug3_CLID                                                      CL:0000236\n",
      "gpt4aug3_broadtype                                                     b cell\n",
      "gpt4aug3_agreement                                                        0.5\n",
      "gpt4mar23_annotation                                                  B cells\n",
      "gpt4mar23_CLname                                                       B cell\n",
      "gpt4mar23_CLID                                                     CL:0000236\n",
      "gpt4mar23_broadtype                                                    b cell\n",
      "gpt4mar23_agreement                                                       0.5\n",
      "gpt3.5aug3_annotation                                                 B cells\n",
      "gpt3.5aug3_CLname                                                      B cell\n",
      "gpt3.5aug3_CLID                                                    CL:0000236\n",
      "gpt3.5aug3_broadtype                                                   b cell\n",
      "gpt3.5aug3_agreement                                                      0.5\n",
      "CellMarker2.0_annotation                               Germinal center B cell\n",
      "CellMarker2.0_CLname                                   germinal center B cell\n",
      "CellMarker2.0_CLID                                                 CL:0000844\n",
      "CellMarker2.0_broadtype                                                b cell\n",
      "CellMarker2.0_agreement                                                   0.5\n",
      "SingleR_annotation                                                        NaN\n",
      "SingleR_CLname                                                            NaN\n",
      "SingleR_CLID                                                              NaN\n",
      "SingleR_broadtype                                                         NaN\n",
      "SingleR_agreement                                                         NaN\n",
      "ScType_annotation                                                         NaN\n",
      "ScType_CLname                                                             NaN\n",
      "ScType_CLID                                                               NaN\n",
      "ScType_broadtype                                                          NaN\n",
      "ScType_agreement                                                          NaN\n",
      "Name: 0, dtype: object\n"
     ]
    }
   ],
   "source": [
    "def read_cluster(path):\n",
    "      dataframe = pd.read_csv(path)\n",
    "      print(dataframe['marker'])\n",
    "      return dataframe \n",
    "gene_list = read_cluster('./Data/all.csv')\n",
    "print(gene_list.iloc[0])"
   ]
  },
  {
   "cell_type": "markdown",
   "metadata": {},
   "source": [
    "## Split genelist"
   ]
  },
  {
   "cell_type": "code",
   "execution_count": 5,
   "metadata": {},
   "outputs": [
    {
     "name": "stdout",
     "output_type": "stream",
     "text": [
      "0    PBMC : MS4A1, TNFRSF13B, IGHM, IGHD, AIM2, CD7...\n",
      "1    PBMC : MS4A1, COCH, AIM2, BANK1, SSPN, CD79A, ...\n",
      "2    PBMC : IGHM, IGHD, CD79A, IL4R, MS4A1, CXCR4, ...\n",
      "3    PBMC : IGHA2, MZB1, TNFRSF17, DERL3, TXNDC5, T...\n",
      "4    PBMC : GZMH, CD4, FGFBP2, ITGB1, GZMA, CST7, G...\n",
      "5    PBMC : TCF7, CD4, CCR7, IL7R, FHIT, LEF1, MAL,...\n",
      "6    PBMC : MKI67, TOP2A, PCLAF, CENPF, TYMS, NUSAP...\n",
      "7    PBMC : IL7R, TMSB10, CD4, ITGB1, LTB, TRAC, AQ...\n",
      "8    PBMC : IL7R, CCL5, FYB1, GZMK, IL32, GZMA, KLR...\n",
      "9    PBMC : RTKN2, FOXP3, AC133644.2, CD4, IL2RA, T...\n",
      "dtype: object\n"
     ]
    }
   ],
   "source": [
    "# Generate the user message for each chunk\n",
    "def generate_user_message(gene_list:  pd.DataFrame, max_chunk_size=100) -> list:\n",
    "    # Split the gene_list into chunks\n",
    "    chunks = [group for _, group in gene_list.groupby(gene_list.index // max_chunk_size)]\n",
    "    messages = []\n",
    "    for chunk in chunks:\n",
    "        # Construct the user message for each chunk\n",
    "        user_message = (\n",
    "            chunk['tissue'] + ' : '\n",
    "            + chunk['marker']\n",
    "        )\n",
    "        messages.append(user_message)\n",
    "    return messages\n",
    "\n",
    "# Generate messages with a tunable chunk size\n",
    "messages = generate_user_message(gene_list, max_chunk_size=10)  # Adjust max_chunk_size as needed\n",
    "print(messages[0])"
   ]
  },
  {
   "cell_type": "markdown",
   "metadata": {},
   "source": [
    "## Gemeni ai"
   ]
  },
  {
   "cell_type": "markdown",
   "metadata": {},
   "source": [
    "### model configuration"
   ]
  },
  {
   "cell_type": "code",
   "execution_count": 7,
   "metadata": {},
   "outputs": [],
   "source": [
    "genai.configure(api_key=os.getenv(\"GOOGLE_API_KEY\"))\n",
    "gemeni_model = genai.GenerativeModel(\"gemini-1.5-flash\")\n",
    "gemeni_config = genai.GenerationConfig(response_mime_type=\"application/json\",response_schema=list[cellTypeFormat])"
   ]
  },
  {
   "cell_type": "markdown",
   "metadata": {},
   "source": [
    "### Send prompt to gemini"
   ]
  },
  {
   "cell_type": "code",
   "execution_count": 24,
   "metadata": {},
   "outputs": [],
   "source": [
    "earlyStop = 2\n",
    "Prompt = \"Identify cell types using the following tissue name and markers separately for each row. Only provide the cell type name. Do not show numbers before the name. Some can be a mixture of multiple cell types.\"\n",
    "def annotateCell_Gemini(messages: list)->list:\n",
    "    global gemeni_model, gemeni_config \n",
    "    responses = []\n",
    "    i = 0\n",
    "    for message in messages:\n",
    "           i+=1\n",
    "           if i> 2:\n",
    "                  break\n",
    "           prompt = Prompt ## create a copy of the prompt\n",
    "           for cluster in message:\n",
    "                  prompt += cluster\n",
    "           response = gemeni_model.generate_content(\n",
    "                     prompt,\n",
    "                     generation_config=gemeni_config\n",
    "              )\n",
    "           responses.append(response.text)\n",
    "    return responses\n"
   ]
  },
  {
   "cell_type": "code",
   "execution_count": 25,
   "metadata": {},
   "outputs": [
    {
     "name": "stdout",
     "output_type": "stream",
     "text": [
      "['[{\"cellType\": \"B cells\"}, {\"cellType\": \"B cells\"}, {\"cellType\": \"B cells\"}, {\"cellType\": \"B cells\"}, {\"cellType\": \"Cytotoxic T cells\"}, {\"cellType\": \"T cells\"}, {\"cellType\": \"Proliferating cells\"}, {\"cellType\": \"T cells\"}, {\"cellType\": \"T cells\"}, {\"cellType\": \"T regulatory cells\"}]', '[{\"cellType\": \"T cells\"}, {\"cellType\": \"T cells\"}, {\"cellType\": \"T cells\"}, {\"cellType\": \"T cells\"}, {\"cellType\": \"Monocytes\"}, {\"cellType\": \"NK cells\"}, {\"cellType\": \"NK cells\"}, {\"cellType\": \"Dendritic cells\"}, {\"cellType\": \"B cells\"}, {\"cellType\": \"Macrophages\"}, {\"cellType\": \"B cells\"}]']\n"
     ]
    }
   ],
   "source": [
    "annotateCell_Gemini_results = annotateCell_Gemini(messages)\n",
    "print(annotateCell_Gemini_results)"
   ]
  },
  {
   "cell_type": "markdown",
   "metadata": {},
   "source": [
    "## GPT"
   ]
  },
  {
   "cell_type": "markdown",
   "metadata": {},
   "source": [
    "### model configuration"
   ]
  },
  {
   "cell_type": "code",
   "execution_count": 2,
   "metadata": {},
   "outputs": [
    {
     "name": "stdout",
     "output_type": "stream",
     "text": [
      "Unexpected exception formatting exception. Falling back to standard exception\n"
     ]
    },
    {
     "name": "stderr",
     "output_type": "stream",
     "text": [
      "Traceback (most recent call last):\n",
      "  File \"/Users/qwer/files/developer/Medicine_and_EECS/MedandEECS_env/lib/python3.12/site-packages/IPython/core/interactiveshell.py\", line 3577, in run_code\n",
      "  File \"/var/folders/jd/741sx0vn7h98nzy_4kpsbgg40000gn/T/ipykernel_93815/1371122800.py\", line 1, in <module>\n",
      "    client = OpenAI()\n",
      "             ^^^^^^\n",
      "NameError: name 'OpenAI' is not defined\n",
      "\n",
      "During handling of the above exception, another exception occurred:\n",
      "\n",
      "Traceback (most recent call last):\n",
      "  File \"/Users/qwer/files/developer/Medicine_and_EECS/MedandEECS_env/lib/python3.12/site-packages/pygments/styles/__init__.py\", line 45, in get_style_by_name\n",
      "ModuleNotFoundError: No module named 'pygments.styles.default'\n",
      "\n",
      "During handling of the above exception, another exception occurred:\n",
      "\n",
      "Traceback (most recent call last):\n",
      "  File \"/Users/qwer/files/developer/Medicine_and_EECS/MedandEECS_env/lib/python3.12/site-packages/IPython/core/interactiveshell.py\", line 2168, in showtraceback\n",
      "  File \"/Users/qwer/files/developer/Medicine_and_EECS/MedandEECS_env/lib/python3.12/site-packages/IPython/core/ultratb.py\", line 1457, in structured_traceback\n",
      "  File \"/Users/qwer/files/developer/Medicine_and_EECS/MedandEECS_env/lib/python3.12/site-packages/IPython/core/ultratb.py\", line 1348, in structured_traceback\n",
      "  File \"/Users/qwer/files/developer/Medicine_and_EECS/MedandEECS_env/lib/python3.12/site-packages/IPython/core/ultratb.py\", line 1195, in structured_traceback\n",
      "  File \"/Users/qwer/files/developer/Medicine_and_EECS/MedandEECS_env/lib/python3.12/site-packages/IPython/core/ultratb.py\", line 1085, in format_exception_as_a_whole\n",
      "  File \"/Users/qwer/files/developer/Medicine_and_EECS/MedandEECS_env/lib/python3.12/site-packages/IPython/core/ultratb.py\", line 1136, in get_records\n",
      "  File \"/Users/qwer/files/developer/Medicine_and_EECS/MedandEECS_env/lib/python3.12/site-packages/pygments/styles/__init__.py\", line 47, in get_style_by_name\n",
      "pygments.util.ClassNotFound: Could not find style module 'pygments.styles.default', though it should be builtin.\n"
     ]
    }
   ],
   "source": [
    "client = OpenAI()"
   ]
  },
  {
   "cell_type": "markdown",
   "metadata": {},
   "source": [
    "### upload file"
   ]
  },
  {
   "cell_type": "code",
   "execution_count": null,
   "metadata": {},
   "outputs": [],
   "source": [
    "def upload_cell_cluster(filename):\n",
    "       global client\n",
    "       client.files.create(\n",
    "              file=open(filename, \"rb\"),\n",
    "              purpose=\"assistant\"\n",
    "       )\n",
    "       print(client.files.list())"
   ]
  },
  {
   "cell_type": "markdown",
   "metadata": {},
   "source": [
    "### send prompt to GPT"
   ]
  },
  {
   "cell_type": "code",
   "execution_count": null,
   "metadata": {},
   "outputs": [],
   "source": [
    "def annotateCell_GPT(messages: list)->list:\n",
    "    global client\n",
    "    responses = []\n",
    "    for message in messages:\n",
    "        completion = client.beta.chat.completions.parse(\n",
    "            model=\"gpt-4o-2024-08-06\",\n",
    "            messages=[\n",
    "                {\"role\": \"system\", \"content\":  \"Identify cell types using the following tissue name and markers separately for each row. \"\n",
    "            + \"Only provide the cell type name. \"\n",
    "            + \"Do not show numbers before the name. \"\n",
    "            + \"Some can be a mixture of multiple cell types.\"},\n",
    "                {\"role\": \"user\", \"content\": message}\n",
    "            ],\n",
    "            response_format=cellTypeFormat,\n",
    "        )\n",
    "        responses.append(completion.choices[0].message.parsed)\n",
    "    return responses\n"
   ]
  },
  {
   "cell_type": "markdown",
   "metadata": {},
   "source": [
    "## Scoring system"
   ]
  },
  {
   "cell_type": "markdown",
   "metadata": {},
   "source": [
    "### result parsing"
   ]
  },
  {
   "cell_type": "code",
   "execution_count": 11,
   "metadata": {},
   "outputs": [],
   "source": [
    "def json_parsing(annotateCell_results: json)->list:\n",
    "       # Parse the strings into Python objects\n",
    "       parsed_results = [json.loads(item.strip()) for item in annotateCell_results]\n",
    "       # Flatten the results to get a list of all cell types\n",
    "       cell_types = [entry['cellType'] for result in parsed_results for entry in result]\n",
    "       return cell_types"
   ]
  },
  {
   "cell_type": "code",
   "execution_count": 12,
   "metadata": {},
   "outputs": [],
   "source": [
    "cell_types = json_parsing(annotateCell_Gemini_results)"
   ]
  },
  {
   "cell_type": "markdown",
   "metadata": {},
   "source": [
    "### CL correspondence\n",
    "match the cell_types to get CLID from Cell Ontology"
   ]
  },
  {
   "cell_type": "code",
   "execution_count": 20,
   "metadata": {},
   "outputs": [],
   "source": [
    "# URL for Cell Ontology (CO) OBO file\n",
    "CO_URL = 'http://purl.obolibrary.org/obo/CL.obo'\n",
    "def load_ontology(url):\n",
    "    graph = obonet.read_obo(url)\n",
    "    return graph\n",
    "\n",
    "inflector = inflect.engine()\n",
    "\n",
    "def lookup_clid_by_name(graph: nx.graph, cell_name: str)->str:\n",
    "   \n",
    "    normalized_name = inflector.singular_noun(cell_name.lower()) or cell_name.lower()\n",
    "\n",
    "    # Search for the term by normalized name\n",
    "    for node, data in graph.nodes(data=True):\n",
    "        if 'name' in data:\n",
    "            # Singularize and normalize the graph's 'name'\n",
    "            graph_name = inflector.singular_noun(data['name'].lower()) or data['name'].lower()\n",
    "\n",
    "            # Compare normalized names\n",
    "            if graph_name == normalized_name:\n",
    "                return node  # Return the term ID if a match is found\n",
    "\n",
    "    return None\n",
    "\n",
    "# Load the Cell Ontology\n",
    "graph = load_ontology(CO_URL)\n"
   ]
  },
  {
   "cell_type": "code",
   "execution_count": 21,
   "metadata": {},
   "outputs": [
    {
     "name": "stdout",
     "output_type": "stream",
     "text": [
      "['CL:0000236', 'CL:0000236', 'CL:0000236', 'CL:0000236', 'CL:0000910', 'CL:0000084', None, 'CL:0000084', 'CL:0000084', 'CL:0000084', None, 'CL:0000084', None, 'CL:0000910', None, None, None, None, None, None, 'CL:0000236']\n"
     ]
    }
   ],
   "source": [
    "clids = []\n",
    "for cell_type in cell_types:\n",
    "  clids.append(lookup_clid_by_name(graph, cell_type))\n",
    "\n",
    "print(clids)"
   ]
  },
  {
   "cell_type": "markdown",
   "metadata": {},
   "source": [
    "### Calculate difference with two CLID\n",
    "change the graph from Cell Ontology to undirected graph\n",
    "and calculate the distance between two nodes ( manual CLID and LLM annotated CLID)"
   ]
  },
  {
   "cell_type": "code",
   "execution_count": null,
   "metadata": {},
   "outputs": [],
   "source": [
    "ugraph = graph.to_undirected()\n",
    "\n",
    "def calculate_difference(graph, clid_1, clid_2):\n",
    "\n",
    "    try:\n",
    "        return nx.shortest_path_length(graph, source=node1, target=node2)\n",
    "    except nx.NetworkXNoPath:\n",
    "        return None  # Return None if no path exists\n"
   ]
  },
  {
   "cell_type": "code",
   "execution_count": 23,
   "metadata": {},
   "outputs": [
    {
     "ename": "NodeNotFound",
     "evalue": "Source nan is not in G",
     "output_type": "error",
     "traceback": [
      "\u001b[0;31m---------------------------------------------------------------------------\u001b[0m",
      "\u001b[0;31mNodeNotFound\u001b[0m                              Traceback (most recent call last)",
      "Cell \u001b[0;32mIn[23], line 5\u001b[0m\n\u001b[1;32m      3\u001b[0m   clid_1 \u001b[38;5;241m=\u001b[39mclids[i] \u001b[38;5;66;03m#LLM annotated CLID\u001b[39;00m\n\u001b[1;32m      4\u001b[0m   clid_2 \u001b[38;5;241m=\u001b[39mgene_list[\u001b[38;5;124m\"\u001b[39m\u001b[38;5;124mmanual_CLID\u001b[39m\u001b[38;5;124m\"\u001b[39m][i] \u001b[38;5;66;03m# manual annotated CLID\u001b[39;00m\n\u001b[0;32m----> 5\u001b[0m   difference \u001b[38;5;241m=\u001b[39m \u001b[43mcalculate_difference\u001b[49m\u001b[43m(\u001b[49m\u001b[43mugraph\u001b[49m\u001b[43m,\u001b[49m\u001b[43m \u001b[49m\u001b[43mclid_1\u001b[49m\u001b[43m,\u001b[49m\u001b[43m \u001b[49m\u001b[43mclid_2\u001b[49m\u001b[43m)\u001b[49m\n\u001b[1;32m      6\u001b[0m   diff_result\u001b[38;5;241m.\u001b[39mappend(difference)\n\u001b[1;32m      8\u001b[0m \u001b[38;5;28mprint\u001b[39m(diff_result)\n",
      "Cell \u001b[0;32mIn[22], line 6\u001b[0m, in \u001b[0;36mcalculate_difference\u001b[0;34m(graph, node1, node2)\u001b[0m\n\u001b[1;32m      3\u001b[0m \u001b[38;5;28;01mdef\u001b[39;00m \u001b[38;5;21mcalculate_difference\u001b[39m(graph, node1, node2):\n\u001b[1;32m      5\u001b[0m     \u001b[38;5;28;01mtry\u001b[39;00m:\n\u001b[0;32m----> 6\u001b[0m         \u001b[38;5;28;01mreturn\u001b[39;00m \u001b[43mnx\u001b[49m\u001b[38;5;241;43m.\u001b[39;49m\u001b[43mshortest_path_length\u001b[49m\u001b[43m(\u001b[49m\u001b[43mgraph\u001b[49m\u001b[43m,\u001b[49m\u001b[43m \u001b[49m\u001b[43msource\u001b[49m\u001b[38;5;241;43m=\u001b[39;49m\u001b[43mnode1\u001b[49m\u001b[43m,\u001b[49m\u001b[43m \u001b[49m\u001b[43mtarget\u001b[49m\u001b[38;5;241;43m=\u001b[39;49m\u001b[43mnode2\u001b[49m\u001b[43m)\u001b[49m\n\u001b[1;32m      7\u001b[0m     \u001b[38;5;28;01mexcept\u001b[39;00m nx\u001b[38;5;241m.\u001b[39mNetworkXNoPath:\n\u001b[1;32m      8\u001b[0m         \u001b[38;5;28;01mreturn\u001b[39;00m \u001b[38;5;28;01mNone\u001b[39;00m\n",
      "File \u001b[0;32m<class 'networkx.utils.decorators.argmap'> compilation 4:3\u001b[0m, in \u001b[0;36margmap_shortest_path_length_1\u001b[0;34m(G, source, target, weight, method, backend, **backend_kwargs)\u001b[0m\n\u001b[1;32m      1\u001b[0m \u001b[38;5;28;01mimport\u001b[39;00m \u001b[38;5;21;01mbz2\u001b[39;00m\n\u001b[1;32m      2\u001b[0m \u001b[38;5;28;01mimport\u001b[39;00m \u001b[38;5;21;01mcollections\u001b[39;00m\n\u001b[0;32m----> 3\u001b[0m \u001b[38;5;28;01mimport\u001b[39;00m \u001b[38;5;21;01mgzip\u001b[39;00m\n\u001b[1;32m      4\u001b[0m \u001b[38;5;28;01mimport\u001b[39;00m \u001b[38;5;21;01minspect\u001b[39;00m\n\u001b[1;32m      5\u001b[0m \u001b[38;5;28;01mimport\u001b[39;00m \u001b[38;5;21;01mitertools\u001b[39;00m\n",
      "File \u001b[0;32m/Library/Frameworks/Python.framework/Versions/3.12/lib/python3.12/site-packages/networkx/utils/backends.py:967\u001b[0m, in \u001b[0;36m_dispatchable.__call__\u001b[0;34m(self, backend, *args, **kwargs)\u001b[0m\n\u001b[1;32m    965\u001b[0m     \u001b[38;5;28;01mif\u001b[39;00m backend \u001b[38;5;129;01mis\u001b[39;00m \u001b[38;5;129;01mnot\u001b[39;00m \u001b[38;5;28;01mNone\u001b[39;00m \u001b[38;5;129;01mand\u001b[39;00m backend \u001b[38;5;241m!=\u001b[39m \u001b[38;5;124m\"\u001b[39m\u001b[38;5;124mnetworkx\u001b[39m\u001b[38;5;124m\"\u001b[39m:\n\u001b[1;32m    966\u001b[0m         \u001b[38;5;28;01mraise\u001b[39;00m \u001b[38;5;167;01mImportError\u001b[39;00m(\u001b[38;5;124mf\u001b[39m\u001b[38;5;124m\"\u001b[39m\u001b[38;5;124m'\u001b[39m\u001b[38;5;132;01m{\u001b[39;00mbackend\u001b[38;5;132;01m}\u001b[39;00m\u001b[38;5;124m'\u001b[39m\u001b[38;5;124m backend is not installed\u001b[39m\u001b[38;5;124m\"\u001b[39m)\n\u001b[0;32m--> 967\u001b[0m     \u001b[38;5;28;01mreturn\u001b[39;00m \u001b[38;5;28;43mself\u001b[39;49m\u001b[38;5;241;43m.\u001b[39;49m\u001b[43morig_func\u001b[49m\u001b[43m(\u001b[49m\u001b[38;5;241;43m*\u001b[39;49m\u001b[43margs\u001b[49m\u001b[43m,\u001b[49m\u001b[43m \u001b[49m\u001b[38;5;241;43m*\u001b[39;49m\u001b[38;5;241;43m*\u001b[39;49m\u001b[43mkwargs\u001b[49m\u001b[43m)\u001b[49m\n\u001b[1;32m    969\u001b[0m \u001b[38;5;66;03m# Use `backend_name` in this function instead of `backend`.\u001b[39;00m\n\u001b[1;32m    970\u001b[0m \u001b[38;5;66;03m# This is purely for aesthetics and to make it easier to search for this\u001b[39;00m\n\u001b[1;32m    971\u001b[0m \u001b[38;5;66;03m# variable since \"backend\" is used in many comments and log/error messages.\u001b[39;00m\n\u001b[1;32m    972\u001b[0m backend_name \u001b[38;5;241m=\u001b[39m backend\n",
      "File \u001b[0;32m/Library/Frameworks/Python.framework/Versions/3.12/lib/python3.12/site-packages/networkx/algorithms/shortest_paths/generic.py:305\u001b[0m, in \u001b[0;36mshortest_path_length\u001b[0;34m(G, source, target, weight, method)\u001b[0m\n\u001b[1;32m    303\u001b[0m \u001b[38;5;28;01mif\u001b[39;00m method \u001b[38;5;241m==\u001b[39m \u001b[38;5;124m\"\u001b[39m\u001b[38;5;124munweighted\u001b[39m\u001b[38;5;124m\"\u001b[39m:\n\u001b[1;32m    304\u001b[0m     path_length \u001b[38;5;241m=\u001b[39m nx\u001b[38;5;241m.\u001b[39msingle_source_shortest_path_length\n\u001b[0;32m--> 305\u001b[0m     paths \u001b[38;5;241m=\u001b[39m \u001b[43mpath_length\u001b[49m\u001b[43m(\u001b[49m\u001b[43mG\u001b[49m\u001b[43m,\u001b[49m\u001b[43m \u001b[49m\u001b[43mtarget\u001b[49m\u001b[43m)\u001b[49m\n\u001b[1;32m    306\u001b[0m \u001b[38;5;28;01melif\u001b[39;00m method \u001b[38;5;241m==\u001b[39m \u001b[38;5;124m\"\u001b[39m\u001b[38;5;124mdijkstra\u001b[39m\u001b[38;5;124m\"\u001b[39m:\n\u001b[1;32m    307\u001b[0m     path_length \u001b[38;5;241m=\u001b[39m nx\u001b[38;5;241m.\u001b[39msingle_source_dijkstra_path_length\n",
      "File \u001b[0;32m<class 'networkx.utils.decorators.argmap'> compilation 12:3\u001b[0m, in \u001b[0;36margmap_single_source_shortest_path_length_9\u001b[0;34m(G, source, cutoff, backend, **backend_kwargs)\u001b[0m\n\u001b[1;32m      1\u001b[0m \u001b[38;5;28;01mimport\u001b[39;00m \u001b[38;5;21;01mbz2\u001b[39;00m\n\u001b[1;32m      2\u001b[0m \u001b[38;5;28;01mimport\u001b[39;00m \u001b[38;5;21;01mcollections\u001b[39;00m\n\u001b[0;32m----> 3\u001b[0m \u001b[38;5;28;01mimport\u001b[39;00m \u001b[38;5;21;01mgzip\u001b[39;00m\n\u001b[1;32m      4\u001b[0m \u001b[38;5;28;01mimport\u001b[39;00m \u001b[38;5;21;01minspect\u001b[39;00m\n\u001b[1;32m      5\u001b[0m \u001b[38;5;28;01mimport\u001b[39;00m \u001b[38;5;21;01mitertools\u001b[39;00m\n",
      "File \u001b[0;32m/Library/Frameworks/Python.framework/Versions/3.12/lib/python3.12/site-packages/networkx/utils/backends.py:967\u001b[0m, in \u001b[0;36m_dispatchable.__call__\u001b[0;34m(self, backend, *args, **kwargs)\u001b[0m\n\u001b[1;32m    965\u001b[0m     \u001b[38;5;28;01mif\u001b[39;00m backend \u001b[38;5;129;01mis\u001b[39;00m \u001b[38;5;129;01mnot\u001b[39;00m \u001b[38;5;28;01mNone\u001b[39;00m \u001b[38;5;129;01mand\u001b[39;00m backend \u001b[38;5;241m!=\u001b[39m \u001b[38;5;124m\"\u001b[39m\u001b[38;5;124mnetworkx\u001b[39m\u001b[38;5;124m\"\u001b[39m:\n\u001b[1;32m    966\u001b[0m         \u001b[38;5;28;01mraise\u001b[39;00m \u001b[38;5;167;01mImportError\u001b[39;00m(\u001b[38;5;124mf\u001b[39m\u001b[38;5;124m\"\u001b[39m\u001b[38;5;124m'\u001b[39m\u001b[38;5;132;01m{\u001b[39;00mbackend\u001b[38;5;132;01m}\u001b[39;00m\u001b[38;5;124m'\u001b[39m\u001b[38;5;124m backend is not installed\u001b[39m\u001b[38;5;124m\"\u001b[39m)\n\u001b[0;32m--> 967\u001b[0m     \u001b[38;5;28;01mreturn\u001b[39;00m \u001b[38;5;28;43mself\u001b[39;49m\u001b[38;5;241;43m.\u001b[39;49m\u001b[43morig_func\u001b[49m\u001b[43m(\u001b[49m\u001b[38;5;241;43m*\u001b[39;49m\u001b[43margs\u001b[49m\u001b[43m,\u001b[49m\u001b[43m \u001b[49m\u001b[38;5;241;43m*\u001b[39;49m\u001b[38;5;241;43m*\u001b[39;49m\u001b[43mkwargs\u001b[49m\u001b[43m)\u001b[49m\n\u001b[1;32m    969\u001b[0m \u001b[38;5;66;03m# Use `backend_name` in this function instead of `backend`.\u001b[39;00m\n\u001b[1;32m    970\u001b[0m \u001b[38;5;66;03m# This is purely for aesthetics and to make it easier to search for this\u001b[39;00m\n\u001b[1;32m    971\u001b[0m \u001b[38;5;66;03m# variable since \"backend\" is used in many comments and log/error messages.\u001b[39;00m\n\u001b[1;32m    972\u001b[0m backend_name \u001b[38;5;241m=\u001b[39m backend\n",
      "File \u001b[0;32m/Library/Frameworks/Python.framework/Versions/3.12/lib/python3.12/site-packages/networkx/algorithms/shortest_paths/unweighted.py:59\u001b[0m, in \u001b[0;36msingle_source_shortest_path_length\u001b[0;34m(G, source, cutoff)\u001b[0m\n\u001b[1;32m     23\u001b[0m \u001b[38;5;250m\u001b[39m\u001b[38;5;124;03m\"\"\"Compute the shortest path lengths from source to all reachable nodes.\u001b[39;00m\n\u001b[1;32m     24\u001b[0m \n\u001b[1;32m     25\u001b[0m \u001b[38;5;124;03mParameters\u001b[39;00m\n\u001b[0;32m   (...)\u001b[0m\n\u001b[1;32m     56\u001b[0m \u001b[38;5;124;03mshortest_path_length\u001b[39;00m\n\u001b[1;32m     57\u001b[0m \u001b[38;5;124;03m\"\"\"\u001b[39;00m\n\u001b[1;32m     58\u001b[0m \u001b[38;5;28;01mif\u001b[39;00m source \u001b[38;5;129;01mnot\u001b[39;00m \u001b[38;5;129;01min\u001b[39;00m G:\n\u001b[0;32m---> 59\u001b[0m     \u001b[38;5;28;01mraise\u001b[39;00m nx\u001b[38;5;241m.\u001b[39mNodeNotFound(\u001b[38;5;124mf\u001b[39m\u001b[38;5;124m\"\u001b[39m\u001b[38;5;124mSource \u001b[39m\u001b[38;5;132;01m{\u001b[39;00msource\u001b[38;5;132;01m}\u001b[39;00m\u001b[38;5;124m is not in G\u001b[39m\u001b[38;5;124m\"\u001b[39m)\n\u001b[1;32m     60\u001b[0m \u001b[38;5;28;01mif\u001b[39;00m cutoff \u001b[38;5;129;01mis\u001b[39;00m \u001b[38;5;28;01mNone\u001b[39;00m:\n\u001b[1;32m     61\u001b[0m     cutoff \u001b[38;5;241m=\u001b[39m \u001b[38;5;28mfloat\u001b[39m(\u001b[38;5;124m\"\u001b[39m\u001b[38;5;124minf\u001b[39m\u001b[38;5;124m\"\u001b[39m)\n",
      "\u001b[0;31mNodeNotFound\u001b[0m: Source nan is not in G"
     ]
    }
   ],
   "source": [
    "diff_result=[]\n",
    "for i in range(len(clids)):\n",
    "  clid_1 =clids[i] #LLM annotated CLID\n",
    "  clid_2 =gene_list[\"manual_CLID\"][i] # manual annotated CLID\n",
    "  difference = calculate_difference(ugraph, clid_1, clid_2)\n",
    "  diff_result.append(difference)\n",
    "\n",
    "print(diff_result)"
   ]
  }
 ],
 "metadata": {
  "kernelspec": {
   "display_name": "Python 3",
   "language": "python",
   "name": "python3"
  },
  "language_info": {
   "codemirror_mode": {
    "name": "ipython",
    "version": 3
   },
   "file_extension": ".py",
   "mimetype": "text/x-python",
   "name": "python",
   "nbconvert_exporter": "python",
   "pygments_lexer": "ipython3",
   "version": "3.12.5"
  }
 },
 "nbformat": 4,
 "nbformat_minor": 2
}
