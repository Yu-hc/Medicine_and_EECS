{
 "cells": [
  {
   "cell_type": "markdown",
   "metadata": {},
   "source": [
    "## Activate virtual environment"
   ]
  },
  {
   "cell_type": "code",
   "execution_count": 43,
   "metadata": {},
   "outputs": [
    {
     "name": "stdout",
     "output_type": "stream",
     "text": [
      "pip 24.0 from /Users/qwer/files/developer/Medicine_and_EECS/MedandEECS_env/lib/python3.12/site-packages/pip (python 3.12)\n"
     ]
    }
   ],
   "source": [
    "%%bash \n",
    "source ./MedandEECS_env/bin/activate\n",
    "pip -V"
   ]
  },
  {
   "cell_type": "markdown",
   "metadata": {},
   "source": [
    "## Import packages"
   ]
  },
  {
   "cell_type": "code",
   "execution_count": 44,
   "metadata": {},
   "outputs": [],
   "source": [
    "import pandas as pd\n",
    "import numpy as np\n",
    "import os\n",
    "from openai import OpenAI\n",
    "from pydantic import BaseModel\n"
   ]
  },
  {
   "cell_type": "markdown",
   "metadata": {},
   "source": [
    "## Initialize client"
   ]
  },
  {
   "cell_type": "code",
   "execution_count": 45,
   "metadata": {},
   "outputs": [
    {
     "ename": "OpenAIError",
     "evalue": "The api_key client option must be set either by passing api_key to the client or by setting the OPENAI_API_KEY environment variable",
     "output_type": "error",
     "traceback": [
      "\u001b[0;31m---------------------------------------------------------------------------\u001b[0m",
      "\u001b[0;31mOpenAIError\u001b[0m                               Traceback (most recent call last)",
      "Cell \u001b[0;32mIn[45], line 1\u001b[0m\n\u001b[0;32m----> 1\u001b[0m client  \u001b[38;5;241m=\u001b[39m \u001b[43mOpenAI\u001b[49m\u001b[43m(\u001b[49m\u001b[43m)\u001b[49m\n",
      "File \u001b[0;32m~/files/developer/Medicine_and_EECS/MedandEECS_env/lib/python3.12/site-packages/openai/_client.py:105\u001b[0m, in \u001b[0;36mOpenAI.__init__\u001b[0;34m(self, api_key, organization, project, base_url, timeout, max_retries, default_headers, default_query, http_client, _strict_response_validation)\u001b[0m\n\u001b[1;32m    103\u001b[0m     api_key \u001b[38;5;241m=\u001b[39m os\u001b[38;5;241m.\u001b[39menviron\u001b[38;5;241m.\u001b[39mget(\u001b[38;5;124m\"\u001b[39m\u001b[38;5;124mOPENAI_API_KEY\u001b[39m\u001b[38;5;124m\"\u001b[39m)\n\u001b[1;32m    104\u001b[0m \u001b[38;5;28;01mif\u001b[39;00m api_key \u001b[38;5;129;01mis\u001b[39;00m \u001b[38;5;28;01mNone\u001b[39;00m:\n\u001b[0;32m--> 105\u001b[0m     \u001b[38;5;28;01mraise\u001b[39;00m OpenAIError(\n\u001b[1;32m    106\u001b[0m         \u001b[38;5;124m\"\u001b[39m\u001b[38;5;124mThe api_key client option must be set either by passing api_key to the client or by setting the OPENAI_API_KEY environment variable\u001b[39m\u001b[38;5;124m\"\u001b[39m\n\u001b[1;32m    107\u001b[0m     )\n\u001b[1;32m    108\u001b[0m \u001b[38;5;28mself\u001b[39m\u001b[38;5;241m.\u001b[39mapi_key \u001b[38;5;241m=\u001b[39m api_key\n\u001b[1;32m    110\u001b[0m \u001b[38;5;28;01mif\u001b[39;00m organization \u001b[38;5;129;01mis\u001b[39;00m \u001b[38;5;28;01mNone\u001b[39;00m:\n",
      "\u001b[0;31mOpenAIError\u001b[0m: The api_key client option must be set either by passing api_key to the client or by setting the OPENAI_API_KEY environment variable"
     ]
    }
   ],
   "source": [
    "client  = OpenAI()"
   ]
  },
  {
   "cell_type": "markdown",
   "metadata": {},
   "source": [
    "## Define output format"
   ]
  },
  {
   "cell_type": "code",
   "execution_count": null,
   "metadata": {},
   "outputs": [],
   "source": [
    "class cellTypeFormat(BaseModel):\n",
    "       cellType: str"
   ]
  },
  {
   "cell_type": "markdown",
   "metadata": {},
   "source": [
    "## Read cell clusters file \n",
    "all.csv"
   ]
  },
  {
   "cell_type": "code",
   "execution_count": null,
   "metadata": {},
   "outputs": [
    {
     "name": "stdout",
     "output_type": "stream",
     "text": [
      "0       MS4A1, TNFRSF13B, IGHM, IGHD, AIM2, CD79A, LIN...\n",
      "1       MS4A1, COCH, AIM2, BANK1, SSPN, CD79A, TEX9, R...\n",
      "2       IGHM, IGHD, CD79A, IL4R, MS4A1, CXCR4, BTG1, T...\n",
      "3       IGHA2, MZB1, TNFRSF17, DERL3, TXNDC5, TNFRSF13...\n",
      "4       GZMH, CD4, FGFBP2, ITGB1, GZMA, CST7, GNLY, B2...\n",
      "                              ...                        \n",
      "1125    KLRD1,NKG7,XCL2,CTSW,XCL1,GNLY,GZMA,KLRB1,KLRC...\n",
      "1126    JCHAIN,MZB1,DERL3,IGHG2,IGHA2,TNFRSF17,SDC1,FC...\n",
      "1127    TFF3,PKHD1L1,PROX1,NTS,FLT4,RELN,GPR182,STAB2,...\n",
      "1128    VWF,ACKR1,PLVAP,PECAM1,AQP1,RAMP3,CLEC14A,SOX1...\n",
      "1129    MSLN,UPK3B,MUC16,CALB2,KLK11,BICDL1,CHAC1,TGM1...\n",
      "Name: marker, Length: 1130, dtype: object\n",
      "dataset                                                               Azimuth\n",
      "tissue                                                                   PBMC\n",
      "marker                      MS4A1, TNFRSF13B, IGHM, IGHD, AIM2, CD79A, LIN...\n",
      "manual_annotation                                         Intermediate B cell\n",
      "manual_CLname                                       transitional stage B cell\n",
      "manual_CLID                                                        CL:0000818\n",
      "manual_broadtype                                                       b cell\n",
      "gpt4aug3_annotation                                                   B Cells\n",
      "gpt4aug3_CLname                                                        B cell\n",
      "gpt4aug3_CLID                                                      CL:0000236\n",
      "gpt4aug3_broadtype                                                     b cell\n",
      "gpt4aug3_agreement                                                        0.5\n",
      "gpt4mar23_annotation                                                  B cells\n",
      "gpt4mar23_CLname                                                       B cell\n",
      "gpt4mar23_CLID                                                     CL:0000236\n",
      "gpt4mar23_broadtype                                                    b cell\n",
      "gpt4mar23_agreement                                                       0.5\n",
      "gpt3.5aug3_annotation                                                 B cells\n",
      "gpt3.5aug3_CLname                                                      B cell\n",
      "gpt3.5aug3_CLID                                                    CL:0000236\n",
      "gpt3.5aug3_broadtype                                                   b cell\n",
      "gpt3.5aug3_agreement                                                      0.5\n",
      "CellMarker2.0_annotation                               Germinal center B cell\n",
      "CellMarker2.0_CLname                                   germinal center B cell\n",
      "CellMarker2.0_CLID                                                 CL:0000844\n",
      "CellMarker2.0_broadtype                                                b cell\n",
      "CellMarker2.0_agreement                                                   0.5\n",
      "SingleR_annotation                                                        NaN\n",
      "SingleR_CLname                                                            NaN\n",
      "SingleR_CLID                                                              NaN\n",
      "SingleR_broadtype                                                         NaN\n",
      "SingleR_agreement                                                         NaN\n",
      "ScType_annotation                                                         NaN\n",
      "ScType_CLname                                                             NaN\n",
      "ScType_CLID                                                               NaN\n",
      "ScType_broadtype                                                          NaN\n",
      "ScType_agreement                                                          NaN\n",
      "Name: 0, dtype: object\n"
     ]
    }
   ],
   "source": [
    "# TODO read all.csv and into dataframe\n",
    "def read_cluster(path):\n",
    "      dataframe = pd.read_csv(path)\n",
    "      print(dataframe['marker'])\n",
    "      return dataframe \n",
    "gene_list = read_cluster('./Data/all.csv')\n",
    "print(gene_list.iloc[0])"
   ]
  },
  {
   "cell_type": "markdown",
   "metadata": {},
   "source": [
    "## Split genelist to generate user messages"
   ]
  },
  {
   "cell_type": "code",
   "execution_count": null,
   "metadata": {},
   "outputs": [
    {
     "name": "stdout",
     "output_type": "stream",
     "text": [
      "0    PBMC : MS4A1, TNFRSF13B, IGHM, IGHD, AIM2, CD7...\n",
      "1    PBMC : MS4A1, COCH, AIM2, BANK1, SSPN, CD79A, ...\n",
      "2    PBMC : IGHM, IGHD, CD79A, IL4R, MS4A1, CXCR4, ...\n",
      "3    PBMC : IGHA2, MZB1, TNFRSF17, DERL3, TXNDC5, T...\n",
      "4    PBMC : GZMH, CD4, FGFBP2, ITGB1, GZMA, CST7, G...\n",
      "5    PBMC : TCF7, CD4, CCR7, IL7R, FHIT, LEF1, MAL,...\n",
      "6    PBMC : MKI67, TOP2A, PCLAF, CENPF, TYMS, NUSAP...\n",
      "7    PBMC : IL7R, TMSB10, CD4, ITGB1, LTB, TRAC, AQ...\n",
      "8    PBMC : IL7R, CCL5, FYB1, GZMK, IL32, GZMA, KLR...\n",
      "9    PBMC : RTKN2, FOXP3, AC133644.2, CD4, IL2RA, T...\n",
      "dtype: object\n"
     ]
    }
   ],
   "source": [
    "# Generate the user message for each chunk\n",
    "def generate_user_message(gene_list:  pd.DataFrame, max_chunk_size=100) -> list:\n",
    "    # Split the gene_list into chunks\n",
    "    chunks = [group for _, group in gene_list.groupby(gene_list.index // max_chunk_size)]\n",
    "    messages = []\n",
    "    for chunk in chunks:\n",
    "        # Construct the user message for each chunk\n",
    "        user_message = (\n",
    "            chunk['tissue'] + ' : '\n",
    "            + chunk['marker']\n",
    "        )\n",
    "        messages.append(user_message)\n",
    "    return messages\n",
    "\n",
    "# Generate messages with a tunable chunk size\n",
    "messages = generate_user_message(gene_list, max_chunk_size=10)  # Adjust max_chunk_size as needed\n",
    "print(messages[0])"
   ]
  },
  {
   "cell_type": "markdown",
   "metadata": {},
   "source": [
    "## Upload file"
   ]
  },
  {
   "cell_type": "code",
   "execution_count": null,
   "metadata": {},
   "outputs": [],
   "source": [
    "def upload_cell_cluster(filename):\n",
    "       global client\n",
    "       client.files.create(\n",
    "              file=open(filename, \"rb\"),\n",
    "              purpose=\"assistant\"\n",
    "       )\n",
    "       print(client.files.list())"
   ]
  },
  {
   "cell_type": "markdown",
   "metadata": {},
   "source": [
    "## Send prompt to GPT models"
   ]
  },
  {
   "cell_type": "code",
   "execution_count": null,
   "metadata": {},
   "outputs": [],
   "source": [
    "def annotateCell(messages: list)->list:\n",
    "    global client\n",
    "    responses = []\n",
    "    for message in messages:\n",
    "        completion = client.beta.chat.completions.parse(\n",
    "            model=\"gpt-4o-2024-08-06\",\n",
    "            messages=[\n",
    "                {\"role\": \"system\", \"content\":  \"Identify cell types using the following tissue name and markers separately for each row. \"\n",
    "            + \"Only provide the cell type name. \"\n",
    "            + \"Do not show numbers before the name. \"\n",
    "            + \"Some can be a mixture of multiple cell types.\"},\n",
    "                {\"role\": \"user\", \"content\": message}\n",
    "            ],\n",
    "            response_format=cellTypeFormat,\n",
    "        )\n",
    "        responses.append(completion.choices[0].message.parsed)\n",
    "    return responses\n"
   ]
  },
  {
   "cell_type": "code",
   "execution_count": null,
   "metadata": {},
   "outputs": [],
   "source": []
  }
 ],
 "metadata": {
  "kernelspec": {
   "display_name": "MedandEECS_env",
   "language": "python",
   "name": "python3"
  },
  "language_info": {
   "codemirror_mode": {
    "name": "ipython",
    "version": 3
   },
   "file_extension": ".py",
   "mimetype": "text/x-python",
   "name": "python",
   "nbconvert_exporter": "python",
   "pygments_lexer": "ipython3",
   "version": "3.12.4"
  }
 },
 "nbformat": 4,
 "nbformat_minor": 2
}
