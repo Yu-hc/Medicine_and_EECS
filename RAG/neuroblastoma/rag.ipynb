{
 "cells": [
  {
   "cell_type": "markdown",
   "metadata": {},
   "source": [
    "## install required packages\n",
    "run the following command line in terminal\n",
    "\n",
    "       pip install -r requirements.txt"
   ]
  },
  {
   "cell_type": "markdown",
   "metadata": {},
   "source": [
    "## Import packages"
   ]
  },
  {
   "cell_type": "code",
   "execution_count": 1,
   "metadata": {},
   "outputs": [
    {
     "data": {
      "text/plain": [
       "False"
      ]
     },
     "execution_count": 1,
     "metadata": {},
     "output_type": "execute_result"
    }
   ],
   "source": [
    "import pandas as pd\n",
    "import numpy as np\n",
    "import os\n",
    "import json\n",
    "import obonet\n",
    "import inflect\n",
    "import networkx as nx\n",
    "import matplotlib.pyplot as plt\n",
    "import requests\n",
    "import re\n",
    "from openai import OpenAI\n",
    "from pydantic import BaseModel\n",
    "import google.generativeai as genai\n",
    "from dotenv import load_dotenv\n",
    "load_dotenv()\n"
   ]
  },
  {
   "cell_type": "markdown",
   "metadata": {},
   "source": [
    "## Define output format"
   ]
  },
  {
   "cell_type": "code",
   "execution_count": 2,
   "metadata": {},
   "outputs": [],
   "source": [
    "class cellTypeFormat(BaseModel):\n",
    "       cellType: str"
   ]
  },
  {
   "cell_type": "markdown",
   "metadata": {},
   "source": [
    "## Read cell clusters file \n",
    "file path set to ./Data/all.csv"
   ]
  },
  {
   "cell_type": "code",
   "execution_count": 3,
   "metadata": {},
   "outputs": [
    {
     "name": "stdout",
     "output_type": "stream",
     "text": [
      "0     LIM2,FGFBP2,KLRF1,NCR1,SPON2,LRRC43,S1PR5,SH2D...\n",
      "1     RP11-265P11.1,CTD-2215E18.1,LINC01013,RP11-524...\n",
      "2     LINC00211,RP11-552D4.1,OLIG1,RP11-362F19.3,CTC...\n",
      "3     DBX2,LINC01351,LRRC71,ENOX1-AS1,NPFF,RP4-753F5...\n",
      "4     MDGA2,RALYL,RP11-746B8.1,CTC-575N7.1,HCRTR2,WN...\n",
      "5     KRT73-AS1,KRT1,ST6GALNAC1,ANKRD55,RP11-664D1.1...\n",
      "6     CCL18,RP11-20G13.3,RP11-489O18.1,APOC4-APOC2,S...\n",
      "7     ,RP5-997D24.3,TRAV27,CCL1,RP11-357H14.17,UNQ64...\n",
      "8     ZNF488,GLRA2,RP11-126K15.1,GRK1,CTD-2659N19.2,...\n",
      "9     ZNF488,GLRA2,RP11-126K15.1,GRK1,CTD-2659N19.2,...\n",
      "10    RP11-71G12.1,RFPL4A,RFPL4AL1,SPACA3,RP11-476B1...\n",
      "11    ,C6orf141,RP11-567J20.2,TM4SF1-AS1,GJA5,GDF3,S...\n",
      "12    TPSAB1,TPSB2,TPSD1,MTTP,KRT25,AC005780.1,HDC,A...\n",
      "13    RP11-402G3.3,KIRREL2,TEX13D,CTD-2616J11.14,PKL...\n",
      "14    DSC3,SGCG,LINC01048,MASP1,LINC01564,SCARA5,RP1...\n",
      "15    RP11-865I6.2,C4B,RP11-598F7.5,JPH2,RERGL,COL10...\n",
      "16    GRHL2,RP11-167J8.3,LINC01511,RP5-1092A11.5,RP1...\n",
      "17    IGHG2,IGHGP,IGHG3,IGHG4,RP11-768B22.2,IGHG1,FA...\n",
      "18    LIM2,FGFBP2,KLRF1,NCR1,SPON2,LRRC43,S1PR5,SH2D...\n",
      "19    RP11-265P11.1,CTD-2215E18.1,LINC01013,RP11-524...\n",
      "20    LINC00211,RP11-552D4.1,OLIG1,RP11-362F19.3,CTC...\n",
      "21    DBX2,LINC01351,LRRC71,ENOX1-AS1,NPFF,RP4-753F5...\n",
      "22    MDGA2,RALYL,RP11-746B8.1,CTC-575N7.1,HCRTR2,WN...\n",
      "23    KRT73-AS1,KRT1,ST6GALNAC1,ANKRD55,RP11-664D1.1...\n",
      "24    RSPO4,GABRA5,RP11-91P17.1,RP11-546B8.6,HAPLN4,...\n",
      "25    CCL18,RP11-20G13.3,RP11-489O18.1,APOC4-APOC2,S...\n",
      "26    RP5-997D24.3,TRAV27,CCL1,RP11-357H14.17,UNQ649...\n",
      "27    ZNF488,GLRA2,RP11-126K15.1,GRK1,CTD-2659N19.2,...\n",
      "28    RP11-71G12.1,RFPL4A,RFPL4AL1,SPACA3,RP11-476B1...\n",
      "29    C6orf141,RP11-567J20.2,TM4SF1-AS1,GJA5,GDF3,SE...\n",
      "30    TPSAB1,TPSB2,TPSD1,MTTP,KRT25,AC005780.1,HDC,A...\n",
      "31    RP11-402G3.3,KIRREL2,TEX13D,CTD-2616J11.14,PKL...\n",
      "32    DSC3,SGCG,LINC01048,MASP1,LINC01564,SCARA5,RP1...\n",
      "33    RP11-865I6.2,C4B,RP11-598F7.5,JPH2,RERGL,COL10...\n",
      "34    GRHL2,RP11-167J8.3,LINC01511,RP5-1092A11.5,RP1...\n",
      "35    IGHG2,IGHGP,IGHG3,IGHG4,RP11-768B22.2,IGHG1,FA...\n",
      "36    LIM2,FGFBP2,KLRF1,NCR1,SPON2,LRRC43,S1PR5,SH2D...\n",
      "37    RP11-265P11.1,CTD-2215E18.1,LINC01013,RP11-524...\n",
      "38    LINC00211,RP11-552D4.1,OLIG1,RP11-362F19.3,CTC...\n",
      "39    DBX2,LINC01351,LRRC71,ENOX1-AS1,NPFF,RP4-753F5...\n",
      "40    MDGA2,RALYL,RP11-746B8.1,CTC-575N7.1,HCRTR2,WN...\n",
      "41    KRT73-AS1,KRT1,ST6GALNAC1,ANKRD55,RP11-664D1.1...\n",
      "42    RSPO4,GABRA5,RP11-91P17.1,RP11-546B8.6,HAPLN4,...\n",
      "43    CCL18,RP11-20G13.3,RP11-489O18.1,APOC4-APOC2,S...\n",
      "44    RP5-997D24.3,TRAV27,CCL1,RP11-357H14.17,UNQ649...\n",
      "45    ZNF488,GLRA2,RP11-126K15.1,GRK1,CTD-2659N19.2,...\n",
      "46    RP11-71G12.1,RFPL4A,RFPL4AL1,SPACA3,RP11-476B1...\n",
      "47    C6orf141,RP11-567J20.2,TM4SF1-AS1,GJA5,GDF3,SE...\n",
      "48    TPSAB1,TPSB2,TPSD1,MTTP,KRT25,AC005780.1,HDC,A...\n",
      "49    RP11-402G3.3,KIRREL2,TEX13D,CTD-2616J11.14,PKL...\n",
      "50    DSC3,SGCG,LINC01048,MASP1,LINC01564,SCARA5,RP1...\n",
      "51    RP11-865I6.2,C4B,RP11-598F7.5,JPH2,RERGL,COL10...\n",
      "52    GRHL2,RP11-167J8.3,LINC01511,RP5-1092A11.5,RP1...\n",
      "53    IGHG2,IGHGP,IGHG3,IGHG4,RP11-768B22.2,IGHG1,FA...\n",
      "Name: marker, dtype: object\n",
      "tissue                                            neuroblastoma tissue\n",
      "top_n                                                               10\n",
      "marker               LIM2,FGFBP2,KLRF1,NCR1,SPON2,LRRC43,S1PR5,SH2D...\n",
      "manual_annotation                                  natural killer cell\n",
      "manual_CLname                                      natural killer cell\n",
      "manual_CLID                                                 CL:0000623\n",
      "manual_broadtype                                             t/nk cell\n",
      "Name: 0, dtype: object\n"
     ]
    }
   ],
   "source": [
    "def read_cluster(path):\n",
    "      dataframe = pd.read_csv(path)\n",
    "      print(dataframe['marker'])\n",
    "      return dataframe \n",
    "gene_list = read_cluster('./testing/4_neuroblastoma.csv')\n",
    "print(gene_list.iloc[0])"
   ]
  },
  {
   "cell_type": "markdown",
   "metadata": {},
   "source": [
    "## Split genelist\n",
    "split genelist to multiple chunks so that it won't exceed model input size"
   ]
  },
  {
   "cell_type": "code",
   "execution_count": 4,
   "metadata": {},
   "outputs": [
    {
     "name": "stdout",
     "output_type": "stream",
     "text": [
      "['LIM2,FGFBP2,KLRF1,NCR1,SPON2,LRRC43,S1PR5,SH2D1B,DTHD1,SLC1A7', 'RP11-265P11.1,CTD-2215E18.1,LINC01013,RP11-524N5.1,IGHD,RP11-553K8.2,RP5-887A10.1,RP3-416J7.4,BEST3,RP11-693J15.5', 'LINC00211,RP11-552D4.1,OLIG1,RP11-362F19.3,CTC-490G23.2,RP11-561P12.5,CLEC6A,PPP1R17,RP11-737O24.5,RP11-362F19.1', 'DBX2,LINC01351,LRRC71,ENOX1-AS1,NPFF,RP4-753F5.1,NKX6-2,TSPY2,AC105402.4,RP11-49P4.7', 'MDGA2,RALYL,RP11-746B8.1,CTC-575N7.1,HCRTR2,WNT6,SST,NPAS4,TMEM132D,RP11-446H18.6', 'KRT73-AS1,KRT1,ST6GALNAC1,ANKRD55,RP11-664D1.1,HBE1,TSPO2,GCNT4,NOG,REG4', 'CCL18,RP11-20G13.3,RP11-489O18.1,APOC4-APOC2,SIGLEC8,RP11-202G18.1,TREM2,RP3-369A17.4,DNASE2B,CTB-138E5.1RSPO4,GABRA5,RP11-91P17.1,RP11-546B8.6,HAPLN4,AGXT,RP5-968D22.1,RP11-1038A11.3,FEV,ALX3', ',RP5-997D24.3,TRAV27,CCL1,RP11-357H14.17,UNQ6494,CTD-3195I5.3,AP001171.1,LINC00880,IL26,CXCL13', 'ZNF488,GLRA2,RP11-126K15.1,GRK1,CTD-2659N19.2,PRSS8,AC097381.1,GRM2,AC015849.16,RP4-585I14.3', 'ZNF488,GLRA2,RP11-126K15.1,GRK1,CTD-2659N19.2,PRSS8,AC097381.1,GRM2,AC015849.16,RP4-585I14.3', 'RP11-71G12.1,RFPL4A,RFPL4AL1,SPACA3,RP11-476B1.1,RP11-164P12.3,AC005307.1,RP11-731D1.4,CLEC9A,LINC01531', ',C6orf141,RP11-567J20.2,TM4SF1-AS1,GJA5,GDF3,SELE,CCL14,EMCN,STAB2,FCN3', 'TPSAB1,TPSB2,TPSD1,MTTP,KRT25,AC005780.1,HDC,AC004791.2,AC024704.2,KRT83', 'RP11-402G3.3,KIRREL2,TEX13D,CTD-2616J11.14,PKLR,CTC-338M12.6,AF064858.6,RP11-356I2.1,HIST1H1B,RP11-20B24.2', 'DSC3,SGCG,LINC01048,MASP1,LINC01564,SCARA5,RP11-125O18.1,SPRR2F,ITIH3,RP11-17A4.3', 'RP11-865I6.2,C4B,RP11-598F7.5,JPH2,RERGL,COL10A1,TDO2,FHL5,RP11-91J3.3,CHAD', 'GRHL2,RP11-167J8.3,LINC01511,RP5-1092A11.5,RP11-127L20.5,RP11-24I21.1,AC093627.7,RP11-35G22.1,RP3-441A12.1,RP4-813D12.3', 'IGHG2,IGHGP,IGHG3,IGHG4,RP11-768B22.2,IGHG1,FA2H,OR4C6,AC233755.2,IGHV4-28', 'LIM2,FGFBP2,KLRF1,NCR1,SPON2,LRRC43,S1PR5,SH2D1B,DTHD1,SLC1A7,PRF1,KLRC1,KRT72,B3GNT7,GNLY,MYOM2,LGALS9B,KIR2DL3,CLIC3,LGR6', 'RP11-265P11.1,CTD-2215E18.1,LINC01013,RP11-524N5.1,IGHD,RP11-553K8.2,RP5-887A10.1,RP3-416J7.4,BEST3,RP11-693J15.5,GYLTL1B,RP3-431P23.5,LINC00926,FCER2,SLC23A1,TCL1B,CLLU1,MS4A1,COL19A1,RP11-164H13.1', 'LINC00211,RP11-552D4.1,OLIG1,RP11-362F19.3,CTC-490G23.2,RP11-561P12.5,CLEC6A,PPP1R17,RP11-737O24.5,RP11-362F19.1,S100A12,IRG1,HAL,VSTM1,RP11-764K9.1,LIPN,S100A9,CLEC4D,S100A8,SLC24A4', 'DBX2,LINC01351,LRRC71,ENOX1-AS1,NPFF,RP4-753F5.1,NKX6-2,TSPY2,AC105402.4,RP11-49P4.7,RP11-29B2.6,AC007250.4,CIDEA,POF1B,UNC5B-AS1,CTD-2313P7.1,RP11-403A21.1,RP11-62H20.1,RP11-147C23.1,CTD-2523D13.2', 'MDGA2,RALYL,RP11-746B8.1,CTC-575N7.1,HCRTR2,WNT6,SST,NPAS4,TMEM132D,RP11-446H18.6,LINC00951,RP11-168K9.2,TMEM132E,RP11-1109F11.5,GRIN2A,TENM2,VIP,RP11-283G6.4,LRFN2,ADCY5', 'KRT73-AS1,KRT1,ST6GALNAC1,ANKRD55,RP11-664D1.1,HBE1,TSPO2,GCNT4,NOG,REG4,PASK,C9orf135,PRKG2,RP1-187B23.1,ERVH48-1,AC097713.4,ADTRP,TRBV28,MDS2,CELA1', 'RSPO4,GABRA5,RP11-91P17.1,RP11-546B8.6,HAPLN4,AGXT,RP5-968D22.1,RP11-1038A11.3,FEV,ALX3,ABCA12,ZNF560,ASCL1,LINC01563,AC093375.1,RP11-197K6.1,ARL9,MUC4,RP11-129M6.1,AC002076.10', 'CCL18,RP11-20G13.3,RP11-489O18.1,APOC4-APOC2,SIGLEC8,RP11-202G18.1,TREM2,RP3-369A17.4,DNASE2B,CTB-138E5.1,BIRC7,ADAMDEC1,RP11-212I21.5,RP11-10J5.1,MMP12,TNFSF18,MMP1,LINC01305,APOC2,SDS', 'RP5-997D24.3,TRAV27,CCL1,RP11-357H14.17,UNQ6494,CTD-3195I5.3,AP001171.1,LINC00880,IL26,CXCL13,TRBV18,FOXP3,RP11-764E7.1,TRAV36DV7,GBP7,PVALB,RP11-403B2.7,PCAT29,GML,AC017002.1', 'ZNF488,GLRA2,RP11-126K15.1,GRK1,CTD-2659N19.2,PRSS8,AC097381.1,GRM2,AC015849.16,RP4-585I14.3,AC016629.3,RP11-31E13.2,PBK,TRBV23OR9-2,RP11-845C23.3,RP13-672B3.2,AC068057.1,PRH1-PRR4,LINC01264,LINC00403', 'RP11-71G12.1,RFPL4A,RFPL4AL1,SPACA3,RP11-476B1.1,RP11-164P12.3,AC005307.1,RP11-731D1.4,CLEC9A,LINC01531,NLRP7,KRT5,SCT,RP11-73G16.2,XCR1,LLNLR-304G9.1,LRRC26,RP11-798K3.3,SLC12A3,CTB-50L17.9', 'C6orf141,RP11-567J20.2,TM4SF1-AS1,GJA5,GDF3,SELE,CCL14,EMCN,STAB2,FCN3,ESM1,SOX18,ADGRL4,MMRN2,RP11-327L3.3,RP11-286H15.1,HOXB8,SLCO2A1,AP005530.2,ANO2', 'TPSAB1,TPSB2,TPSD1,MTTP,KRT25,AC005780.1,HDC,AC004791.2,AC024704.2,KRT83,RP11-264I13.2,RP11-187E13.1,FAM53B-AS1,PMCH,CALB2,TRBV4-1,TRAV41,IL13,FGG,CPA3', 'RP11-402G3.3,KIRREL2,TEX13D,CTD-2616J11.14,PKLR,CTC-338M12.6,AF064858.6,RP11-356I2.1,HIST1H1B,RP11-20B24.2,RP11-1035H13.3,RP11-489D6.2,HIST1H3G,NMU,E2F8,HIST1H2AJ,CTA-392E5.1,DLGAP5,CENPA,CENPE', 'DSC3,SGCG,LINC01048,MASP1,LINC01564,SCARA5,RP11-125O18.1,SPRR2F,ITIH3,RP11-17A4.3,C1QTNF7,MATN4,CSN3,RP11-262A16.1,VGLL3,GLP2R,KRT24,LINC01028,LMO7DN,PCOLCE2', 'RP11-865I6.2,C4B,RP11-598F7.5,JPH2,RERGL,COL10A1,TDO2,FHL5,RP11-91J3.3,CHAD,MYOD1,BMP5,WWC2-AS2,GSTA3,C4A,BHLHE22,THBS4,EN1,SIX2,HSD3B2', 'GRHL2,RP11-167J8.3,LINC01511,RP5-1092A11.5,RP11-127L20.5,RP11-24I21.1,AC093627.7,RP11-35G22.1,RP3-441A12.1,RP4-813D12.3,RP11-157E21.1,RP11-736N17.10,AC005197.2,RP11-23F23.2,ALKBH3-AS1,RP11-138I17.1,PRR15,CTC-435M10.3,PLIN4,RGS8', 'IGHG2,IGHGP,IGHG3,IGHG4,RP11-768B22.2,IGHG1,FA2H,OR4C6,AC233755.2,IGHV4-28,RP11-686F15.2,LINC01485,PRSS16,RP11-567J20.3,PANDAR,RP11-625L16.3,SAMD7,RP1-148H17.1,CFAP57,FCRL4', 'LIM2,FGFBP2,KLRF1,NCR1,SPON2,LRRC43,S1PR5,SH2D1B,DTHD1,SLC1A7,PRF1,KLRC1,KRT72,B3GNT7,GNLY,MYOM2,LGALS9B,KIR2DL3,CLIC3,LGR6,NKG7,GZMB,SYTL3,RP11-308N19.1,PTGDR,CD160,RP11-81H14.2,RP11-121A8.1,TBX21,FASLG', 'RP11-265P11.1,CTD-2215E18.1,LINC01013,RP11-524N5.1,IGHD,RP11-553K8.2,RP5-887A10.1,RP3-416J7.4,BEST3,RP11-693J15.5,GYLTL1B,RP3-431P23.5,LINC00926,FCER2,SLC23A1,TCL1B,CLLU1,MS4A1,COL19A1,RP11-164H13.1,VPREB3,FCRLA,OSBPL10-AS1,PAX5,AP001059.5,BMP3,LINC01374,TCL1A,CCDC191,RP11-297B17.3', 'LINC00211,RP11-552D4.1,OLIG1,RP11-362F19.3,CTC-490G23.2,RP11-561P12.5,CLEC6A,PPP1R17,RP11-737O24.5,RP11-362F19.1,S100A12,IRG1,HAL,VSTM1,RP11-764K9.1,LIPN,S100A9,CLEC4D,S100A8,SLC24A4,FPR1,VNN1,PROK2,SIGLEC5,SERPINB10,ACPP,MEFV,C19orf35,FCN1,HP', 'DBX2,LINC01351,LRRC71,ENOX1-AS1,NPFF,RP4-753F5.1,NKX6-2,TSPY2,AC105402.4,RP11-49P4.7,RP11-29B2.6,AC007250.4,CIDEA,POF1B,UNC5B-AS1,CTD-2313P7.1,RP11-403A21.1,RP11-62H20.1,RP11-147C23.1,CTD-2523D13.2,CARTPT,SGCZ,ASIC2,UCN3,C1QL4,IGF2-AS,SORCS3,ADCY8,PROKR1,CTA-796E4.4', 'MDGA2,RALYL,RP11-746B8.1,CTC-575N7.1,HCRTR2,WNT6,SST,NPAS4,TMEM132D,RP11-446H18.6,LINC00951,RP11-168K9.2,TMEM132E,RP11-1109F11.5,GRIN2A,TENM2,VIP,RP11-283G6.4,LRFN2,ADCY5,AC003986.5,RP11-161D15.2,CTD-2240J17.1,DKK1,CDH20,RP5-1102E8.3,RP11-1102P16.1,U91319.1,TRBVB,BRINP1', 'KRT73-AS1,KRT1,ST6GALNAC1,ANKRD55,RP11-664D1.1,HBE1,TSPO2,GCNT4,NOG,REG4,PASK,C9orf135,PRKG2,RP1-187B23.1,ERVH48-1,AC097713.4,ADTRP,TRBV28,MDS2,CELA1,HBG2,LEF1,IL7R,GYPB,ALAS2,CCR7,UNC45B,LYPD3,TDRD12,CD28', 'RSPO4,GABRA5,RP11-91P17.1,RP11-546B8.6,HAPLN4,AGXT,RP5-968D22.1,RP11-1038A11.3,FEV,ALX3,ABCA12,ZNF560,ASCL1,LINC01563,AC093375.1,RP11-197K6.1,ARL9,MUC4,RP11-129M6.1,AC002076.10,CRYGD,RP11-328K4.1,LLNLR-249E10.1,DDN,RP11-132A1.4,RP5-1096J16.1,CPLX3,AC097468.4,PAGE2,SELV', 'CCL18,RP11-20G13.3,RP11-489O18.1,APOC4-APOC2,SIGLEC8,RP11-202G18.1,TREM2,RP3-369A17.4,DNASE2B,CTB-138E5.1,BIRC7,ADAMDEC1,RP11-212I21.5,RP11-10J5.1,MMP12,TNFSF18,MMP1,LINC01305,APOC2,SDS,L3MBTL4-AS1,RP3-460G2.2,APOC1,MT1H,AC004988.1,SPP1,CHI3L1,OTOA,NT5DC4,UBD', 'RP5-997D24.3,TRAV27,CCL1,RP11-357H14.17,UNQ6494,CTD-3195I5.3,AP001171.1,LINC00880,IL26,CXCL13,TRBV18,FOXP3,RP11-764E7.1,TRAV36DV7,GBP7,PVALB,RP11-403B2.7,PCAT29,GML,AC017002.1,TNIP3,ZBED2,FAM9B,RP11-223C24.1,AC133644.2,RP11-73M14.1,C2CD4D,ZBTB32,ZFP57,C15orf53', 'ZNF488,GLRA2,RP11-126K15.1,GRK1,CTD-2659N19.2,PRSS8,AC097381.1,GRM2,AC015849.16,RP4-585I14.3,AC016629.3,RP11-31E13.2,PBK,TRBV23OR9-2,RP11-845C23.3,RP13-672B3.2,AC068057.1,PRH1-PRR4,LINC01264,LINC00403,SPDYE2,ZNF732,IL17RB,NHLH2,GABRB2,FAM64A,RP11-699A5.2,VWA7,GS1-24F4.2,RP5-1166F10.1', 'RP11-71G12.1,RFPL4A,RFPL4AL1,SPACA3,RP11-476B1.1,RP11-164P12.3,AC005307.1,RP11-731D1.4,CLEC9A,LINC01531,NLRP7,KRT5,SCT,RP11-73G16.2,XCR1,LLNLR-304G9.1,LRRC26,RP11-798K3.3,SLC12A3,CTB-50L17.9,CLEC4C,PTCRA,IDO1,SMIM6,IL22RA2,MIR4432HG,PROC,LILRA4,ASIP,LAD1', 'C6orf141,RP11-567J20.2,TM4SF1-AS1,GJA5,GDF3,SELE,CCL14,EMCN,STAB2,FCN3,ESM1,SOX18,ADGRL4,MMRN2,RP11-327L3.3,RP11-286H15.1,HOXB8,SLCO2A1,AP005530.2,ANO2,FRMPD4,LINC01546,SOX17,SSTR1,ECSCR.1,CLEC14A,KDR,GPIHBP1,HID1-AS1,CD300LG', 'TPSAB1,TPSB2,TPSD1,MTTP,KRT25,AC005780.1,HDC,AC004791.2,AC024704.2,KRT83,RP11-264I13.2,RP11-187E13.1,FAM53B-AS1,PMCH,CALB2,TRBV4-1,TRAV41,IL13,FGG,CPA3,CTD-2287O16.4,GC,RP11-723D22.3,RP11-231E6.1,TRDV1,TM4SF5,RP11-103C16.2,GSTA1,SLC35G3,HPN', 'RP11-402G3.3,KIRREL2,TEX13D,CTD-2616J11.14,PKLR,CTC-338M12.6,AF064858.6,RP11-356I2.1,HIST1H1B,RP11-20B24.2,RP11-1035H13.3,RP11-489D6.2,HIST1H3G,NMU,E2F8,HIST1H2AJ,CTA-392E5.1,DLGAP5,CENPA,CENPE,KLF1,ASPM,YBX2,HIST1H3F,CDCA8,AC000036.4,CDKN3,GAD1,AHSP,CEP55', 'DSC3,SGCG,LINC01048,MASP1,LINC01564,SCARA5,RP11-125O18.1,SPRR2F,ITIH3,RP11-17A4.3,C1QTNF7,MATN4,CSN3,RP11-262A16.1,VGLL3,GLP2R,KRT24,LINC01028,LMO7DN,PCOLCE2,KRT13,TCF21,PAMR1,SPRR2B,LINC00578,AP001627.1,CTD-2298J14.2,PPP1R1B,KCTD8,ADAMTS16', 'RP11-865I6.2,C4B,RP11-598F7.5,JPH2,RERGL,COL10A1,TDO2,FHL5,RP11-91J3.3,CHAD,MYOD1,BMP5,WWC2-AS2,GSTA3,C4A,BHLHE22,THBS4,EN1,SIX2,HSD3B2,MYOG,RP11-118A3.1,RP11-25I15.3,RP11-297J22.1,RP11-394O4.5,REM1,FOXS1,SFRP5,SIX1,MYOCD', 'GRHL2,RP11-167J8.3,LINC01511,RP5-1092A11.5,RP11-127L20.5,RP11-24I21.1,AC093627.7,RP11-35G22.1,RP3-441A12.1,RP4-813D12.3,RP11-157E21.1,RP11-736N17.10,AC005197.2,RP11-23F23.2,ALKBH3-AS1,RP11-138I17.1,PRR15,CTC-435M10.3,PLIN4,RGS8,CYP1A1,RP11-217B7.2,RP11-256L6.3,MTRNR2L13,RP11-321E2.3,ZAR1L,RP11-318K12.2,AC084082.3,AC073257.2,RP11-1082L8.3', 'IGHG2,IGHGP,IGHG3,IGHG4,RP11-768B22.2,IGHG1,FA2H,OR4C6,AC233755.2,IGHV4-28,RP11-686F15.2,LINC01485,PRSS16,RP11-567J20.3,PANDAR,RP11-625L16.3,SAMD7,RP1-148H17.1,CFAP57,FCRL4,IL12B,CTD-2342N23.3,LINC00582,AC096579.13,WNT5A-AS1,IGLV5-48,MEF2B,UGT2B17,AC233755.1,IGKV1D-13']\n"
     ]
    }
   ],
   "source": [
    "# Generate the user message for each chunk\n",
    "def generate_user_message(gene_list:  pd.DataFrame, max_chunk_size=100) -> list:\n",
    "    # Split the gene_list into chunks\n",
    "    data = gene_list[gene_list[\"tissue\"] == \"neuroblastoma tissue\"]\n",
    "\n",
    "    return data['marker'].to_list()\n",
    "\n",
    "# Generate messages with a tunable chunk size\n",
    "messages = generate_user_message(gene_list, max_chunk_size=1)  # Adjust max_chunk_size as needed\n",
    "print(messages)"
   ]
  },
  {
   "cell_type": "markdown",
   "metadata": {},
   "source": [
    "## Gemeni ai"
   ]
  },
  {
   "cell_type": "markdown",
   "metadata": {},
   "source": [
    "### model configuration\n",
    "set the GOOGLE_API_KEY under .env file"
   ]
  },
  {
   "cell_type": "code",
   "execution_count": 5,
   "metadata": {},
   "outputs": [
    {
     "ename": "NameError",
     "evalue": "name 'genai' is not defined",
     "output_type": "error",
     "traceback": [
      "\u001b[0;31m---------------------------------------------------------------------------\u001b[0m",
      "\u001b[0;31mNameError\u001b[0m                                 Traceback (most recent call last)",
      "Cell \u001b[0;32mIn[5], line 1\u001b[0m\n\u001b[0;32m----> 1\u001b[0m \u001b[43mgenai\u001b[49m\u001b[38;5;241m.\u001b[39mconfigure(api_key\u001b[38;5;241m=\u001b[39mos\u001b[38;5;241m.\u001b[39mgetenv(\u001b[38;5;124m\"\u001b[39m\u001b[38;5;124mGOOGLE_API_KEY\u001b[39m\u001b[38;5;124m\"\u001b[39m))\n\u001b[1;32m      2\u001b[0m gemeni_model \u001b[38;5;241m=\u001b[39m genai\u001b[38;5;241m.\u001b[39mGenerativeModel(\u001b[38;5;124m\"\u001b[39m\u001b[38;5;124mgemini-1.5-flash\u001b[39m\u001b[38;5;124m\"\u001b[39m)\n\u001b[1;32m      3\u001b[0m gemeni_config \u001b[38;5;241m=\u001b[39m genai\u001b[38;5;241m.\u001b[39mGenerationConfig(response_mime_type\u001b[38;5;241m=\u001b[39m\u001b[38;5;124m\"\u001b[39m\u001b[38;5;124mapplication/json\u001b[39m\u001b[38;5;124m\"\u001b[39m,response_schema\u001b[38;5;241m=\u001b[39m\u001b[38;5;28mlist\u001b[39m[cellTypeFormat])\n",
      "\u001b[0;31mNameError\u001b[0m: name 'genai' is not defined"
     ]
    }
   ],
   "source": [
    "genai.configure(api_key=os.getenv(\"GOOGLE_API_KEY\"))\n",
    "gemeni_model = genai.GenerativeModel(\"gemini-1.5-flash\")\n",
    "gemeni_config = genai.GenerationConfig(response_mime_type=\"application/json\",response_schema=list[cellTypeFormat])"
   ]
  },
  {
   "cell_type": "markdown",
   "metadata": {},
   "source": [
    "### Send prompt to gemini"
   ]
  },
  {
   "cell_type": "code",
   "execution_count": null,
   "metadata": {},
   "outputs": [],
   "source": [
    "earlyStop = 2\n",
    "Prompt = \"Identify cell types using the following tissue name and markers separately for each row. Only provide the cell type name. Do not show numbers before the name. Some can be a mixture of multiple cell types.\"\n",
    "def annotateCell_Gemini(messages: list)->list:\n",
    "    global gemeni_model, gemeni_config \n",
    "    responses = []\n",
    "    i = 0\n",
    "    for message in messages:\n",
    "       i+=1\n",
    "       if i> earlyStop:\n",
    "              break\n",
    "       prompt = Prompt\n",
    "       for cluster in message:\n",
    "              prompt += cluster\n",
    "              prompt += '\\n'\n",
    "       print(prompt)\n",
    "       response = gemeni_model.generate_content(\n",
    "              prompt,\n",
    "              generation_config=gemeni_config\n",
    "       )\n",
    "       responses.append(response.text)\n",
    "    return responses\n"
   ]
  },
  {
   "cell_type": "code",
   "execution_count": null,
   "metadata": {},
   "outputs": [
    {
     "name": "stdout",
     "output_type": "stream",
     "text": [
      "Identify cell types using the following tissue name and markers separately for each row. Only provide the cell type name. Do not show numbers before the name. Some can be a mixture of multiple cell types.PBMC : MS4A1, TNFRSF13B, IGHM, IGHD, AIM2, CD79A, LINC01857, RALGPS2, BANK1, CD79B\n",
      "PBMC : MS4A1, COCH, AIM2, BANK1, SSPN, CD79A, TEX9, RALGPS2, TNFRSF13C, LINC01781\n",
      "PBMC : IGHM, IGHD, CD79A, IL4R, MS4A1, CXCR4, BTG1, TCL1A, CD79B, YBX3\n",
      "PBMC : IGHA2, MZB1, TNFRSF17, DERL3, TXNDC5, TNFRSF13B, POU2AF1, CPNE5, HRASLS2, NT5DC2\n",
      "PBMC : GZMH, CD4, FGFBP2, ITGB1, GZMA, CST7, GNLY, B2M, IL32, NKG7\n",
      "PBMC : TCF7, CD4, CCR7, IL7R, FHIT, LEF1, MAL, NOSIP, LDHB, PIK3IP1\n",
      "PBMC : MKI67, TOP2A, PCLAF, CENPF, TYMS, NUSAP1, ASPM, PTTG1, TPX2, RRM2\n",
      "PBMC : IL7R, TMSB10, CD4, ITGB1, LTB, TRAC, AQP3, LDHB, IL32, MAL\n",
      "PBMC : IL7R, CCL5, FYB1, GZMK, IL32, GZMA, KLRB1, TRAC, LTB, AQP3\n",
      "PBMC : RTKN2, FOXP3, AC133644.2, CD4, IL2RA, TIGIT, CTLA4, FCRL3, LAIR2, IKZF2\n",
      "\n",
      "Identify cell types using the following tissue name and markers separately for each row. Only provide the cell type name. Do not show numbers before the name. Some can be a mixture of multiple cell types.PBMC : CD8B, S100B, CCR7, RGS10, NOSIP, LINC02446, LEF1, CRTAM, CD8A, OXNAD1\n",
      "PBMC : MKI67, CD8B, TYMS, TRAC, PCLAF, CD3D, CLSPN, CD3G, TK1, RRM2\n",
      "PBMC : CD8B, ANXA1, CD8A, KRT1, LINC02446, YBX3, IL7R, TRAC, NELL2, LDHB\n",
      "PBMC : CCL5, GZMH, CD8A, TRAC, KLRD1, NKG7, GZMK, CST7, CD8B, TRGC2\n",
      "PBMC : PPP1R14A, LILRA4, AXL, IL3RA, SCT, SCN9A, LGMN, DNASE1L3, CLEC4C, GAS6\n",
      "PBMC : CLEC9A, DNASE1L3, C1orf54, IDO1, CLNK, CADM1, FLT3, ENPP1, XCR1, NDRG2\n",
      "PBMC : FCER1A, HLA-DQA1, CLEC10A, CD1C, ENHO, PLD4, GSN, SLC38A1, NDRG2, AFF3\n",
      "PBMC : ITM2C, PLD4, SERPINF1, LILRA4, IL3RA, TPM2, MZB1, SPIB, IRF4, SMPD3\n",
      "PBMC : S100A9, CTSS, S100A8, LYZ, VCAN, S100A12, IL1B, CD14, G0S2, FCN1\n",
      "PBMC : CDKN1C, FCGR3A, PTPRC, LST1, IER5, MS4A7, RHOC, IFITM3, AIF1, HES4\n",
      "\n",
      "['[{\"cellType\": \"B cells\"}, {\"cellType\": \"B cells\"}, {\"cellType\": \"B cells\"}, {\"cellType\": \"B cells\"}, {\"cellType\": \"Cytotoxic T cells\"}, {\"cellType\": \"T cells\"}, {\"cellType\": \"Proliferating cells\"}, {\"cellType\": \"T cells\"}, {\"cellType\": \"Cytotoxic T cells\"}, {\"cellType\": \"T regulatory cells\"}]', '[{\"cellType\": \"T cells, activated NK cells\"}, {\"cellType\": \"T cells\"}, {\"cellType\": \"T cells\"}, {\"cellType\": \"Cytotoxic T cells\"}, {\"cellType\": \"Monocytes\"}, {\"cellType\": \"Dendritic cells\"}, {\"cellType\": \"Dendritic cells\"}, {\"cellType\": \"B cells\"}, {\"cellType\": \"Monocytes\"}, {\"cellType\": \"Macrophages\"}]']\n"
     ]
    }
   ],
   "source": [
    "annotateCell_Gemini_results = annotateCell_Gemini(messages)\n",
    "print(annotateCell_Gemini_results)"
   ]
  },
  {
   "cell_type": "markdown",
   "metadata": {},
   "source": [
    "## GPT"
   ]
  },
  {
   "cell_type": "markdown",
   "metadata": {},
   "source": [
    "### model configuration"
   ]
  },
  {
   "cell_type": "code",
   "execution_count": null,
   "metadata": {},
   "outputs": [],
   "source": [
    "api_key = \n",
    "# import os\n",
    "# os.environ[\"OPENAI_API_KEY\"] = \n",
    "client = OpenAI(api_key = api_key)"
   ]
  },
  {
   "cell_type": "markdown",
   "metadata": {},
   "source": [
    "### upload file"
   ]
  },
  {
   "cell_type": "code",
   "execution_count": 13,
   "metadata": {},
   "outputs": [],
   "source": [
    "def upload_cell_cluster(filename):\n",
    "       global client\n",
    "       client.files.create(\n",
    "              file=open(filename, \"rb\"),\n",
    "              purpose=\"assistant\"\n",
    "       )\n",
    "       print(client.files.list())"
   ]
  },
  {
   "cell_type": "markdown",
   "metadata": {},
   "source": [
    "### Create Embeddings"
   ]
  },
  {
   "cell_type": "code",
   "execution_count": 6,
   "metadata": {},
   "outputs": [],
   "source": [
    "# To replace the legacy openai.embeddings_utils.get_embedding function\n",
    "def get_embedding(text, model=\"text-embedding-3-small\"):\n",
    "   text = str(text).replace(\"\\n\", \" \")\n",
    "   return client.embeddings.create(input = [text], model=model).data[0].embedding\n",
    "# 加載 RAG 資料庫\n",
    "cell_type_db = pd.read_csv(\"neuroblastoma_marker.csv\")\n"
   ]
  },
  {
   "cell_type": "code",
   "execution_count": 15,
   "metadata": {},
   "outputs": [],
   "source": [
    "# 只要做一次就好\n",
    "# 計算資料庫嵌入\n",
    "cell_type_db[\"embedding\"] = cell_type_db[\"markers\"].apply(lambda x: get_embedding(x, model='text-embedding-ada-002'))\n",
    "# marker_importance_db[\"embedding\"] = marker_importance_db[\"marker\"].apply(lambda x: get_embedding(x, model='text-embedding-ada-002'))\n",
    "\n",
    "# 保存嵌入\n",
    "cell_type_db[\"embedding\"].to_csv(\"neuroblastoma_marker_embedding.csv\")\n",
    "# marker_importance_db[\"embedding\"].to_csv(\"marker_importance_embedding.csv\")"
   ]
  },
  {
   "cell_type": "code",
   "execution_count": 7,
   "metadata": {},
   "outputs": [
    {
     "name": "stdout",
     "output_type": "stream",
     "text": [
      "[-0.03436197  0.00285856 -0.00282236 ... -0.05345195 -0.02189424\n",
      "  0.00643793]\n"
     ]
    }
   ],
   "source": [
    "# 沒做上面的話，直接跑這個\n",
    "import ast\n",
    "cell_type_db[\"embedding\"] = pd.read_csv(\"neuroblastoma_marker_embedding.csv\")[\"embedding\"]\n",
    "cell_type_db[\"embedding\"] = cell_type_db[\"embedding\"].apply(lambda x: np.array(ast.literal_eval(x), dtype=float))\n",
    "print(cell_type_db[\"embedding\"][0])"
   ]
  },
  {
   "cell_type": "code",
   "execution_count": null,
   "metadata": {},
   "outputs": [
    {
     "name": "stdout",
     "output_type": "stream",
     "text": [
      "[-0.0022751   0.00393444  0.02531783 ... -0.02559006 -0.02050835\n",
      " -0.00551599]\n",
      "[ 0.00537706 -0.00582684  0.00831246 ... -0.04004051 -0.00739938\n",
      " -0.0117619 ]\n"
     ]
    }
   ],
   "source": [
    "# [Deprecated] 這個是用來計算 marker importance 的嵌入，但是因為資料庫有更新，所以不需要這個了\n",
    "import ast  # 或者用 json\n",
    "\n",
    "if not os.path.exists(\"marker_importance_embedding.csv\"):\n",
    "    dfs = [pd.read_csv(f\"splitted_data/marker_importance_embedding-{i}.csv\") for i in range(1, 13)]\n",
    "    marker_importance_db[\"embedding\"] = pd.concat(dfs, ignore_index=True)[\"embedding\"]\n",
    "else:\n",
    "    marker_importance_db[\"embedding\"] = pd.read_csv(\"marker_importance_embedding.csv\")[\"embedding\"]\n",
    "# 加載嵌入\n",
    "cell_type_db[\"embedding\"] = pd.read_csv(\"cell_type_embedding.csv\")[\"embedding\"]\n",
    "# marker_importance_db[\"embedding\"] = pd.read_csv(\"marker_importance_embedding.csv\")\n",
    "cell_type_db[\"embedding\"] = cell_type_db[\"embedding\"].apply(lambda x: np.array(ast.literal_eval(x), dtype=float))\n",
    "marker_importance_db[\"embedding\"] = marker_importance_db[\"embedding\"].apply(lambda x: np.array(ast.literal_eval(x), dtype=float))\n",
    "\n",
    "print(cell_type_db[\"embedding\"][0])\n",
    "print(marker_importance_db[\"embedding\"][0])"
   ]
  },
  {
   "cell_type": "markdown",
   "metadata": {},
   "source": [
    "### send prompt to GPT"
   ]
  },
  {
   "cell_type": "code",
   "execution_count": 12,
   "metadata": {},
   "outputs": [
    {
     "name": "stderr",
     "output_type": "stream",
     "text": [
      "  2%|▏         | 1/54 [00:01<01:28,  1.66s/it]"
     ]
    },
    {
     "name": "stdout",
     "output_type": "stream",
     "text": [
      "{{NK cell}}\n"
     ]
    },
    {
     "name": "stderr",
     "output_type": "stream",
     "text": [
      "  4%|▎         | 2/54 [00:03<01:31,  1.76s/it]"
     ]
    },
    {
     "name": "stdout",
     "output_type": "stream",
     "text": [
      "{{b cell}}\n"
     ]
    },
    {
     "name": "stderr",
     "output_type": "stream",
     "text": [
      "  6%|▌         | 3/54 [00:04<01:09,  1.37s/it]"
     ]
    },
    {
     "name": "stdout",
     "output_type": "stream",
     "text": [
      "{{neuroblastoma-related neural cells}}\n"
     ]
    },
    {
     "name": "stderr",
     "output_type": "stream",
     "text": [
      "  7%|▋         | 4/54 [00:05<01:04,  1.28s/it]"
     ]
    },
    {
     "name": "stdout",
     "output_type": "stream",
     "text": [
      "{{neuroblastoma}}\n"
     ]
    },
    {
     "name": "stderr",
     "output_type": "stream",
     "text": [
      "  9%|▉         | 5/54 [00:07<01:15,  1.55s/it]"
     ]
    },
    {
     "name": "stdout",
     "output_type": "stream",
     "text": [
      "{{neuroblast}}\n"
     ]
    },
    {
     "name": "stderr",
     "output_type": "stream",
     "text": [
      " 11%|█         | 6/54 [00:09<01:15,  1.58s/it]"
     ]
    },
    {
     "name": "stdout",
     "output_type": "stream",
     "text": [
      "{{keratinocyte}}\n"
     ]
    },
    {
     "name": "stderr",
     "output_type": "stream",
     "text": [
      " 13%|█▎        | 7/54 [00:11<01:22,  1.76s/it]"
     ]
    },
    {
     "name": "stdout",
     "output_type": "stream",
     "text": [
      "{{Myeloid}}\n"
     ]
    },
    {
     "name": "stderr",
     "output_type": "stream",
     "text": [
      " 15%|█▍        | 8/54 [00:13<01:22,  1.80s/it]"
     ]
    },
    {
     "name": "stdout",
     "output_type": "stream",
     "text": [
      "{{t cell}}\n"
     ]
    },
    {
     "name": "stderr",
     "output_type": "stream",
     "text": [
      " 17%|█▋        | 9/54 [00:14<01:10,  1.57s/it]"
     ]
    },
    {
     "name": "stdout",
     "output_type": "stream",
     "text": [
      "{{neuroblast}}\n"
     ]
    },
    {
     "name": "stderr",
     "output_type": "stream",
     "text": [
      " 19%|█▊        | 10/54 [00:15<01:10,  1.61s/it]"
     ]
    },
    {
     "name": "stdout",
     "output_type": "stream",
     "text": [
      "{{neuroblast}}\n"
     ]
    },
    {
     "name": "stderr",
     "output_type": "stream",
     "text": [
      " 20%|██        | 11/54 [00:17<01:10,  1.64s/it]"
     ]
    },
    {
     "name": "stdout",
     "output_type": "stream",
     "text": [
      "{{neuroblastoma-derived}}\n"
     ]
    },
    {
     "name": "stderr",
     "output_type": "stream",
     "text": [
      " 22%|██▏       | 12/54 [00:19<01:09,  1.64s/it]"
     ]
    },
    {
     "name": "stdout",
     "output_type": "stream",
     "text": [
      "{{endothelial}}\n"
     ]
    },
    {
     "name": "stderr",
     "output_type": "stream",
     "text": [
      " 24%|██▍       | 13/54 [00:20<01:04,  1.58s/it]"
     ]
    },
    {
     "name": "stdout",
     "output_type": "stream",
     "text": [
      "{{mast cell}}\n",
      "{{unknown}}\n",
      "{{unknown}}\n"
     ]
    },
    {
     "name": "stderr",
     "output_type": "stream",
     "text": [
      " 26%|██▌       | 14/54 [00:23<01:20,  2.02s/it]"
     ]
    },
    {
     "name": "stdout",
     "output_type": "stream",
     "text": [
      "{{neuroblast}}\n"
     ]
    },
    {
     "name": "stderr",
     "output_type": "stream",
     "text": [
      " 28%|██▊       | 15/54 [00:25<01:10,  1.81s/it]"
     ]
    },
    {
     "name": "stdout",
     "output_type": "stream",
     "text": [
      "{{neural_crest-derived_cells}}\n"
     ]
    },
    {
     "name": "stderr",
     "output_type": "stream",
     "text": [
      " 30%|██▉       | 16/54 [00:26<01:01,  1.62s/it]"
     ]
    },
    {
     "name": "stdout",
     "output_type": "stream",
     "text": [
      "{{Fibroblast}}\n"
     ]
    },
    {
     "name": "stderr",
     "output_type": "stream",
     "text": [
      " 31%|███▏      | 17/54 [00:27<00:55,  1.50s/it]"
     ]
    },
    {
     "name": "stdout",
     "output_type": "stream",
     "text": [
      "{{neuroblastoma cells}}\n"
     ]
    },
    {
     "name": "stderr",
     "output_type": "stream",
     "text": [
      " 33%|███▎      | 18/54 [00:28<00:52,  1.45s/it]"
     ]
    },
    {
     "name": "stdout",
     "output_type": "stream",
     "text": [
      "{{b cell}}\n"
     ]
    },
    {
     "name": "stderr",
     "output_type": "stream",
     "text": [
      " 35%|███▌      | 19/54 [00:30<00:48,  1.37s/it]"
     ]
    },
    {
     "name": "stdout",
     "output_type": "stream",
     "text": [
      "{{NK cell}}\n"
     ]
    },
    {
     "name": "stderr",
     "output_type": "stream",
     "text": [
      " 37%|███▋      | 20/54 [00:31<00:43,  1.27s/it]"
     ]
    },
    {
     "name": "stdout",
     "output_type": "stream",
     "text": [
      "{{b cell}}\n"
     ]
    },
    {
     "name": "stderr",
     "output_type": "stream",
     "text": [
      " 39%|███▉      | 21/54 [00:32<00:44,  1.34s/it]"
     ]
    },
    {
     "name": "stdout",
     "output_type": "stream",
     "text": [
      "{{immune cell (myeloid-derived)}}\n"
     ]
    },
    {
     "name": "stderr",
     "output_type": "stream",
     "text": [
      " 41%|████      | 22/54 [00:36<01:10,  2.19s/it]"
     ]
    },
    {
     "name": "stdout",
     "output_type": "stream",
     "text": [
      "Based on the provided markers for the neuroblastoma tissue, none of these markers directly match any specific markers from the database cell types (B cells, fibroblasts, endothelial cells, NK cells, and myeloid cells). Therefore, the identified cell type may not correspond directly to those in the database and suggests these could be unique or unknown distinct types not covered in the main cell type database.\n",
      "\n",
      "Thus, the cell type could best be described as a mixture or undefined. Given the complexity of the task and without direct matches, the most approximate type might relate to undetermined or neuroblastoma-specific cells.\n",
      "\n",
      "{{neuroblastoma-specific}}\n"
     ]
    },
    {
     "name": "stderr",
     "output_type": "stream",
     "text": [
      " 43%|████▎     | 23/54 [00:38<00:59,  1.91s/it]"
     ]
    },
    {
     "name": "stdout",
     "output_type": "stream",
     "text": [
      "{{neuroblast}}\n"
     ]
    },
    {
     "name": "stderr",
     "output_type": "stream",
     "text": [
      " 44%|████▍     | 24/54 [00:39<00:49,  1.63s/it]"
     ]
    },
    {
     "name": "stdout",
     "output_type": "stream",
     "text": [
      "{{keratinocyte}}\n"
     ]
    },
    {
     "name": "stderr",
     "output_type": "stream",
     "text": [
      " 46%|████▋     | 25/54 [00:40<00:46,  1.62s/it]"
     ]
    },
    {
     "name": "stdout",
     "output_type": "stream",
     "text": [
      "{{neuroblast}}\n"
     ]
    },
    {
     "name": "stderr",
     "output_type": "stream",
     "text": [
      " 48%|████▊     | 26/54 [00:41<00:40,  1.46s/it]"
     ]
    },
    {
     "name": "stdout",
     "output_type": "stream",
     "text": [
      "{{neuroblastoma cell}}\n"
     ]
    },
    {
     "name": "stderr",
     "output_type": "stream",
     "text": [
      " 50%|█████     | 27/54 [00:42<00:37,  1.38s/it]"
     ]
    },
    {
     "name": "stdout",
     "output_type": "stream",
     "text": [
      "{{T cell}}\n"
     ]
    },
    {
     "name": "stderr",
     "output_type": "stream",
     "text": [
      " 52%|█████▏    | 28/54 [00:44<00:38,  1.48s/it]"
     ]
    },
    {
     "name": "stdout",
     "output_type": "stream",
     "text": [
      "{{neuroblast}}\n"
     ]
    },
    {
     "name": "stderr",
     "output_type": "stream",
     "text": [
      " 54%|█████▎    | 29/54 [00:45<00:34,  1.37s/it]"
     ]
    },
    {
     "name": "stdout",
     "output_type": "stream",
     "text": [
      "{{dendritic cell}}\n"
     ]
    },
    {
     "name": "stderr",
     "output_type": "stream",
     "text": [
      " 56%|█████▌    | 30/54 [00:46<00:30,  1.29s/it]"
     ]
    },
    {
     "name": "stdout",
     "output_type": "stream",
     "text": [
      "{{Endothelial cell}}\n"
     ]
    },
    {
     "name": "stderr",
     "output_type": "stream",
     "text": [
      " 57%|█████▋    | 31/54 [00:48<00:28,  1.26s/it]"
     ]
    },
    {
     "name": "stdout",
     "output_type": "stream",
     "text": [
      "{{mast_cell}}\n"
     ]
    },
    {
     "name": "stderr",
     "output_type": "stream",
     "text": [
      " 59%|█████▉    | 32/54 [00:49<00:27,  1.23s/it]"
     ]
    },
    {
     "name": "stdout",
     "output_type": "stream",
     "text": [
      "{{neuroblast}}\n",
      "{{unknown}}\n",
      "{{unknown}}\n",
      "{{unknown_cell_type}}\n"
     ]
    },
    {
     "name": "stderr",
     "output_type": "stream",
     "text": [
      " 61%|██████    | 33/54 [00:52<00:41,  1.96s/it]"
     ]
    },
    {
     "name": "stdout",
     "output_type": "stream",
     "text": [
      "{{Schwannian_stroma}}\n"
     ]
    },
    {
     "name": "stderr",
     "output_type": "stream",
     "text": [
      " 63%|██████▎   | 34/54 [00:53<00:34,  1.71s/it]"
     ]
    },
    {
     "name": "stdout",
     "output_type": "stream",
     "text": [
      "{{mesenchymal}}\n"
     ]
    },
    {
     "name": "stderr",
     "output_type": "stream",
     "text": [
      " 65%|██████▍   | 35/54 [00:55<00:29,  1.54s/it]"
     ]
    },
    {
     "name": "stdout",
     "output_type": "stream",
     "text": [
      "{{neuroblast}}\n"
     ]
    },
    {
     "name": "stderr",
     "output_type": "stream",
     "text": [
      " 67%|██████▋   | 36/54 [00:56<00:27,  1.54s/it]"
     ]
    },
    {
     "name": "stdout",
     "output_type": "stream",
     "text": [
      "{{b cell}}\n"
     ]
    },
    {
     "name": "stderr",
     "output_type": "stream",
     "text": [
      " 69%|██████▊   | 37/54 [00:57<00:23,  1.39s/it]"
     ]
    },
    {
     "name": "stdout",
     "output_type": "stream",
     "text": [
      "{{NK cell}}\n"
     ]
    },
    {
     "name": "stderr",
     "output_type": "stream",
     "text": [
      " 70%|███████   | 38/54 [00:58<00:20,  1.31s/it]"
     ]
    },
    {
     "name": "stdout",
     "output_type": "stream",
     "text": [
      "{{b cell}}\n"
     ]
    },
    {
     "name": "stderr",
     "output_type": "stream",
     "text": [
      " 72%|███████▏  | 39/54 [00:59<00:18,  1.25s/it]"
     ]
    },
    {
     "name": "stdout",
     "output_type": "stream",
     "text": [
      "{{myeloid}}\n",
      "{{unknown}}\n"
     ]
    },
    {
     "name": "stderr",
     "output_type": "stream",
     "text": [
      " 74%|███████▍  | 40/54 [01:02<00:22,  1.62s/it]"
     ]
    },
    {
     "name": "stdout",
     "output_type": "stream",
     "text": [
      "{{mixture of multiple cell types}}\n"
     ]
    },
    {
     "name": "stderr",
     "output_type": "stream",
     "text": [
      " 76%|███████▌  | 41/54 [01:04<00:22,  1.73s/it]"
     ]
    },
    {
     "name": "stdout",
     "output_type": "stream",
     "text": [
      "{{neuron}}\n"
     ]
    },
    {
     "name": "stderr",
     "output_type": "stream",
     "text": [
      " 78%|███████▊  | 42/54 [01:05<00:19,  1.62s/it]"
     ]
    },
    {
     "name": "stdout",
     "output_type": "stream",
     "text": [
      "{{epithelial}}\n"
     ]
    },
    {
     "name": "stderr",
     "output_type": "stream",
     "text": [
      " 80%|███████▉  | 43/54 [01:07<00:17,  1.60s/it]"
     ]
    },
    {
     "name": "stdout",
     "output_type": "stream",
     "text": [
      "{{neuroblast}}\n"
     ]
    },
    {
     "name": "stderr",
     "output_type": "stream",
     "text": [
      " 81%|████████▏ | 44/54 [01:08<00:14,  1.49s/it]"
     ]
    },
    {
     "name": "stdout",
     "output_type": "stream",
     "text": [
      "{{neuroblastoma cell}}\n"
     ]
    },
    {
     "name": "stderr",
     "output_type": "stream",
     "text": [
      " 83%|████████▎ | 45/54 [01:09<00:13,  1.46s/it]"
     ]
    },
    {
     "name": "stdout",
     "output_type": "stream",
     "text": [
      "{{T cell subtype}}\n",
      "{{unknown}}\n",
      "{{unknown}}\n"
     ]
    },
    {
     "name": "stderr",
     "output_type": "stream",
     "text": [
      " 85%|████████▌ | 46/54 [01:17<00:25,  3.25s/it]"
     ]
    },
    {
     "name": "stdout",
     "output_type": "stream",
     "text": [
      "{{neuroblast}}\n"
     ]
    },
    {
     "name": "stderr",
     "output_type": "stream",
     "text": [
      " 87%|████████▋ | 47/54 [01:18<00:18,  2.61s/it]"
     ]
    },
    {
     "name": "stdout",
     "output_type": "stream",
     "text": [
      "{{dendritic cell}}\n"
     ]
    },
    {
     "name": "stderr",
     "output_type": "stream",
     "text": [
      " 89%|████████▉ | 48/54 [01:19<00:13,  2.22s/it]"
     ]
    },
    {
     "name": "stdout",
     "output_type": "stream",
     "text": [
      "{{Endothelial}}\n"
     ]
    },
    {
     "name": "stderr",
     "output_type": "stream",
     "text": [
      " 91%|█████████ | 49/54 [01:20<00:09,  1.84s/it]"
     ]
    },
    {
     "name": "stdout",
     "output_type": "stream",
     "text": [
      "{{mast_cell}}\n"
     ]
    },
    {
     "name": "stderr",
     "output_type": "stream",
     "text": [
      " 93%|█████████▎| 50/54 [01:22<00:07,  1.92s/it]"
     ]
    },
    {
     "name": "stdout",
     "output_type": "stream",
     "text": [
      "{{neuroblast}}\n"
     ]
    },
    {
     "name": "stderr",
     "output_type": "stream",
     "text": [
      " 94%|█████████▍| 51/54 [01:24<00:05,  1.97s/it]"
     ]
    },
    {
     "name": "stdout",
     "output_type": "stream",
     "text": [
      "{{neuroblastoma cell}}\n"
     ]
    },
    {
     "name": "stderr",
     "output_type": "stream",
     "text": [
      " 96%|█████████▋| 52/54 [01:26<00:03,  1.82s/it]"
     ]
    },
    {
     "name": "stdout",
     "output_type": "stream",
     "text": [
      "{{myogenic}}\n"
     ]
    },
    {
     "name": "stderr",
     "output_type": "stream",
     "text": [
      " 98%|█████████▊| 53/54 [01:27<00:01,  1.71s/it]"
     ]
    },
    {
     "name": "stdout",
     "output_type": "stream",
     "text": [
      "{{neuroblastoma}}\n"
     ]
    },
    {
     "name": "stderr",
     "output_type": "stream",
     "text": [
      "100%|██████████| 54/54 [01:29<00:00,  1.66s/it]"
     ]
    },
    {
     "name": "stdout",
     "output_type": "stream",
     "text": [
      "{{b cell}}\n",
      "['NK cell', 'b cell', 'neuroblastoma-related neural cells', 'neuroblastoma', 'neuroblast', 'keratinocyte', 'Myeloid', 't cell', 'neuroblast', 'neuroblast', 'neuroblastoma-derived', 'endothelial', 'mast cell', 'neuroblast', 'neural_crest-derived_cells', 'Fibroblast', 'neuroblastoma cells', 'b cell', 'NK cell', 'b cell', 'immune cell (myeloid-derived)', 'neuroblastoma-specific', 'neuroblast', 'keratinocyte', 'neuroblast', 'neuroblastoma cell', 'T cell', 'neuroblast', 'dendritic cell', 'Endothelial cell', 'mast_cell', 'neuroblast', 'Schwannian_stroma', 'mesenchymal', 'neuroblast', 'b cell', 'NK cell', 'b cell', 'myeloid', 'mixture of multiple cell types', 'neuron', 'epithelial', 'neuroblast', 'neuroblastoma cell', 'T cell subtype', 'neuroblast', 'dendritic cell', 'Endothelial', 'mast_cell', 'neuroblast', 'neuroblastoma cell', 'myogenic', 'neuroblastoma', 'b cell']\n"
     ]
    },
    {
     "name": "stderr",
     "output_type": "stream",
     "text": [
      "\n"
     ]
    }
   ],
   "source": [
    "from tqdm import tqdm\n",
    "# Alternate the lagecy openai.embeddings_utils.search_vectors function\n",
    "def cosine_similarity(a, b):\n",
    "    # print(a, b, type(a), type(b), type(a[0]), type(b[0]))\n",
    "    # print(np.linalg.norm(a), np.linalg.norm(b))\n",
    "    return np.dot(a, b) / (np.linalg.norm(a) * np.linalg.norm(b))\n",
    "\n",
    "def annotateCell_GPT(messages: list, n=5) -> list:\n",
    "    global client\n",
    "    responses = []\n",
    "\n",
    "    for message in tqdm(messages):\n",
    "\n",
    "        # 提取輸入的 marker\n",
    "        # print(message, type(message))\n",
    "        input_markers = message.split(\", \")\n",
    "        input_embedding = get_embedding(\", \".join(input_markers))\n",
    "        cell_type_db[\"similarity\"] = cell_type_db[\"embedding\"].apply(lambda x: cosine_similarity(x, input_embedding))\n",
    "        # marker_importance_db[\"similarity\"] = marker_importance_db[\"embedding\"].apply(lambda x: cosine_similarity(x, input_embedding))\n",
    "\n",
    "        # 進行檢索\n",
    "        cell_type_results = (\n",
    "            cell_type_db.sort_values(\"similarity\", ascending=False)\n",
    "            .head(n)\n",
    "        )\n",
    "        # marker_importance_results = (\n",
    "        #     marker_importance_db.sort_values(\"similarity\", ascending=False)\n",
    "        #     .head(n)\n",
    "        # )\n",
    "\n",
    "        # 組合上下文\n",
    "        context = \"### Cell Type Database Results ###\\n\"\n",
    "        for _,  result in cell_type_results.iterrows():\n",
    "            \n",
    "            context += f\"Cell Type: {result['cell type']}\\nMarkers: {result['markers']}\\n\\n\"\n",
    "\n",
    "\n",
    "        # 提示用戶\n",
    "        message = (\"### task: Identify cell types ###\\n\" + message + '\\n'\n",
    "        + \"Answer is not necessary to be in the Database. \"\n",
    "        + \"Only provide the cell type name, formatted as: {{cell_type_name}}. \"\n",
    "        # + \"Do not show numbers before the name. \"\n",
    "        + \"Some can be a mixture of multiple cell types. \"\n",
    "        # + \"You cannot answer unknown. Guess if you have to. \"\n",
    "        # + \"If you don't know the answer, output{{-1}}\"\n",
    "        )\n",
    "        # 提供給 GPT 模型\n",
    "        retry = 0\n",
    "        while retry < 3:\n",
    "            completion = client.chat.completions.create(\n",
    "                model=\"gpt-4o\",\n",
    "                messages=[\n",
    "                    {\"role\": \"system\", \"content\": \"Identify cell types of neuroblastoma tissue using the markers provided. Use the retrieved context for your decision.\"},\n",
    "                    {\"role\": \"user\", \"content\": f\"{context}\\n\\n{message}\"}\n",
    "                ],\n",
    "                # response_format=cellTypeFormat\n",
    "            )\n",
    "            # print(completion.choices[0].message.parsed)\n",
    "            # responses.append(completion.choices[0].message.parsed)\n",
    "            print(completion.choices[0].message.content)\n",
    "            candi = completion.choices[0].message.content\n",
    "            candi = re.findall(r\"\\{\\{(.*?)\\}\\}\", candi)\n",
    "            if (not candi) or \"unknown\" in candi[0] or \"Unknown\" in candi[0] or \"not\" in candi[0] or \"Not\" in candi[0]:\n",
    "                retry += 1\n",
    "            else:\n",
    "                responses.append(candi[0])\n",
    "                break\n",
    "\n",
    "        # fail to get a valid answer, try without reg\n",
    "        if retry == 3:\n",
    "            message = \", \".join(input_markers)\n",
    "            completion = client.chat.completions.create(\n",
    "                model=\"gpt-4o\",\n",
    "                messages=[\n",
    "                    {\"role\": \"system\", \"content\": \"Identify cell types of neuroblastoma tissue using the markers provided. \"\n",
    "                    + \"Only provide the cell type name, formatted as: {{cell_type_name}}. \"\n",
    "                    + \"Do not show numbers before the name. \"\n",
    "                    + \"Some can be a mixture of multiple cell types.\"\n",
    "                    # + \"Don't answer unknown. If must, formatted as: {{-1}}\"\n",
    "                    },\n",
    "                    {\"role\": \"user\", \"content\": message}\n",
    "                ],\n",
    "                # response_format=cellTypeFormat\n",
    "            )\n",
    "            print(completion.choices[0].message.content)\n",
    "            candi = completion.choices[0].message.content\n",
    "            candi = re.findall(r\"\\{\\{(.*?)\\}\\}\", candi)\n",
    "            if candi and candi[0] != \"-1\":\n",
    "                responses.append(candi[0])\n",
    "            else:\n",
    "                responses.append(\"Unknown\")\n",
    "    return responses\n",
    "\n",
    "\n",
    "annotateCell_GPT_results = annotateCell_GPT(messages)\n",
    "print(annotateCell_GPT_results)"
   ]
  },
  {
   "cell_type": "code",
   "execution_count": 13,
   "metadata": {},
   "outputs": [],
   "source": [
    "lung_data = gene_list[gene_list[\"tissue\"] == \"neuroblastoma tissue\"]\n",
    "lung_data['RAG_cell_type'] = annotateCell_GPT_results\n",
    "lung_data.to_csv(\"./4_neuroblastoma_RAG_GPT.csv\", index=False)"
   ]
  },
  {
   "cell_type": "markdown",
   "metadata": {},
   "source": [
    "## Scoring system"
   ]
  },
  {
   "cell_type": "markdown",
   "metadata": {},
   "source": [
    "### result parsing"
   ]
  },
  {
   "cell_type": "code",
   "execution_count": 149,
   "metadata": {},
   "outputs": [],
   "source": [
    "def json_parsing(annotateCell_results: json)->list:\n",
    "       # Parse the strings into Python objects\n",
    "       parsed_results = [json.loads(item.strip()) for item in annotateCell_results]\n",
    "       # Flatten the results to get a list of all cell types\n",
    "       cell_types = [entry['cellType'] for result in parsed_results for entry in result]\n",
    "       return cell_types"
   ]
  },
  {
   "cell_type": "code",
   "execution_count": 150,
   "metadata": {},
   "outputs": [
    {
     "ename": "JSONDecodeError",
     "evalue": "Expecting value: line 1 column 1 (char 0)",
     "output_type": "error",
     "traceback": [
      "\u001b[0;31m---------------------------------------------------------------------------\u001b[0m",
      "\u001b[0;31mJSONDecodeError\u001b[0m                           Traceback (most recent call last)",
      "Cell \u001b[0;32mIn[150], line 1\u001b[0m\n\u001b[0;32m----> 1\u001b[0m cell_types \u001b[38;5;241m=\u001b[39m \u001b[43mjson_parsing\u001b[49m\u001b[43m(\u001b[49m\u001b[43mannotateCell_GPT_results\u001b[49m\u001b[43m)\u001b[49m\n\u001b[1;32m      2\u001b[0m \u001b[38;5;28mprint\u001b[39m(cell_types)\n",
      "Cell \u001b[0;32mIn[149], line 3\u001b[0m, in \u001b[0;36mjson_parsing\u001b[0;34m(annotateCell_results)\u001b[0m\n\u001b[1;32m      1\u001b[0m \u001b[38;5;28;01mdef\u001b[39;00m \u001b[38;5;21mjson_parsing\u001b[39m(annotateCell_results: json)\u001b[38;5;241m-\u001b[39m\u001b[38;5;241m>\u001b[39m\u001b[38;5;28mlist\u001b[39m:\n\u001b[1;32m      2\u001b[0m        \u001b[38;5;66;03m# Parse the strings into Python objects\u001b[39;00m\n\u001b[0;32m----> 3\u001b[0m        parsed_results \u001b[38;5;241m=\u001b[39m \u001b[43m[\u001b[49m\u001b[43mjson\u001b[49m\u001b[38;5;241;43m.\u001b[39;49m\u001b[43mloads\u001b[49m\u001b[43m(\u001b[49m\u001b[43mitem\u001b[49m\u001b[38;5;241;43m.\u001b[39;49m\u001b[43mstrip\u001b[49m\u001b[43m(\u001b[49m\u001b[43m)\u001b[49m\u001b[43m)\u001b[49m\u001b[43m \u001b[49m\u001b[38;5;28;43;01mfor\u001b[39;49;00m\u001b[43m \u001b[49m\u001b[43mitem\u001b[49m\u001b[43m \u001b[49m\u001b[38;5;129;43;01min\u001b[39;49;00m\u001b[43m \u001b[49m\u001b[43mannotateCell_results\u001b[49m\u001b[43m]\u001b[49m\n\u001b[1;32m      4\u001b[0m        \u001b[38;5;66;03m# Flatten the results to get a list of all cell types\u001b[39;00m\n\u001b[1;32m      5\u001b[0m        cell_types \u001b[38;5;241m=\u001b[39m [entry[\u001b[38;5;124m'\u001b[39m\u001b[38;5;124mcellType\u001b[39m\u001b[38;5;124m'\u001b[39m] \u001b[38;5;28;01mfor\u001b[39;00m result \u001b[38;5;129;01min\u001b[39;00m parsed_results \u001b[38;5;28;01mfor\u001b[39;00m entry \u001b[38;5;129;01min\u001b[39;00m result]\n",
      "Cell \u001b[0;32mIn[149], line 3\u001b[0m, in \u001b[0;36m<listcomp>\u001b[0;34m(.0)\u001b[0m\n\u001b[1;32m      1\u001b[0m \u001b[38;5;28;01mdef\u001b[39;00m \u001b[38;5;21mjson_parsing\u001b[39m(annotateCell_results: json)\u001b[38;5;241m-\u001b[39m\u001b[38;5;241m>\u001b[39m\u001b[38;5;28mlist\u001b[39m:\n\u001b[1;32m      2\u001b[0m        \u001b[38;5;66;03m# Parse the strings into Python objects\u001b[39;00m\n\u001b[0;32m----> 3\u001b[0m        parsed_results \u001b[38;5;241m=\u001b[39m [\u001b[43mjson\u001b[49m\u001b[38;5;241;43m.\u001b[39;49m\u001b[43mloads\u001b[49m\u001b[43m(\u001b[49m\u001b[43mitem\u001b[49m\u001b[38;5;241;43m.\u001b[39;49m\u001b[43mstrip\u001b[49m\u001b[43m(\u001b[49m\u001b[43m)\u001b[49m\u001b[43m)\u001b[49m \u001b[38;5;28;01mfor\u001b[39;00m item \u001b[38;5;129;01min\u001b[39;00m annotateCell_results]\n\u001b[1;32m      4\u001b[0m        \u001b[38;5;66;03m# Flatten the results to get a list of all cell types\u001b[39;00m\n\u001b[1;32m      5\u001b[0m        cell_types \u001b[38;5;241m=\u001b[39m [entry[\u001b[38;5;124m'\u001b[39m\u001b[38;5;124mcellType\u001b[39m\u001b[38;5;124m'\u001b[39m] \u001b[38;5;28;01mfor\u001b[39;00m result \u001b[38;5;129;01min\u001b[39;00m parsed_results \u001b[38;5;28;01mfor\u001b[39;00m entry \u001b[38;5;129;01min\u001b[39;00m result]\n",
      "File \u001b[0;32m/Library/Frameworks/Python.framework/Versions/3.11/lib/python3.11/json/__init__.py:346\u001b[0m, in \u001b[0;36mloads\u001b[0;34m(s, cls, object_hook, parse_float, parse_int, parse_constant, object_pairs_hook, **kw)\u001b[0m\n\u001b[1;32m    341\u001b[0m     s \u001b[38;5;241m=\u001b[39m s\u001b[38;5;241m.\u001b[39mdecode(detect_encoding(s), \u001b[38;5;124m'\u001b[39m\u001b[38;5;124msurrogatepass\u001b[39m\u001b[38;5;124m'\u001b[39m)\n\u001b[1;32m    343\u001b[0m \u001b[38;5;28;01mif\u001b[39;00m (\u001b[38;5;28mcls\u001b[39m \u001b[38;5;129;01mis\u001b[39;00m \u001b[38;5;28;01mNone\u001b[39;00m \u001b[38;5;129;01mand\u001b[39;00m object_hook \u001b[38;5;129;01mis\u001b[39;00m \u001b[38;5;28;01mNone\u001b[39;00m \u001b[38;5;129;01mand\u001b[39;00m\n\u001b[1;32m    344\u001b[0m         parse_int \u001b[38;5;129;01mis\u001b[39;00m \u001b[38;5;28;01mNone\u001b[39;00m \u001b[38;5;129;01mand\u001b[39;00m parse_float \u001b[38;5;129;01mis\u001b[39;00m \u001b[38;5;28;01mNone\u001b[39;00m \u001b[38;5;129;01mand\u001b[39;00m\n\u001b[1;32m    345\u001b[0m         parse_constant \u001b[38;5;129;01mis\u001b[39;00m \u001b[38;5;28;01mNone\u001b[39;00m \u001b[38;5;129;01mand\u001b[39;00m object_pairs_hook \u001b[38;5;129;01mis\u001b[39;00m \u001b[38;5;28;01mNone\u001b[39;00m \u001b[38;5;129;01mand\u001b[39;00m \u001b[38;5;129;01mnot\u001b[39;00m kw):\n\u001b[0;32m--> 346\u001b[0m     \u001b[38;5;28;01mreturn\u001b[39;00m \u001b[43m_default_decoder\u001b[49m\u001b[38;5;241;43m.\u001b[39;49m\u001b[43mdecode\u001b[49m\u001b[43m(\u001b[49m\u001b[43ms\u001b[49m\u001b[43m)\u001b[49m\n\u001b[1;32m    347\u001b[0m \u001b[38;5;28;01mif\u001b[39;00m \u001b[38;5;28mcls\u001b[39m \u001b[38;5;129;01mis\u001b[39;00m \u001b[38;5;28;01mNone\u001b[39;00m:\n\u001b[1;32m    348\u001b[0m     \u001b[38;5;28mcls\u001b[39m \u001b[38;5;241m=\u001b[39m JSONDecoder\n",
      "File \u001b[0;32m/Library/Frameworks/Python.framework/Versions/3.11/lib/python3.11/json/decoder.py:337\u001b[0m, in \u001b[0;36mJSONDecoder.decode\u001b[0;34m(self, s, _w)\u001b[0m\n\u001b[1;32m    332\u001b[0m \u001b[38;5;28;01mdef\u001b[39;00m \u001b[38;5;21mdecode\u001b[39m(\u001b[38;5;28mself\u001b[39m, s, _w\u001b[38;5;241m=\u001b[39mWHITESPACE\u001b[38;5;241m.\u001b[39mmatch):\n\u001b[1;32m    333\u001b[0m \u001b[38;5;250m    \u001b[39m\u001b[38;5;124;03m\"\"\"Return the Python representation of ``s`` (a ``str`` instance\u001b[39;00m\n\u001b[1;32m    334\u001b[0m \u001b[38;5;124;03m    containing a JSON document).\u001b[39;00m\n\u001b[1;32m    335\u001b[0m \n\u001b[1;32m    336\u001b[0m \u001b[38;5;124;03m    \"\"\"\u001b[39;00m\n\u001b[0;32m--> 337\u001b[0m     obj, end \u001b[38;5;241m=\u001b[39m \u001b[38;5;28;43mself\u001b[39;49m\u001b[38;5;241;43m.\u001b[39;49m\u001b[43mraw_decode\u001b[49m\u001b[43m(\u001b[49m\u001b[43ms\u001b[49m\u001b[43m,\u001b[49m\u001b[43m \u001b[49m\u001b[43midx\u001b[49m\u001b[38;5;241;43m=\u001b[39;49m\u001b[43m_w\u001b[49m\u001b[43m(\u001b[49m\u001b[43ms\u001b[49m\u001b[43m,\u001b[49m\u001b[43m \u001b[49m\u001b[38;5;241;43m0\u001b[39;49m\u001b[43m)\u001b[49m\u001b[38;5;241;43m.\u001b[39;49m\u001b[43mend\u001b[49m\u001b[43m(\u001b[49m\u001b[43m)\u001b[49m\u001b[43m)\u001b[49m\n\u001b[1;32m    338\u001b[0m     end \u001b[38;5;241m=\u001b[39m _w(s, end)\u001b[38;5;241m.\u001b[39mend()\n\u001b[1;32m    339\u001b[0m     \u001b[38;5;28;01mif\u001b[39;00m end \u001b[38;5;241m!=\u001b[39m \u001b[38;5;28mlen\u001b[39m(s):\n",
      "File \u001b[0;32m/Library/Frameworks/Python.framework/Versions/3.11/lib/python3.11/json/decoder.py:355\u001b[0m, in \u001b[0;36mJSONDecoder.raw_decode\u001b[0;34m(self, s, idx)\u001b[0m\n\u001b[1;32m    353\u001b[0m     obj, end \u001b[38;5;241m=\u001b[39m \u001b[38;5;28mself\u001b[39m\u001b[38;5;241m.\u001b[39mscan_once(s, idx)\n\u001b[1;32m    354\u001b[0m \u001b[38;5;28;01mexcept\u001b[39;00m \u001b[38;5;167;01mStopIteration\u001b[39;00m \u001b[38;5;28;01mas\u001b[39;00m err:\n\u001b[0;32m--> 355\u001b[0m     \u001b[38;5;28;01mraise\u001b[39;00m JSONDecodeError(\u001b[38;5;124m\"\u001b[39m\u001b[38;5;124mExpecting value\u001b[39m\u001b[38;5;124m\"\u001b[39m, s, err\u001b[38;5;241m.\u001b[39mvalue) \u001b[38;5;28;01mfrom\u001b[39;00m \u001b[38;5;28;01mNone\u001b[39;00m\n\u001b[1;32m    356\u001b[0m \u001b[38;5;28;01mreturn\u001b[39;00m obj, end\n",
      "\u001b[0;31mJSONDecodeError\u001b[0m: Expecting value: line 1 column 1 (char 0)"
     ]
    }
   ],
   "source": [
    "cell_types = json_parsing(annotateCell_GPT_results)\n",
    "print(cell_types)"
   ]
  },
  {
   "cell_type": "markdown",
   "metadata": {},
   "source": [
    "### CL correspondence\n",
    "match the cell_types to get CLID from Cell Ontology\n",
    "search name in graph and return the corresponding clid\\\n",
    "if no matches found, send request to cell ontology"
   ]
  },
  {
   "cell_type": "code",
   "execution_count": 97,
   "metadata": {},
   "outputs": [],
   "source": [
    "# URL for Cell Ontology (CO) OBO file\n",
    "CO_URL = 'http://purl.obolibrary.org/obo/CL.obo'\n",
    "OBO_FILE_PATH = 'oboNet/cl.obo'\n",
    "# dictionary to store search result\n",
    "NAME_TO_CLID_DICT = dict()\n",
    "\n",
    "def load_ontology(url):\n",
    "    graph = obonet.read_obo(url)\n",
    "    return graph\n",
    "def search_ontology(cell_name: str, ontology='cl')->str:\n",
    "    global NAME_TO_CLID_DICT\n",
    "    normalized_name = inflector.singular_noun(cell_name.lower()) or cell_name.lower()\n",
    "    normalized_name = re.sub(r\"^\\(?\\d+\\)?\\.\", \"\", normalized_name).strip()\n",
    "    # search in dict for faster access to clid and name\n",
    "    if normalized_name in NAME_TO_CLID_DICT :\n",
    "        return NAME_TO_CLID_DICT[normalized_name]\n",
    "    \n",
    "    for id, data in graph.nodes(data=True):\n",
    "        if 'name' in data:\n",
    "            # Singularize and normalize the graph's 'name'\n",
    "            label = inflector.singular_noun(data['name'].lower()) or data['name'].lower()\n",
    "            # Compare normalized names\n",
    "            if label == normalized_name:\n",
    "                NAME_TO_CLID_DICT[normalized_name] = (id, label)\n",
    "                return id, label # Return the clid and label(name) if a match is found\n",
    "    \n",
    "    # If no clid name found in graph, send request to ontology api    \n",
    "    # OLS API URL\n",
    "    url = f\"https://www.ebi.ac.uk/ols/api/search?q={normalized_name}&ontology={ontology}\"\n",
    "\n",
    "    # Make the API request\n",
    "    response = requests.get(url)\n",
    "    if response.status_code == 200:\n",
    "        if len(response.json()['response']['docs'])==0:\n",
    "          return None, None\n",
    "        id = response.json()['response']['docs'][0]['obo_id']\n",
    "        label = response.json()['response']['docs'][0]['label']\n",
    "        NAME_TO_CLID_DICT[normalized_name] = (id, label)\n",
    "        return id, label\n",
    "    else:\n",
    "        print(f\"Error: {response.status_code}\")\n",
    "        return None, None\n",
    "\n",
    "inflector = inflect.engine()\n",
    "# Load the Cell Ontology\n",
    "graph = load_ontology(OBO_FILE_PATH)\n",
    "\n"
   ]
  },
  {
   "cell_type": "code",
   "execution_count": 54,
   "metadata": {},
   "outputs": [
    {
     "ename": "NameError",
     "evalue": "name 'cell_types' is not defined",
     "output_type": "error",
     "traceback": [
      "\u001b[0;31m---------------------------------------------------------------------------\u001b[0m",
      "\u001b[0;31mNameError\u001b[0m                                 Traceback (most recent call last)",
      "Cell \u001b[0;32mIn[54], line 2\u001b[0m\n\u001b[1;32m      1\u001b[0m clids \u001b[38;5;241m=\u001b[39m []\n\u001b[0;32m----> 2\u001b[0m \u001b[38;5;28;01mfor\u001b[39;00m cell_type \u001b[38;5;129;01min\u001b[39;00m \u001b[43mcell_types\u001b[49m:\n\u001b[1;32m      3\u001b[0m   clids\u001b[38;5;241m.\u001b[39mappend(search_ontology(cell_type))\n\u001b[1;32m      5\u001b[0m \u001b[38;5;28mprint\u001b[39m(clids)\n",
      "\u001b[0;31mNameError\u001b[0m: name 'cell_types' is not defined"
     ]
    }
   ],
   "source": [
    "clids = []\n",
    "for cell_type in cell_types:\n",
    "  clids.append(search_ontology(cell_type))\n",
    "\n",
    "print(clids)"
   ]
  },
  {
   "cell_type": "markdown",
   "metadata": {},
   "source": [
    "### Calculate distance with two CLID\n",
    "#### Method 1 : shortest path length between two nodes\n",
    "calculate the distance between two nodes ( manual CLID and LLM annotated CLID)"
   ]
  },
  {
   "cell_type": "code",
   "execution_count": 91,
   "metadata": {},
   "outputs": [],
   "source": [
    "def calculate_difference(graph:nx.graph, clid_1:str, clid_2:str)->int:\n",
    "    try:\n",
    "        return nx.shortest_path_length(graph, source=clid_1, target=clid_2)\n",
    "    except:\n",
    "        return -1\n",
    "def calculate_difference_name(graph:nx.graph, type_1:str, type_2:str)->int:\n",
    "    clid_1, label_1 = search_ontology(type_1)\n",
    "    clid_2, label_2 = search_ontology(type_2)\n",
    "    return calculate_difference(graph, clid_1, clid_2)\n"
   ]
  },
  {
   "cell_type": "code",
   "execution_count": 95,
   "metadata": {},
   "outputs": [
    {
     "name": "stdout",
     "output_type": "stream",
     "text": [
      "-1\n",
      "1\n",
      "{'t cell': ('CL:0000084', 't cell'), 'cytotoxic t cell': ('CL:0000910', 'cytotoxic t cell'), 't-helper cell': ('CL:0000912', 'helper T cell')}\n",
      "{'t cell': ('CL:0000084', 't cell'), 'cytotoxic t cell': ('CL:0000910', 'cytotoxic t cell'), 't-helper cell': ('CL:0000912', 'helper T cell')}\n",
      "-1\n",
      "{'t cell': ('CL:0000084', 't cell'), 'cytotoxic t cell': ('CL:0000910', 'cytotoxic t cell'), 't-helper cell': ('CL:0000912', 'helper T cell')}\n",
      "{'t cell': ('CL:0000084', 't cell'), 'cytotoxic t cell': ('CL:0000910', 'cytotoxic t cell'), 't-helper cell': ('CL:0000912', 'helper T cell')}\n",
      "3\n",
      "{'t cell': ('CL:0000084', 't cell'), 'cytotoxic t cell': ('CL:0000910', 'cytotoxic t cell'), 't-helper cell': ('CL:0000912', 'helper T cell')}\n",
      "{'t cell': ('CL:0000084', 't cell'), 'cytotoxic t cell': ('CL:0000910', 'cytotoxic t cell'), 't-helper cell': ('CL:0000912', 'helper T cell')}\n",
      "3\n"
     ]
    }
   ],
   "source": [
    "print(calculate_difference(graph, 'CL:0002250', 'CL:0009016'))\n",
    "print(calculate_difference(graph,  'CL:0009016','CL:0002250'))\n",
    "# intestinal crypt stem cell 0002250\n",
    "# intestinal crypt stem cell of large intestine 0009016\n",
    "# should put the broader type (i.e. LLM annotated ) behind\n",
    "print(calculate_difference_name(graph, 'T cells', 'Cytotoxic T cells'))\n",
    "print(calculate_difference_name(graph, 'Cytotoxic T cells', 'T cells'))\n",
    "print(calculate_difference_name(graph, 'T-helper cells', 'T cells'))"
   ]
  },
  {
   "cell_type": "code",
   "execution_count": null,
   "metadata": {},
   "outputs": [
    {
     "name": "stdout",
     "output_type": "stream",
     "text": [
      "{'t cell': ('CL:0000084', 't cell'), 'cytotoxic t cell': ('CL:0000910', 'cytotoxic t cell'), 'helper T cell': ('CL:0000912', 'helper T cell')}\n",
      "searching\n",
      "{'t cell': ('CL:0000084', 't cell'), 'cytotoxic t cell': ('CL:0000910', 'cytotoxic t cell'), 'helper T cell': ('CL:0000912', 'helper T cell')}\n",
      "3\n"
     ]
    }
   ],
   "source": []
  },
  {
   "cell_type": "markdown",
   "metadata": {},
   "source": [
    "#### Method 2 : calculate adjusted path-based similarity\n",
    "assign score according to 'On measuring of SImilarity between tree nodes'\n",
    "\n",
    "$$ l_a (v_i, v_j) = \\frac{l(v_i, lca_{ij})+l(v_j, lca_{ij})}{1 + l(lca_{ij},t)}$$\n",
    "\n",
    "while score equals $$ s_a(v_i, v_j) = \\frac{1}{1+l_a(v_i, v_j)} = \\frac{1 + l(lca_{ij},t)}{1+ l(v_i, lca_{ij})+l(v_j, lca_{ij}) + l(lca_{ij},t)}$$"
   ]
  },
  {
   "cell_type": "code",
   "execution_count": 14,
   "metadata": {},
   "outputs": [],
   "source": [
    "def adjusted_path_based_score(graph, clid_1, clid_2):\n",
    "       ugraph = graph.to_undirected()\n",
    "       lca = nx.lowest_common_ancestor(graph, clid_1, clid_2)\n",
    "       root_node = [x for x in graph.nodes() if graph.out_degree(x)>1 and graph.in_degree(x)==0]\n",
    "       try:\n",
    "              l_i_lca = nx.shortest_path_length(ugraph, source = clid_1, target = lca)\n",
    "              l_j_lca = nx.shortest_path_length(ugraph, source = clid_2, traget = lca)\n",
    "              l_lca_t = nx.shortest_path_length(ugraph, source = lca, target = root_node)\n",
    "              return (1+l_lca_t) / (1+l_i_lca + l_j_lca + l_lca_t)\n",
    "       except:\n",
    "              return -1"
   ]
  },
  {
   "cell_type": "code",
   "execution_count": null,
   "metadata": {},
   "outputs": [],
   "source": [
    "print(nx.is_directed_acyclic_graph(graph))\n",
    "degraph= graph.copy()\n",
    "nx.find_cycle(degraph, orientation='original')\n",
    "\n",
    "while not nx.is_directed_acyclic_graph(degraph):\n",
    "       trimmed_egdes = nx.find_cycle(degraph, orientation='original')\n",
    "       for edge in trimmed_egdes:\n",
    "              print(graph.nodes[edge[0]]['name'],edge[2],graph.nodes[edge[1]]['name'] )\n",
    "              dagraph = degraph.remove_edge(edge[0], edge[1])\n"
   ]
  },
  {
   "cell_type": "code",
   "execution_count": 43,
   "metadata": {},
   "outputs": [
    {
     "name": "stdout",
     "output_type": "stream",
     "text": [
      "CL:0000236 CL:0000818\n",
      "CL:0000236 CL:0000787\n",
      "CL:0000236 CL:0000788\n",
      "CL:0000236 CL:0000980\n",
      "CL:0000910 CL:0000934\n",
      "CL:0000084 CL:0000895\n",
      "None nan\n",
      "CL:0000084 CL:0000904\n",
      "CL:0000910 CL:0000905\n",
      "None CL:0000815\n",
      "None CL:0000900\n",
      "CL:0000084 nan\n",
      "CL:0000084 CL:0000907\n",
      "CL:0000910 CL:0000913\n",
      "CL:0000576 nan\n",
      "CL:0000451 CL:0000990\n",
      "CL:0000451 CL:0000990\n",
      "CL:0000236 CL:0000784\n",
      "CL:0000576 CL:0001054\n",
      "CL:0000235 nan\n",
      "[2, 3, 3, 3, -1, 3, -1, 5, -1, -1, -1, -1, 5, -1, -1, 1, 1, -1, 1, -1]\n"
     ]
    }
   ],
   "source": [
    "diff_result=[]\n",
    "for i in range(len(clids)):\n",
    "  clid_1 =clids[i] #LLM annotated CLID\n",
    "  clid_2 =gene_list[\"manual_CLID\"][i] \n",
    "  if(clid_1 != None and clid_2!=\"nan\"):# manual annotated CLID\n",
    "    difference = calculate_difference(graph, clid_2, clid_1)\n",
    "    diff_result.append(difference)\n",
    "  else:\n",
    "    diff_result.append(-1)\n",
    "  print(clid_1, clid_2)\n",
    "  # print(difference)\n",
    "print(diff_result)"
   ]
  },
  {
   "cell_type": "markdown",
   "metadata": {},
   "source": [
    "### Assign new scoring system to all.csv"
   ]
  },
  {
   "cell_type": "code",
   "execution_count": 39,
   "metadata": {},
   "outputs": [],
   "source": [
    "MODELS = ['gpt4aug3', 'gpt4mar23','gpt3.5aug3', 'CellMarker2.0','SingleR', 'ScType']\n",
    "MANUAL = 'manual'"
   ]
  },
  {
   "cell_type": "code",
   "execution_count": 40,
   "metadata": {},
   "outputs": [],
   "source": [
    "def assign_score(gene_list: pd.DataFrame):\n",
    "       global MODELS\n",
    "       global MANUAL\n",
    "       global graph\n",
    "       gene_list_scored = pd.DataFrame()\n",
    "       gene_list_scored = gene_list.copy()\n",
    "       for MODEL in MODELS:\n",
    "              scores = []\n",
    "              for i in range(len(gene_list)):\n",
    "                     clid_1 = gene_list[MANUAL+'_CLID'][i] \n",
    "                     clid_2 = gene_list[MODEL+'_CLID'][i]\n",
    "                     scores.append(calculate_difference(graph, clid_1, clid_2))\n",
    "              gene_list_scored[MODEL+'_aggrement_modified'] = scores\n",
    "       return gene_list_scored\n"
   ]
  },
  {
   "cell_type": "code",
   "execution_count": 41,
   "metadata": {},
   "outputs": [
    {
     "name": "stdout",
     "output_type": "stream",
     "text": [
      "            dataset       tissue  \\\n",
      "0           Azimuth         PBMC   \n",
      "1           Azimuth         PBMC   \n",
      "2           Azimuth         PBMC   \n",
      "3           Azimuth         PBMC   \n",
      "4           Azimuth         PBMC   \n",
      "...             ...          ...   \n",
      "1125  tabulasapiens  Vasculature   \n",
      "1126  tabulasapiens  Vasculature   \n",
      "1127  tabulasapiens  Vasculature   \n",
      "1128  tabulasapiens  Vasculature   \n",
      "1129  tabulasapiens  Vasculature   \n",
      "\n",
      "                                                 marker  \\\n",
      "0     MS4A1, TNFRSF13B, IGHM, IGHD, AIM2, CD79A, LIN...   \n",
      "1     MS4A1, COCH, AIM2, BANK1, SSPN, CD79A, TEX9, R...   \n",
      "2     IGHM, IGHD, CD79A, IL4R, MS4A1, CXCR4, BTG1, T...   \n",
      "3     IGHA2, MZB1, TNFRSF17, DERL3, TXNDC5, TNFRSF13...   \n",
      "4     GZMH, CD4, FGFBP2, ITGB1, GZMA, CST7, GNLY, B2...   \n",
      "...                                                 ...   \n",
      "1125  KLRD1,NKG7,XCL2,CTSW,XCL1,GNLY,GZMA,KLRB1,KLRC...   \n",
      "1126  JCHAIN,MZB1,DERL3,IGHG2,IGHA2,TNFRSF17,SDC1,FC...   \n",
      "1127  TFF3,PKHD1L1,PROX1,NTS,FLT4,RELN,GPR182,STAB2,...   \n",
      "1128  VWF,ACKR1,PLVAP,PECAM1,AQP1,RAMP3,CLEC14A,SOX1...   \n",
      "1129  MSLN,UPK3B,MUC16,CALB2,KLK11,BICDL1,CHAC1,TGM1...   \n",
      "\n",
      "               manual_annotation                              manual_CLname  \\\n",
      "0            Intermediate B cell                  transitional stage B cell   \n",
      "1                  Memory B cell                              memory B cell   \n",
      "2                   Naive B cell                               naive B cell   \n",
      "3                    Plasmablast                                plasmablast   \n",
      "4               CD4+ Cytotoxic T  CD4-positive, alpha-beta cytotoxic T cell   \n",
      "...                          ...                                        ...   \n",
      "1125                     nk cell                        natural killer cell   \n",
      "1126                 plasma cell                                plasma cell   \n",
      "1127  lymphatic endothelial cell       endothelial cell of lymphatic vessel   \n",
      "1128            endothelial cell                           endothelial cell   \n",
      "1129             epithelial cell                            epithelial cell   \n",
      "\n",
      "     manual_CLID  manual_broadtype          gpt4aug3_annotation  \\\n",
      "0     CL:0000818            b cell                      B Cells   \n",
      "1     CL:0000787            b cell                      B Cells   \n",
      "2     CL:0000788            b cell                      B Cells   \n",
      "3     CL:0000980            b cell                 Plasma Cells   \n",
      "4     CL:0000934         t/nk cell                     NK Cells   \n",
      "...          ...               ...                          ...   \n",
      "1125  CL:0000623         t/nk cell         Natural Killer Cells   \n",
      "1126  CL:0000786            b cell                 Plasma Cells   \n",
      "1127  CL:0002138  endothelial cell  Lymphatic Endothelial Cells   \n",
      "1128  CL:0000115  endothelial cell            Endothelial Cells   \n",
      "1129  CL:0000066   epithelial cell             Epithelial Cells   \n",
      "\n",
      "                           gpt4aug3_CLname gpt4aug3_CLID  ...  \\\n",
      "0                                   B cell    CL:0000236  ...   \n",
      "1                                   B cell    CL:0000236  ...   \n",
      "2                                   B cell    CL:0000236  ...   \n",
      "3                              plasma cell    CL:0000786  ...   \n",
      "4                      natural killer cell    CL:0000623  ...   \n",
      "...                                    ...           ...  ...   \n",
      "1125                   natural killer cell    CL:0000623  ...   \n",
      "1126                           plasma cell    CL:0000786  ...   \n",
      "1127  endothelial cell of lymphatic vessel    CL:0002138  ...   \n",
      "1128                      endothelial cell    CL:0000115  ...   \n",
      "1129                       epithelial cell    CL:0000066  ...   \n",
      "\n",
      "                             ScType_CLname  ScType_CLID  ScType_broadtype  \\\n",
      "0                                      NaN          NaN               NaN   \n",
      "1                                      NaN          NaN               NaN   \n",
      "2                                      NaN          NaN               NaN   \n",
      "3                                      NaN          NaN               NaN   \n",
      "4                                      NaN          NaN               NaN   \n",
      "...                                    ...          ...               ...   \n",
      "1125                                   NaN          NaN         t/nk cell   \n",
      "1126                           plasma cell   CL:0000786            b cell   \n",
      "1127  endothelial cell of lymphatic vessel   CL:0002138  endothelial cell   \n",
      "1128                      endothelial cell   CL:0000115  endothelial cell   \n",
      "1129                  epicardial adipocyte   CL:1000309          fat cell   \n",
      "\n",
      "     ScType_agreement gpt4aug3_aggrement_modified  \\\n",
      "0                 NaN                           2   \n",
      "1                 NaN                           3   \n",
      "2                 NaN                           3   \n",
      "3                 NaN                          -1   \n",
      "4                 NaN                          -1   \n",
      "...               ...                         ...   \n",
      "1125              0.5                           0   \n",
      "1126              1.0                           0   \n",
      "1127              1.0                           0   \n",
      "1128              1.0                           0   \n",
      "1129              0.0                           0   \n",
      "\n",
      "     gpt4mar23_aggrement_modified  gpt3.5aug3_aggrement_modified  \\\n",
      "0                               2                              2   \n",
      "1                               2                              3   \n",
      "2                               0                              3   \n",
      "3                              -1                             -1   \n",
      "4                               0                             -1   \n",
      "...                           ...                            ...   \n",
      "1125                           -1                              0   \n",
      "1126                           -1                             -1   \n",
      "1127                           -1                              0   \n",
      "1128                           -1                              0   \n",
      "1129                           -1                              0   \n",
      "\n",
      "     CellMarker2.0_aggrement_modified SingleR_aggrement_modified  \\\n",
      "0                                  -1                         -1   \n",
      "1                                  -1                         -1   \n",
      "2                                  -1                         -1   \n",
      "3                                  -1                         -1   \n",
      "4                                  -1                         -1   \n",
      "...                               ...                        ...   \n",
      "1125                               -1                          0   \n",
      "1126                               -1                          4   \n",
      "1127                               -1                          2   \n",
      "1128                               -1                          0   \n",
      "1129                               -1                         -1   \n",
      "\n",
      "     ScType_aggrement_modified  \n",
      "0                           -1  \n",
      "1                           -1  \n",
      "2                           -1  \n",
      "3                           -1  \n",
      "4                           -1  \n",
      "...                        ...  \n",
      "1125                        -1  \n",
      "1126                         0  \n",
      "1127                         0  \n",
      "1128                         0  \n",
      "1129                        -1  \n",
      "\n",
      "[1130 rows x 43 columns]\n"
     ]
    }
   ],
   "source": [
    "gene_list_scored = assign_score(gene_list)\n",
    "print(gene_list_scored)"
   ]
  },
  {
   "cell_type": "code",
   "execution_count": 42,
   "metadata": {},
   "outputs": [],
   "source": [
    "gene_list_scored.to_csv('Data/all_modified.csv')"
   ]
  },
  {
   "cell_type": "code",
   "execution_count": null,
   "metadata": {},
   "outputs": [],
   "source": []
  }
 ],
 "metadata": {
  "kernelspec": {
   "display_name": "Python 3",
   "language": "python",
   "name": "python3"
  },
  "language_info": {
   "codemirror_mode": {
    "name": "ipython",
    "version": 3
   },
   "file_extension": ".py",
   "mimetype": "text/x-python",
   "name": "python",
   "nbconvert_exporter": "python",
   "pygments_lexer": "ipython3",
   "version": "3.11.5"
  }
 },
 "nbformat": 4,
 "nbformat_minor": 2
}
