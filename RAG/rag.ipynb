{
 "cells": [
  {
   "cell_type": "markdown",
   "metadata": {},
   "source": [
    "## install required packages\n",
    "run the following command line in terminal\n",
    "\n",
    "       pip install -r requirements.txt"
   ]
  },
  {
   "cell_type": "markdown",
   "metadata": {},
   "source": [
    "## Import packages"
   ]
  },
  {
   "cell_type": "code",
   "execution_count": 1,
   "metadata": {},
   "outputs": [
    {
     "data": {
      "text/plain": [
       "False"
      ]
     },
     "execution_count": 1,
     "metadata": {},
     "output_type": "execute_result"
    }
   ],
   "source": [
    "import pandas as pd\n",
    "import numpy as np\n",
    "import os\n",
    "import json\n",
    "import obonet\n",
    "import inflect\n",
    "import networkx as nx\n",
    "import matplotlib.pyplot as plt\n",
    "import requests\n",
    "import re\n",
    "from openai import OpenAI\n",
    "from pydantic import BaseModel\n",
    "import google.generativeai as genai\n",
    "from dotenv import load_dotenv\n",
    "load_dotenv()\n"
   ]
  },
  {
   "cell_type": "markdown",
   "metadata": {},
   "source": [
    "## Define output format"
   ]
  },
  {
   "cell_type": "code",
   "execution_count": 2,
   "metadata": {},
   "outputs": [],
   "source": [
    "class cellTypeFormat(BaseModel):\n",
    "       cellType: str"
   ]
  },
  {
   "cell_type": "markdown",
   "metadata": {},
   "source": [
    "## Read cell clusters file \n",
    "file path set to ./Data/all.csv"
   ]
  },
  {
   "cell_type": "code",
   "execution_count": 3,
   "metadata": {},
   "outputs": [
    {
     "name": "stdout",
     "output_type": "stream",
     "text": [
      "0       MS4A1, TNFRSF13B, IGHM, IGHD, AIM2, CD79A, LIN...\n",
      "1       MS4A1, COCH, AIM2, BANK1, SSPN, CD79A, TEX9, R...\n",
      "2       IGHM, IGHD, CD79A, IL4R, MS4A1, CXCR4, BTG1, T...\n",
      "3       IGHA2, MZB1, TNFRSF17, DERL3, TXNDC5, TNFRSF13...\n",
      "4       GZMH, CD4, FGFBP2, ITGB1, GZMA, CST7, GNLY, B2...\n",
      "                              ...                        \n",
      "1125    KLRD1,NKG7,XCL2,CTSW,XCL1,GNLY,GZMA,KLRB1,KLRC...\n",
      "1126    JCHAIN,MZB1,DERL3,IGHG2,IGHA2,TNFRSF17,SDC1,FC...\n",
      "1127    TFF3,PKHD1L1,PROX1,NTS,FLT4,RELN,GPR182,STAB2,...\n",
      "1128    VWF,ACKR1,PLVAP,PECAM1,AQP1,RAMP3,CLEC14A,SOX1...\n",
      "1129    MSLN,UPK3B,MUC16,CALB2,KLK11,BICDL1,CHAC1,TGM1...\n",
      "Name: marker, Length: 1130, dtype: object\n",
      "dataset                                                               Azimuth\n",
      "tissue                                                                   PBMC\n",
      "marker                      MS4A1, TNFRSF13B, IGHM, IGHD, AIM2, CD79A, LIN...\n",
      "manual_annotation                                         Intermediate B cell\n",
      "manual_CLname                                       transitional stage B cell\n",
      "manual_CLID                                                        CL:0000818\n",
      "manual_broadtype                                                       b cell\n",
      "gpt4aug3_annotation                                                   B Cells\n",
      "gpt4aug3_CLname                                                        B cell\n",
      "gpt4aug3_CLID                                                      CL:0000236\n",
      "gpt4aug3_broadtype                                                     b cell\n",
      "gpt4aug3_agreement                                                        0.5\n",
      "gpt4mar23_annotation                                                  B cells\n",
      "gpt4mar23_CLname                                                       B cell\n",
      "gpt4mar23_CLID                                                     CL:0000236\n",
      "gpt4mar23_broadtype                                                    b cell\n",
      "gpt4mar23_agreement                                                       0.5\n",
      "gpt3.5aug3_annotation                                                 B cells\n",
      "gpt3.5aug3_CLname                                                      B cell\n",
      "gpt3.5aug3_CLID                                                    CL:0000236\n",
      "gpt3.5aug3_broadtype                                                   b cell\n",
      "gpt3.5aug3_agreement                                                      0.5\n",
      "CellMarker2.0_annotation                               Germinal center B cell\n",
      "CellMarker2.0_CLname                                   germinal center B cell\n",
      "CellMarker2.0_CLID                                                 CL:0000844\n",
      "CellMarker2.0_broadtype                                                b cell\n",
      "CellMarker2.0_agreement                                                   0.5\n",
      "SingleR_annotation                                                        NaN\n",
      "SingleR_CLname                                                            NaN\n",
      "SingleR_CLID                                                              NaN\n",
      "SingleR_broadtype                                                         NaN\n",
      "SingleR_agreement                                                         NaN\n",
      "ScType_annotation                                                         NaN\n",
      "ScType_CLname                                                             NaN\n",
      "ScType_CLID                                                               NaN\n",
      "ScType_broadtype                                                          NaN\n",
      "ScType_agreement                                                          NaN\n",
      "Name: 0, dtype: object\n"
     ]
    }
   ],
   "source": [
    "def read_cluster(path):\n",
    "      dataframe = pd.read_csv(path)\n",
    "      print(dataframe['marker'])\n",
    "      return dataframe \n",
    "gene_list = read_cluster('../Data/all.csv')\n",
    "print(gene_list.iloc[0])"
   ]
  },
  {
   "cell_type": "markdown",
   "metadata": {},
   "source": [
    "## Split genelist\n",
    "split genelist to multiple chunks so that it won't exceed model input size"
   ]
  },
  {
   "cell_type": "code",
   "execution_count": 140,
   "metadata": {},
   "outputs": [
    {
     "name": "stdout",
     "output_type": "stream",
     "text": [
      "['EMP2, AGER, GPRC5A, LMO7, RTKN2, ARHGEF26, LAMA3, DST, SPOCK2, SCEL', 'MS4A1, BANK1, LINC00926, CD79A, BLK, CD79B, VPREB3, SP140, CD22, ADAM28', 'KRT15, S100A2, KRT17, KRT5, KRT19, PERP, CLDN1, FHL2, DST, ITGA2', 'S100A9, S100A12, S100A8, VCAN, FCN1, CD300E, CTSS, CD99, CSF3R, METTL9', 'CD2, IL7R, TRAT1, BCL11B, ITK, CAMK4, CD6, LEF1, MALAT1, MAL', 'RSPH1, CAPS, FAM92B, CDHR3, CCDC170, SNTN, C20orf85, ZMYND10, DNAH6, FANK1', 'HLA-DPB1, FCGR2B, HLA-DMB, CLEC10A, CSF2RA, MS4A6A, HLA-DQA1, RGS1, GPR183, FPR3', 'FBLN1, ADH1B, DCN, LUM, C1S, C1R, SLIT2, C3, CFD, ABLIM1', 'CCL21, MMRN1, PROX1, PPFIBP1, TFF3, TBX1, PKHD1L1, IGFBP7, TFPI, TIMP3', 'ACP5, C1QA, C1QB, VSIG4, MARCO, OLR1, APOC1, SLCO2B1, GPD1, ITGAX', 'PRF1, NKG7, KLRF1, CD247, GNLY, PYHIN1, KLRD1, SPON2, FCGR3A, GZMB', 'MZB1, DERL3, SEC11C, XBP1, TNFRSF17, SSR4, POU2AF1, HSP90B1, PRDX4, MANF', 'SFTPA1, SFTPA2, NAPSA, SFTPB, SFTPD, SFTPC, SLC34A2, ABCA3, LAMP3, LPCAT1', 'KIT, CPA3, TPSAB1, HPGDS, VWA5A, MS4A2, HDC, CD44, GATA2, GRAP2', 'LST1, LILRB2, AIF1, COTL1, SAT1, FCN1, FCGR3A, RPS19, RHOC, IFITM2', 'FCN3, EPAS1, RAMP3, CDH5, PODXL, BTNL9, NOSTRIN, FLNB, CDC42EP1, CD81', 'CCL5, CD3D, NKG7, GZMH, CD3G, CD8A, GZMA, CD8B, RPS27, RPL34', 'SCGB3A2, CYB5A, SFTPB, PIGR, C16orf89, CTSE, KIAA1324, CEACAM6, WFDC2, DSTN', 'COL1A1, COL1A2, COL3A1, COL6A3, ASPN, LTBP1, ITGBL1, CALD1, POSTN, BGN', 'PPP1R14B, IRF4, GZMB, IL3RA, IRF7, PLD4, SEC61B, PTPRE, NPC2, TYROBP', 'H2AFZ, CDK1, UBE2C, ANLN, BIRC5, NUSAP1, STMN1, TPX2, TYMS, KPNA2', 'NUSAP1, TOP2A, HMGB2, BIRC5, H2AFV, SMC4, CENPF, AURKB, UBE2C, KIF2C', 'PLVAP, ZNF385D, SPRY1, POSTN, SPARCL1, VWF, EMCN, COL15A1, INHBB, ENPP2', 'SCGB3A1, BPIFB1, SLPI, LCN2, WFDC2, SAA1, SCGB1A1, RARRES1, MUC5B, MSMB', 'VWF, SELP, SLCO2A1, LIFR, PLA1A, PTPRB, PRSS23, CPE, TGM2, SRPX', 'COX4I2, PDGFRB, TACC1, CALD1, NID1, COL4A1, COL4A2, LAMB1, LAMC3, CHN1', 'TPM2, ACTA2, MYL9, MYH11, CALD1, DSTN, CNN1, DES, PLN, CSRP1', 'DKK2, PTPRB, EFNB2, EPAS1, GJA5, HEY1, ARGLU1, FBLN5, SEMA3G, BMX', 'HPGD, APP, EDNRB, EMCN, ESAM, STXBP6, CLDN5, CYP3A5, SOSTDC1, TBX2', 'EPAS1, SH3BP5, RALA, PECAM1, WWTR1, GALNT18, ACVRL1, SRSF11, VAT1, IPO7', 'WT1, STEAP1, MEDAG, OSR1, CPXM1, FGF7, CCDC71L, HAS1, C3, C7', 'GALNT9, ITLN1, WT1, PRG4, MGARP, C3, ALDH1A3, DMKN, SLPI, DSC3', 'TUBB1, CMTM5, ACRBP, PF4, GP9, TMEM40, ITGA2B, GRAP2, GP6, CABP5', 'GNLY, CD7, CTSW, CCL5, CD2, ZFP36L2, CXCR4, LGALS1, CEBPB, S100A6', 'SCX, FAM150A, HSPB3, RAMP1, CSRP1, CNN1, CST5, IGF1, CLU, MET', 'S100P, FAM3D, CXCL17, GABRP, WFDC2, PSCA, AGR2, TXN, CLIC1, COX5A', 'PHGR1, ASCL3, HEPACAM2, FOXI1, TMPRSS11E, ATP6V1B1, BSND, TFF3, STAC2, MFSD6L', 'PCSK1N, BEX1, SEC11C, CPE, NENF, PRDX2, CHGA, EGR1, FAM46A, SCGN', 'ZG16B, LYZ, PRB4, PRB3, PRH2, PRR4, TCN1, LPO, PHB, TESC', 'C1QB, C1QA, HLA-DRB1, AIF1, LYZ, CTSZ, CTSL, FCER1G, C1QC, LAPTM5', 'GZMA, CD7, CCL4, CST7, NKG7, GNLY, CTSW, CCL5, GZMB, PRF1', 'NAPSA, SFTPD, PEBP4, SLC39A8, SLC34A2, CYB5A, MUC1, S100A14, SFTA2, SFTA3', 'VWF, MGP, RAMP3, GNG11, RAMP2, SPARCL1, IGFBP7, CLEC14A, ACKR1, PECAM1', 'CD69, CORO1A, CXCR4, CD3E, TRBC2, TRAC, CD2, CCL5, IL32, CD3D', 'SPARCL1, SOX17, IFI27, TM4SF1, A2M, CLEC14A, GIMAP7, CRIP2, CLDN5, PECAM1', 'BGN, DCN, MGP, SPARC, CALD1, LUM, COL6A1, IGFBP7, COL1A2, C1S', 'SFTA2, CEACAM6, FXYD3, CAV1, TSPAN13, KRT7, ADIRF, HOPX, AGER, EMP2', 'SNTN, FAM229B, TMEM231, C5orf49, C12orf75, GSTA1, C11orf97, RP11-356K23.1, CD24, RP11-295M3.4', 'TSC22D3, ISG20, IGHA1, CORO1A, IGKC, IGLC2, LTB, CD79A, CD37, MS4A1', 'KRT19, CEACAM6, WFDC2, TACSTD2, CXCL17, BPIFB1, MUC1, CP, KRT7, PIGR', 'FCER1G, S100A9, S100A12, VCAN, COTL1, S100A8, CD14, LST1, FCN1, AIF1', 'CCL28, PIP, ZG16B, PIGR, SEC11C, MARCKSL1, SELM, LTF, TCN1, AZGP1', 'IFI27, TM4SF1, CLEC14A, CDH5, PECAM1, HYAL2, SPARCL1, EGFL7, CLDN5, AQP1', 'PPFIBP1, GNG11, RAMP2, CCL21, MMRN1, IGFBP7, SDPR, TM4SF1, CLDN5, ECSCR', 'AKAP12, TFF3, SDPR, CLDN5, TCF4, TFPI, TIMP3, GNG11, CCL21, IGFBP7', 'CORO1A, MS4A6A, ITGB2, GPR183, HLA-DRB1, HLA-DPB1, HLA-DPA1, HLA-DQB1, HLA-DQA1, HLA-DMA', 'CALD1, CYR61, TAGLN, MT1X, PRELP, TPM2, GPX3, CTGF, IGFBP5, SPARCL1', 'VWA5A, RGS13, C1orf186, HPGDS, CPA3, GATA2, MS4A2, KIT, TPSAB1, TPSB2', 'NEXN, ACTG2, LMOD1, IGFBP7, PPP1R14A, DES, FLNA, TPM2, PLN, SELM', 'S100A16, TUBB, HMGN2, COX20, LSM2, HMGN1, ARPC1A, ECSCR, EID1, MARCKS', 'PKHD1L1, KALRN, ST6GALNAC3, PPFIBP1, MMRN1, CD36, TSHZ2, SEMA3A, LDB2, FBXL7', 'NCKAP5, EMP2, LIMCH1, KHDRBS2, RBMS3, NTM, LAMA3, LMO7, RAB11FIP1, ST6GALNAC5', 'ZNF385B, LRRK2, MACROD2, SFTPB, PDE4D, SFTPC, ANK3, ERBB4, AUTS2, ABCA3', 'MACROD2, EYA2, RBMS3, CACHD1, GLIS3, TP63, FAF1, XPR1, SSBP2, KRT17', 'C4orf22, AGBL4, LRRIQ1, DNAH12, HYDIN, STK33, TMEM232, CDHR3, CFAP54, DNAH7', 'SFTPB, MACROD2, KIAA1217, NEDD4L, MECOM, SCGB3A2, ERBB4, BMPR1B, KIAA1324, CDK14', 'ST6GAL1, MEF2C, RALGPS2, ARHGAP15, FCHSD2, PLCG2, FBXW7, DENND5B, CREB3L2, PDK1', 'AOAH, SKAP1, ARHGAP15, B2M, CD247, FYN, KLRD1, PRKCH, PIP4K2A, PARP8', 'ARHGAP15, PARP8, SKAP1, THEMIS, FKBP5, PTPRC, FYN, BCL2, SYTL3, ITK', 'PLXDC2, SLC11A1, PPARG, MSR1, FMNL2, RNF149, TFRC, DOCK8, GPCPD1, ZEB2', 'TPSB2, TPSAB1, SLC24A3, ARHGAP15, IL18R1, SAMSN1, KIT, SRGN, SYTL3, FER', 'PRKG1, CALD1, LPP, INPP4B, CACNA1C, EBF1, TPM1, MYH11, DMD, ACTA2', 'LDB2, EPAS1, TIMP3, PECAM1, PTPRB, TCF4, CALCRL, PTPRM, EGFL7, ST6GALNAC3', 'PRKG1, SLIT2, LSAMP, RBMS3, LAMA2, ARHGAP6, ROBO2, RORA, PLEKHH2, PLXDC2', 'PLXDC2, ZEB2, SLC8A1, TBXAS1, FKBP5, SRGN, CD74, PIK3R5, CTSB, CHST11', 'G0S2, ACSL1, ADIPOQ, EBF1, PLIN2, PLIN1, GHR, LPIN1, FOXO1, PPARG', 'AGER, PDPN, HOPX, EMP2, CAV1', 'SFTPB, SFTPC, LAMP3, SLC34A2, NKX2-1', 'CR2, CD24, FAS, CXCR3, CD1c', 'FOXJ1, TUBA1A, CDHR3, HYDIN, FAM92B, DNAH5, DNAI2, DNAI1', 'BPIFA1, SCGB1A1, SCGB3A1, SCGB3A2, MUC5B, SLPI, CYP2F2', 'COL6A1, COL1A1, COL3A1, COL5A1, NEGR1, CCN2, FN1, DCN, SLIT2, COL6A6, HGF, COL18A1, IL6, IL33, IGFBP3, IGFBP5, COL1A2, DDR2, COL5A2, COL6A2, COL6A3, FBLN1, COL4A1, FBN1, VIM', 'MMRN1, FLT4, RELN, CCL21, PROX1, LYVE1', 'CD163, MS4A4A, RBPJ, MS4A6A, MRC1, C1QA, MR1, LYVE1, CSF1R, PTPRC, SLC11A1, LYZ, CD74, CD36, MERTK, MSR1, CPM, MS4A6A, CD163, CD68', 'TPSAB1, FCER1A, TPSB2, KIT, CD69, HDC', 'PDGFRB, ACTA2, MYO1B, ACTA2, ANPEP, DES, MCAM, PDGFRB, CSPG4', 'TAGLN, ACTA2, MYH11, MYOCD, SMTN, VCL, CNN1, ACTG2, MYL9, PALLD, GUCY1A3, GUCY1B3, ACTN1, DES', 'CD96, PTPRC, CD247, SKAP1, THEMIS, CD69, IL7R, NKG7, TRAC, CD3D, CD3E, CD3G, TRBC1', 'VWF, PECAM1, RAMP3, CD300LG, BACE2, EPHB4, NOSTRIN, LDB2, PTPRB, CLDN5', 'NAPSA,SFTPA1,SFTPA2,SFTPD,SFTA2,SFTPB,SLC34A2,PGC,HOPX,MUC1', 'IL1R2,S100A12,FCGR3B,CXCR2,MTND5P32,PROK2,CD177,MMP25,OLAH,MGAM', 'IL7R,IL32,CD3D,CD69,CD3E,TRAC,CXCR4,CD2,CD3G,TRBC2', 'CCL5,GZMA,IL32,CCL4,NKG7,CD3D,CD2,KLRD1,CD3E,GNLY', 'GNLY,KLRD1,GZMB,PRF1,GZMA,FGFBP2,CST7,CD247,KLRF1,KLRB1', 'RBP5,SELE,CCL14,ZNF385D,CYTL1,POSTN,PLVAP,ADAMTS4,NEURL1B,EXOC3L2', 'ACTG2,DES,ADRA2C,FOXC2,CNN1,JPH2,MYH11,CCN5,HSPB6,AC100803.2', 'DCN,IGFBP6,FBLN1,PLA2G2A,C1S,MFAP4,MFAP5,C1R,SERPINF1,MGP', 'C1QA,MARCO,ACP5,MS4A7,APOC1,C1QB,MRC1,APOE,VSIG4,FABP4', 'TPSB2,TPSAB1,CPA3,MS4A2,RHEX,HPGDS,KIT,CD69,GATA2,VWA5A', 'S100A8,VCAN,FCN1,S100A12,S100A9,MNDA,FGL2,COTL1,CD300E,VSIR', 'PTPRB,CXCL12,GJA5,DKK2,NPR3,SERPINE2,SSTR1,NOS1,SOX17,MMRN2', 'CAPS,TMEM190,C20orf85,C9orf24,TPPP3,RSPH1,C11orf88,C1orf194,PIFO,TSPAN1', 'FCER1A,CD1C,GPR183,S100B,CLEC10A,CD1E,FCGR2B,PKIB,CST7,CLEC5A', 'BPIFB1,LCN2,SCGB1A1,MSMB,SCGB3A1,WFDC2,TFF3,CP,SERPINB3,TSPAN1', 'S100A2,MIR205HG,KRT5,KRT15,KRT19,KRT17,ALDH3A1,PERP,TACSTD2,IGFBP2', 'JCHAIN,MZB1,IGHG3,DERL3,IGHG2,CD79A,IGHG4,IGHA2,TNFRSF17,SPAG4', 'CD79A,MS4A1,TNFRSF13C,IGHM,VPREB3,TNFRSF13B,BLK,LINC01781,CD19,PAX5', 'PRR4,PRB3,TCN1,C6orf58,LPO,TTYH1,LINC01829,SLC5A1,PRB1,ANO1', 'FGL2,MS4A6A,CD163,MAFB,CSF1R,FCGR3A,AIF1,RNASE6,LST1,HCLS1', 'FCN3,MT1M,TIMP3,RAMP2,SLC6A4,VWF,CLDN5,FAM107A,CALCRL,LRRC32', 'EDNRB,CLDN5,IL1RL1,CA4,EMCN,GNG11,TIMP3,HPGD,SPARCL1,RAMP2', 'RTKN2,SCEL,NTM,MS4A15,NCKAP5,PKDCC,ITLN2,UPK3B,MYRF,ST6GALNAC5', 'ACKR1,VWF,C7,SPARCL1,IGFBP7,RAMP3,TIMP3,PRSS23,LIFR,CLU', 'DCN,LUM,ADH1B,MGP,FBLN1,C1S,MFAP4,RARRES2,C7,PTGDS', 'CCL21,MMRN1,PROX1,SEMA3D,FOXC2,SCN3B,GPR182,RELN,HOXD9,STAB2', 'MYH11,PPP1R14A,ACTG2,CRYAB,DES,LMOD1,CNN1,PLAC9,CARMN,PLN', 'AL139020.1,PLD4,MZB1,LILRA4,SCT,SPIB,CLEC4C,LAMP5,FAM129C,AL357143.1', 'SCGB3A2,CYP2B7P,CEACAM6,WFDC2,FOLR1,GPRC5A,NEDD4L,PIGR,ELF3,SFTPB', 'ACKR1,SPARCL1,VWF,PLVAP,IGFBP7,NPDC1,CLDN5,LIFR,C7,CLU', 'PPP1R14A,CCN5,BGN,MYH11,PDGFRB,COX4I2,C2orf40,PRELP,LMOD1,GJA4', 'AC005821.1,LRRC38,MKRN9P,KCTD8,RSPO1,GPR1,SYT4,PLPPR4,LINC01902,FABP7', 'COX4I2,TPM2,BGN,PDGFRB,HIGD1B,PPP1R14A,INMT,KCNK3,RGN,NDUFA4L2', 'ITLN1,PRG4,HAS1,CPB1,BCHE,VIPR2,BNC1,SYT4,ROR2,RSPO1', 'AC009269.2,SCN7A,BMP5,AL135910.1,SGIP1,CARMN,CACNA1C,COL1A2,ABCA6,TARID', 'FCN1,RNASE2,CD300E,VCAN,FGL2,LILRB2,MPEG1,CORO1A,LILRA1,AIF1', 'ASCL3,CEL,HEPACAM2,ATP6V1G3,CLCNKB,CLNK,LINC01187,TMPRSS11E,PROX1,DGKI']\n"
     ]
    }
   ],
   "source": [
    "# Generate the user message for each chunk\n",
    "def generate_user_message(gene_list:  pd.DataFrame, max_chunk_size=100) -> list:\n",
    "    # Split the gene_list into chunks\n",
    "    lung_data = gene_list[gene_list[\"tissue\"] == \"Lung\"]\n",
    "\n",
    "\n",
    "    return lung_data['marker'].to_list()\n",
    "\n",
    "# Generate messages with a tunable chunk size\n",
    "messages = generate_user_message(gene_list, max_chunk_size=1)  # Adjust max_chunk_size as needed\n",
    "print(messages)"
   ]
  },
  {
   "cell_type": "markdown",
   "metadata": {},
   "source": [
    "## Gemeni ai"
   ]
  },
  {
   "cell_type": "markdown",
   "metadata": {},
   "source": [
    "### model configuration\n",
    "set the GOOGLE_API_KEY under .env file"
   ]
  },
  {
   "cell_type": "code",
   "execution_count": 5,
   "metadata": {},
   "outputs": [
    {
     "ename": "NameError",
     "evalue": "name 'genai' is not defined",
     "output_type": "error",
     "traceback": [
      "\u001b[0;31m---------------------------------------------------------------------------\u001b[0m",
      "\u001b[0;31mNameError\u001b[0m                                 Traceback (most recent call last)",
      "Cell \u001b[0;32mIn[5], line 1\u001b[0m\n\u001b[0;32m----> 1\u001b[0m \u001b[43mgenai\u001b[49m\u001b[38;5;241m.\u001b[39mconfigure(api_key\u001b[38;5;241m=\u001b[39mos\u001b[38;5;241m.\u001b[39mgetenv(\u001b[38;5;124m\"\u001b[39m\u001b[38;5;124mGOOGLE_API_KEY\u001b[39m\u001b[38;5;124m\"\u001b[39m))\n\u001b[1;32m      2\u001b[0m gemeni_model \u001b[38;5;241m=\u001b[39m genai\u001b[38;5;241m.\u001b[39mGenerativeModel(\u001b[38;5;124m\"\u001b[39m\u001b[38;5;124mgemini-1.5-flash\u001b[39m\u001b[38;5;124m\"\u001b[39m)\n\u001b[1;32m      3\u001b[0m gemeni_config \u001b[38;5;241m=\u001b[39m genai\u001b[38;5;241m.\u001b[39mGenerationConfig(response_mime_type\u001b[38;5;241m=\u001b[39m\u001b[38;5;124m\"\u001b[39m\u001b[38;5;124mapplication/json\u001b[39m\u001b[38;5;124m\"\u001b[39m,response_schema\u001b[38;5;241m=\u001b[39m\u001b[38;5;28mlist\u001b[39m[cellTypeFormat])\n",
      "\u001b[0;31mNameError\u001b[0m: name 'genai' is not defined"
     ]
    }
   ],
   "source": [
    "genai.configure(api_key=os.getenv(\"GOOGLE_API_KEY\"))\n",
    "gemeni_model = genai.GenerativeModel(\"gemini-1.5-flash\")\n",
    "gemeni_config = genai.GenerationConfig(response_mime_type=\"application/json\",response_schema=list[cellTypeFormat])"
   ]
  },
  {
   "cell_type": "markdown",
   "metadata": {},
   "source": [
    "### Send prompt to gemini"
   ]
  },
  {
   "cell_type": "code",
   "execution_count": null,
   "metadata": {},
   "outputs": [],
   "source": [
    "earlyStop = 2\n",
    "Prompt = \"Identify cell types using the following tissue name and markers separately for each row. Only provide the cell type name. Do not show numbers before the name. Some can be a mixture of multiple cell types.\"\n",
    "def annotateCell_Gemini(messages: list)->list:\n",
    "    global gemeni_model, gemeni_config \n",
    "    responses = []\n",
    "    i = 0\n",
    "    for message in messages:\n",
    "       i+=1\n",
    "       if i> earlyStop:\n",
    "              break\n",
    "       prompt = Prompt\n",
    "       for cluster in message:\n",
    "              prompt += cluster\n",
    "              prompt += '\\n'\n",
    "       print(prompt)\n",
    "       response = gemeni_model.generate_content(\n",
    "              prompt,\n",
    "              generation_config=gemeni_config\n",
    "       )\n",
    "       responses.append(response.text)\n",
    "    return responses\n"
   ]
  },
  {
   "cell_type": "code",
   "execution_count": null,
   "metadata": {},
   "outputs": [
    {
     "name": "stdout",
     "output_type": "stream",
     "text": [
      "Identify cell types using the following tissue name and markers separately for each row. Only provide the cell type name. Do not show numbers before the name. Some can be a mixture of multiple cell types.PBMC : MS4A1, TNFRSF13B, IGHM, IGHD, AIM2, CD79A, LINC01857, RALGPS2, BANK1, CD79B\n",
      "PBMC : MS4A1, COCH, AIM2, BANK1, SSPN, CD79A, TEX9, RALGPS2, TNFRSF13C, LINC01781\n",
      "PBMC : IGHM, IGHD, CD79A, IL4R, MS4A1, CXCR4, BTG1, TCL1A, CD79B, YBX3\n",
      "PBMC : IGHA2, MZB1, TNFRSF17, DERL3, TXNDC5, TNFRSF13B, POU2AF1, CPNE5, HRASLS2, NT5DC2\n",
      "PBMC : GZMH, CD4, FGFBP2, ITGB1, GZMA, CST7, GNLY, B2M, IL32, NKG7\n",
      "PBMC : TCF7, CD4, CCR7, IL7R, FHIT, LEF1, MAL, NOSIP, LDHB, PIK3IP1\n",
      "PBMC : MKI67, TOP2A, PCLAF, CENPF, TYMS, NUSAP1, ASPM, PTTG1, TPX2, RRM2\n",
      "PBMC : IL7R, TMSB10, CD4, ITGB1, LTB, TRAC, AQP3, LDHB, IL32, MAL\n",
      "PBMC : IL7R, CCL5, FYB1, GZMK, IL32, GZMA, KLRB1, TRAC, LTB, AQP3\n",
      "PBMC : RTKN2, FOXP3, AC133644.2, CD4, IL2RA, TIGIT, CTLA4, FCRL3, LAIR2, IKZF2\n",
      "\n",
      "Identify cell types using the following tissue name and markers separately for each row. Only provide the cell type name. Do not show numbers before the name. Some can be a mixture of multiple cell types.PBMC : CD8B, S100B, CCR7, RGS10, NOSIP, LINC02446, LEF1, CRTAM, CD8A, OXNAD1\n",
      "PBMC : MKI67, CD8B, TYMS, TRAC, PCLAF, CD3D, CLSPN, CD3G, TK1, RRM2\n",
      "PBMC : CD8B, ANXA1, CD8A, KRT1, LINC02446, YBX3, IL7R, TRAC, NELL2, LDHB\n",
      "PBMC : CCL5, GZMH, CD8A, TRAC, KLRD1, NKG7, GZMK, CST7, CD8B, TRGC2\n",
      "PBMC : PPP1R14A, LILRA4, AXL, IL3RA, SCT, SCN9A, LGMN, DNASE1L3, CLEC4C, GAS6\n",
      "PBMC : CLEC9A, DNASE1L3, C1orf54, IDO1, CLNK, CADM1, FLT3, ENPP1, XCR1, NDRG2\n",
      "PBMC : FCER1A, HLA-DQA1, CLEC10A, CD1C, ENHO, PLD4, GSN, SLC38A1, NDRG2, AFF3\n",
      "PBMC : ITM2C, PLD4, SERPINF1, LILRA4, IL3RA, TPM2, MZB1, SPIB, IRF4, SMPD3\n",
      "PBMC : S100A9, CTSS, S100A8, LYZ, VCAN, S100A12, IL1B, CD14, G0S2, FCN1\n",
      "PBMC : CDKN1C, FCGR3A, PTPRC, LST1, IER5, MS4A7, RHOC, IFITM3, AIF1, HES4\n",
      "\n",
      "['[{\"cellType\": \"B cells\"}, {\"cellType\": \"B cells\"}, {\"cellType\": \"B cells\"}, {\"cellType\": \"B cells\"}, {\"cellType\": \"Cytotoxic T cells\"}, {\"cellType\": \"T cells\"}, {\"cellType\": \"Proliferating cells\"}, {\"cellType\": \"T cells\"}, {\"cellType\": \"Cytotoxic T cells\"}, {\"cellType\": \"T regulatory cells\"}]', '[{\"cellType\": \"T cells, activated NK cells\"}, {\"cellType\": \"T cells\"}, {\"cellType\": \"T cells\"}, {\"cellType\": \"Cytotoxic T cells\"}, {\"cellType\": \"Monocytes\"}, {\"cellType\": \"Dendritic cells\"}, {\"cellType\": \"Dendritic cells\"}, {\"cellType\": \"B cells\"}, {\"cellType\": \"Monocytes\"}, {\"cellType\": \"Macrophages\"}]']\n"
     ]
    }
   ],
   "source": [
    "annotateCell_Gemini_results = annotateCell_Gemini(messages)\n",
    "print(annotateCell_Gemini_results)"
   ]
  },
  {
   "cell_type": "markdown",
   "metadata": {},
   "source": [
    "## GPT"
   ]
  },
  {
   "cell_type": "markdown",
   "metadata": {},
   "source": [
    "### model configuration"
   ]
  },
  {
   "cell_type": "code",
   "execution_count": null,
   "metadata": {},
   "outputs": [],
   "source": [
    "# import os\n",
    "# os.environ[\"OPENAI_API_KEY\"] = \n",
    "client = OpenAI(api_key = api_key)"
   ]
  },
  {
   "cell_type": "markdown",
   "metadata": {},
   "source": [
    "### upload file"
   ]
  },
  {
   "cell_type": "code",
   "execution_count": 6,
   "metadata": {},
   "outputs": [],
   "source": [
    "def upload_cell_cluster(filename):\n",
    "       global client\n",
    "       client.files.create(\n",
    "              file=open(filename, \"rb\"),\n",
    "              purpose=\"assistant\"\n",
    "       )\n",
    "       print(client.files.list())"
   ]
  },
  {
   "cell_type": "markdown",
   "metadata": {},
   "source": [
    "### Create Embeddings"
   ]
  },
  {
   "cell_type": "code",
   "execution_count": 161,
   "metadata": {},
   "outputs": [],
   "source": [
    "# To replace the legacy openai.embeddings_utils.get_embedding function\n",
    "def get_embedding(text, model=\"text-embedding-3-small\"):\n",
    "   text = str(text).replace(\"\\n\", \" \")\n",
    "   return client.embeddings.create(input = [text], model=model).data[0].embedding\n",
    "# 加載 RAG 資料庫\n",
    "cell_type_db = pd.read_csv(\"lung_canonical_cell_type_markers_from_literature.csv\")\n",
    "marker_importance_db = pd.read_csv(\"lung_cluster_cell_type_marker_importance.csv\")\n"
   ]
  },
  {
   "cell_type": "code",
   "execution_count": null,
   "metadata": {},
   "outputs": [],
   "source": [
    "# 只要做一次就好\n",
    "# 計算資料庫嵌入\n",
    "cell_type_db[\"embedding\"] = cell_type_db[\"markers\"].apply(lambda x: get_embedding(x, model='text-embedding-ada-002'))\n",
    "marker_importance_db[\"embedding\"] = marker_importance_db[\"marker\"].apply(lambda x: get_embedding(x, model='text-embedding-ada-002'))\n",
    "\n",
    "# 保存嵌入\n",
    "cell_type_db[\"embedding\"].to_csv(\"cell_type_embedding.csv\")\n",
    "marker_importance_db[\"embedding\"].to_csv(\"marker_importance_embedding.csv\")"
   ]
  },
  {
   "cell_type": "code",
   "execution_count": 163,
   "metadata": {},
   "outputs": [
    {
     "name": "stdout",
     "output_type": "stream",
     "text": [
      "[-0.0022751   0.00393444  0.02531783 ... -0.02559006 -0.02050835\n",
      " -0.00551599]\n",
      "[ 0.00537706 -0.00582684  0.00831246 ... -0.04004051 -0.00739938\n",
      " -0.0117619 ]\n"
     ]
    }
   ],
   "source": [
    "# 沒做上面的話，直接跑這個\n",
    "import ast  # 或者用 json\n",
    "\n",
    "if not os.path.exists(\"marker_importance_embedding.csv\"):\n",
    "    dfs = [pd.read_csv(f\"splitted_data/marker_importance_embedding-{i}.csv\") for i in range(1, 13)]\n",
    "    marker_importance_db[\"embedding\"] = pd.concat(dfs, ignore_index=True)[\"embedding\"]\n",
    "else:\n",
    "    marker_importance_db[\"embedding\"] = pd.read_csv(\"marker_importance_embedding.csv\")[\"embedding\"]\n",
    "# 加載嵌入\n",
    "cell_type_db[\"embedding\"] = pd.read_csv(\"cell_type_embedding.csv\")[\"embedding\"]\n",
    "# marker_importance_db[\"embedding\"] = pd.read_csv(\"marker_importance_embedding.csv\")\n",
    "cell_type_db[\"embedding\"] = cell_type_db[\"embedding\"].apply(lambda x: np.array(ast.literal_eval(x), dtype=float))\n",
    "marker_importance_db[\"embedding\"] = marker_importance_db[\"embedding\"].apply(lambda x: np.array(ast.literal_eval(x), dtype=float))\n",
    "\n",
    "print(cell_type_db[\"embedding\"][0])\n",
    "print(marker_importance_db[\"embedding\"][0])"
   ]
  },
  {
   "cell_type": "markdown",
   "metadata": {},
   "source": [
    "### send prompt to GPT"
   ]
  },
  {
   "cell_type": "code",
   "execution_count": 170,
   "metadata": {},
   "outputs": [
    {
     "name": "stderr",
     "output_type": "stream",
     "text": [
      "  1%|          | 1/126 [00:01<02:12,  1.06s/it]"
     ]
    },
    {
     "name": "stdout",
     "output_type": "stream",
     "text": [
      "{{alveolar epithelial cell}}\n"
     ]
    },
    {
     "name": "stderr",
     "output_type": "stream",
     "text": [
      "  2%|▏         | 2/126 [00:01<02:01,  1.02it/s]"
     ]
    },
    {
     "name": "stdout",
     "output_type": "stream",
     "text": [
      "{{B cell}}\n"
     ]
    },
    {
     "name": "stderr",
     "output_type": "stream",
     "text": [
      "  2%|▏         | 3/126 [00:03<02:07,  1.04s/it]"
     ]
    },
    {
     "name": "stdout",
     "output_type": "stream",
     "text": [
      "{{basal epithelial cell}}\n"
     ]
    },
    {
     "name": "stderr",
     "output_type": "stream",
     "text": [
      "  3%|▎         | 4/126 [00:04<02:11,  1.08s/it]"
     ]
    },
    {
     "name": "stdout",
     "output_type": "stream",
     "text": [
      "{{neutrophil}}\n"
     ]
    },
    {
     "name": "stderr",
     "output_type": "stream",
     "text": [
      "  4%|▍         | 5/126 [00:05<02:26,  1.21s/it]"
     ]
    },
    {
     "name": "stdout",
     "output_type": "stream",
     "text": [
      "{{T cell}}\n"
     ]
    },
    {
     "name": "stderr",
     "output_type": "stream",
     "text": [
      "  5%|▍         | 6/126 [00:06<02:12,  1.11s/it]"
     ]
    },
    {
     "name": "stdout",
     "output_type": "stream",
     "text": [
      "{{ciliated cell}}\n"
     ]
    },
    {
     "name": "stderr",
     "output_type": "stream",
     "text": [
      "  6%|▌         | 7/126 [00:07<02:09,  1.09s/it]"
     ]
    },
    {
     "name": "stdout",
     "output_type": "stream",
     "text": [
      "{{dendritic cell}}\n"
     ]
    },
    {
     "name": "stderr",
     "output_type": "stream",
     "text": [
      "  6%|▋         | 8/126 [00:08<02:12,  1.12s/it]"
     ]
    },
    {
     "name": "stdout",
     "output_type": "stream",
     "text": [
      "{{fibroblast}}\n"
     ]
    },
    {
     "name": "stderr",
     "output_type": "stream",
     "text": [
      "  7%|▋         | 9/126 [00:09<02:08,  1.10s/it]"
     ]
    },
    {
     "name": "stdout",
     "output_type": "stream",
     "text": [
      "{{lymphatic endothelial cell}}\n"
     ]
    },
    {
     "name": "stderr",
     "output_type": "stream",
     "text": [
      "  8%|▊         | 10/126 [00:10<02:08,  1.11s/it]"
     ]
    },
    {
     "name": "stdout",
     "output_type": "stream",
     "text": [
      "{{macrophage}}\n"
     ]
    },
    {
     "name": "stderr",
     "output_type": "stream",
     "text": [
      "  9%|▊         | 11/126 [00:11<02:03,  1.07s/it]"
     ]
    },
    {
     "name": "stdout",
     "output_type": "stream",
     "text": [
      "{{natural killer cell}}\n"
     ]
    },
    {
     "name": "stderr",
     "output_type": "stream",
     "text": [
      " 10%|▉         | 12/126 [00:13<02:01,  1.06s/it]"
     ]
    },
    {
     "name": "stdout",
     "output_type": "stream",
     "text": [
      "{{plasma cell}}\n"
     ]
    },
    {
     "name": "stderr",
     "output_type": "stream",
     "text": [
      " 10%|█         | 13/126 [00:13<01:53,  1.00s/it]"
     ]
    },
    {
     "name": "stdout",
     "output_type": "stream",
     "text": [
      "{{alveolar type II cell}}\n"
     ]
    },
    {
     "name": "stderr",
     "output_type": "stream",
     "text": [
      " 11%|█         | 14/126 [00:14<01:47,  1.04it/s]"
     ]
    },
    {
     "name": "stdout",
     "output_type": "stream",
     "text": [
      "{{mast cell}}\n"
     ]
    },
    {
     "name": "stderr",
     "output_type": "stream",
     "text": [
      " 12%|█▏        | 15/126 [00:15<01:41,  1.09it/s]"
     ]
    },
    {
     "name": "stdout",
     "output_type": "stream",
     "text": [
      "{{neutrophil}}\n"
     ]
    },
    {
     "name": "stderr",
     "output_type": "stream",
     "text": [
      " 13%|█▎        | 16/126 [00:16<01:45,  1.05it/s]"
     ]
    },
    {
     "name": "stdout",
     "output_type": "stream",
     "text": [
      "{{endothelial cell}}\n"
     ]
    },
    {
     "name": "stderr",
     "output_type": "stream",
     "text": [
      " 13%|█▎        | 17/126 [00:17<01:53,  1.04s/it]"
     ]
    },
    {
     "name": "stdout",
     "output_type": "stream",
     "text": [
      "{{cytotoxic T cell}}\n"
     ]
    },
    {
     "name": "stderr",
     "output_type": "stream",
     "text": [
      " 14%|█▍        | 18/126 [00:19<01:56,  1.08s/it]"
     ]
    },
    {
     "name": "stdout",
     "output_type": "stream",
     "text": [
      "{{club cell/alveolar type II cell}}\n"
     ]
    },
    {
     "name": "stderr",
     "output_type": "stream",
     "text": [
      " 15%|█▌        | 19/126 [00:20<02:08,  1.20s/it]"
     ]
    },
    {
     "name": "stdout",
     "output_type": "stream",
     "text": [
      "{{fibroblast}}\n"
     ]
    },
    {
     "name": "stderr",
     "output_type": "stream",
     "text": [
      " 16%|█▌        | 20/126 [00:21<02:13,  1.26s/it]"
     ]
    },
    {
     "name": "stdout",
     "output_type": "stream",
     "text": [
      "{{natural killer t cell}}\n"
     ]
    },
    {
     "name": "stderr",
     "output_type": "stream",
     "text": [
      " 17%|█▋        | 21/126 [00:22<02:06,  1.20s/it]"
     ]
    },
    {
     "name": "stdout",
     "output_type": "stream",
     "text": [
      "{{proliferating epithelial cells}}\n"
     ]
    },
    {
     "name": "stderr",
     "output_type": "stream",
     "text": [
      " 17%|█▋        | 22/126 [00:24<01:59,  1.15s/it]"
     ]
    },
    {
     "name": "stdout",
     "output_type": "stream",
     "text": [
      "{{proliferating cell}}\n"
     ]
    },
    {
     "name": "stderr",
     "output_type": "stream",
     "text": [
      " 18%|█▊        | 23/126 [00:24<01:51,  1.09s/it]"
     ]
    },
    {
     "name": "stdout",
     "output_type": "stream",
     "text": [
      "{{endothelial cell}}\n"
     ]
    },
    {
     "name": "stderr",
     "output_type": "stream",
     "text": [
      " 19%|█▉        | 24/126 [00:25<01:49,  1.07s/it]"
     ]
    },
    {
     "name": "stdout",
     "output_type": "stream",
     "text": [
      "{{club cell}}\n"
     ]
    },
    {
     "name": "stderr",
     "output_type": "stream",
     "text": [
      " 20%|█▉        | 25/126 [00:29<02:49,  1.68s/it]"
     ]
    },
    {
     "name": "stdout",
     "output_type": "stream",
     "text": [
      "{{endothelial cell}}\n"
     ]
    },
    {
     "name": "stderr",
     "output_type": "stream",
     "text": [
      " 21%|██        | 26/126 [00:30<02:27,  1.48s/it]"
     ]
    },
    {
     "name": "stdout",
     "output_type": "stream",
     "text": [
      "{{endothelial cell}}\n"
     ]
    },
    {
     "name": "stderr",
     "output_type": "stream",
     "text": [
      " 21%|██▏       | 27/126 [00:31<02:13,  1.35s/it]"
     ]
    },
    {
     "name": "stdout",
     "output_type": "stream",
     "text": [
      "{{smooth muscle cell}}\n"
     ]
    },
    {
     "name": "stderr",
     "output_type": "stream",
     "text": [
      " 22%|██▏       | 28/126 [00:31<01:56,  1.19s/it]"
     ]
    },
    {
     "name": "stdout",
     "output_type": "stream",
     "text": [
      "{{artery endothelial cell}}\n"
     ]
    },
    {
     "name": "stderr",
     "output_type": "stream",
     "text": [
      " 23%|██▎       | 29/126 [00:32<01:46,  1.10s/it]"
     ]
    },
    {
     "name": "stdout",
     "output_type": "stream",
     "text": [
      "{{endothelial cell}}\n"
     ]
    },
    {
     "name": "stderr",
     "output_type": "stream",
     "text": [
      " 24%|██▍       | 30/126 [00:33<01:40,  1.05s/it]"
     ]
    },
    {
     "name": "stdout",
     "output_type": "stream",
     "text": [
      "{{unknown or mixed lineage}}\n"
     ]
    },
    {
     "name": "stderr",
     "output_type": "stream",
     "text": [
      " 25%|██▍       | 31/126 [00:34<01:37,  1.02s/it]"
     ]
    },
    {
     "name": "stdout",
     "output_type": "stream",
     "text": [
      "{{cell_type_name}} fibroblast\n"
     ]
    },
    {
     "name": "stderr",
     "output_type": "stream",
     "text": [
      " 25%|██▌       | 32/126 [00:35<01:38,  1.05s/it]"
     ]
    },
    {
     "name": "stdout",
     "output_type": "stream",
     "text": [
      "{{undefined_cell_type}}\n"
     ]
    },
    {
     "name": "stderr",
     "output_type": "stream",
     "text": [
      " 26%|██▌       | 33/126 [00:36<01:35,  1.03s/it]"
     ]
    },
    {
     "name": "stdout",
     "output_type": "stream",
     "text": [
      "{{platelet}}\n"
     ]
    },
    {
     "name": "stderr",
     "output_type": "stream",
     "text": [
      " 27%|██▋       | 34/126 [00:37<01:33,  1.02s/it]"
     ]
    },
    {
     "name": "stdout",
     "output_type": "stream",
     "text": [
      "{{natural killer t cell}}\n"
     ]
    },
    {
     "name": "stderr",
     "output_type": "stream",
     "text": [
      " 28%|██▊       | 35/126 [00:38<01:30,  1.01it/s]"
     ]
    },
    {
     "name": "stdout",
     "output_type": "stream",
     "text": [
      "{{airway smooth muscle}}\n"
     ]
    },
    {
     "name": "stderr",
     "output_type": "stream",
     "text": [
      " 29%|██▊       | 36/126 [00:39<01:33,  1.04s/it]"
     ]
    },
    {
     "name": "stdout",
     "output_type": "stream",
     "text": [
      "{{bronchial epithelial cell}}\n"
     ]
    },
    {
     "name": "stderr",
     "output_type": "stream",
     "text": [
      " 29%|██▉       | 37/126 [00:40<01:31,  1.02s/it]"
     ]
    },
    {
     "name": "stdout",
     "output_type": "stream",
     "text": [
      "{{club cell}}\n"
     ]
    },
    {
     "name": "stderr",
     "output_type": "stream",
     "text": [
      " 30%|███       | 38/126 [00:41<01:31,  1.04s/it]"
     ]
    },
    {
     "name": "stdout",
     "output_type": "stream",
     "text": [
      "{{neuroendocrine cell}}\n"
     ]
    },
    {
     "name": "stderr",
     "output_type": "stream",
     "text": [
      " 31%|███       | 39/126 [00:42<01:27,  1.00s/it]"
     ]
    },
    {
     "name": "stdout",
     "output_type": "stream",
     "text": [
      "{{serous cell}}\n"
     ]
    },
    {
     "name": "stderr",
     "output_type": "stream",
     "text": [
      " 32%|███▏      | 40/126 [00:43<01:25,  1.01it/s]"
     ]
    },
    {
     "name": "stdout",
     "output_type": "stream",
     "text": [
      "{{macrophage}}\n"
     ]
    },
    {
     "name": "stderr",
     "output_type": "stream",
     "text": [
      " 33%|███▎      | 41/126 [00:44<01:23,  1.02it/s]"
     ]
    },
    {
     "name": "stdout",
     "output_type": "stream",
     "text": [
      "{{cytotoxic T cell}}\n"
     ]
    },
    {
     "name": "stderr",
     "output_type": "stream",
     "text": [
      " 33%|███▎      | 42/126 [00:45<01:17,  1.09it/s]"
     ]
    },
    {
     "name": "stdout",
     "output_type": "stream",
     "text": [
      "{{alveolar type II pneumocyte}}\n"
     ]
    },
    {
     "name": "stderr",
     "output_type": "stream",
     "text": [
      " 34%|███▍      | 43/126 [00:46<01:17,  1.07it/s]"
     ]
    },
    {
     "name": "stdout",
     "output_type": "stream",
     "text": [
      "{{endothelial cell}}\n"
     ]
    },
    {
     "name": "stderr",
     "output_type": "stream",
     "text": [
      " 35%|███▍      | 44/126 [00:47<01:16,  1.07it/s]"
     ]
    },
    {
     "name": "stdout",
     "output_type": "stream",
     "text": [
      "{{T cell}}\n"
     ]
    },
    {
     "name": "stderr",
     "output_type": "stream",
     "text": [
      " 36%|███▌      | 45/126 [00:48<01:14,  1.09it/s]"
     ]
    },
    {
     "name": "stdout",
     "output_type": "stream",
     "text": [
      "{{endothelial cell}}\n"
     ]
    },
    {
     "name": "stderr",
     "output_type": "stream",
     "text": [
      " 37%|███▋      | 46/126 [00:49<01:19,  1.00it/s]"
     ]
    },
    {
     "name": "stdout",
     "output_type": "stream",
     "text": [
      "{{myofibroblast}}\n"
     ]
    },
    {
     "name": "stderr",
     "output_type": "stream",
     "text": [
      " 37%|███▋      | 47/126 [00:50<01:18,  1.01it/s]"
     ]
    },
    {
     "name": "stdout",
     "output_type": "stream",
     "text": [
      "{{alveolar epithelial type 1 cell}}\n"
     ]
    },
    {
     "name": "stderr",
     "output_type": "stream",
     "text": [
      " 38%|███▊      | 48/126 [00:53<01:53,  1.46s/it]"
     ]
    },
    {
     "name": "stdout",
     "output_type": "stream",
     "text": [
      "{{alveolar epithelial type 2 cell}}\n"
     ]
    },
    {
     "name": "stderr",
     "output_type": "stream",
     "text": [
      " 39%|███▉      | 49/126 [00:53<01:38,  1.28s/it]"
     ]
    },
    {
     "name": "stdout",
     "output_type": "stream",
     "text": [
      "{{B cell}}\n"
     ]
    },
    {
     "name": "stderr",
     "output_type": "stream",
     "text": [
      " 40%|███▉      | 50/126 [00:54<01:29,  1.18s/it]"
     ]
    },
    {
     "name": "stdout",
     "output_type": "stream",
     "text": [
      "{{club_cell}}\n"
     ]
    },
    {
     "name": "stderr",
     "output_type": "stream",
     "text": [
      " 40%|████      | 51/126 [00:55<01:24,  1.13s/it]"
     ]
    },
    {
     "name": "stdout",
     "output_type": "stream",
     "text": [
      "{{classical monocyte}}\n"
     ]
    },
    {
     "name": "stderr",
     "output_type": "stream",
     "text": [
      " 41%|████▏     | 52/126 [00:56<01:22,  1.11s/it]"
     ]
    },
    {
     "name": "stdout",
     "output_type": "stream",
     "text": [
      "{{goblet cell}}\n"
     ]
    },
    {
     "name": "stderr",
     "output_type": "stream",
     "text": [
      " 42%|████▏     | 53/126 [00:57<01:18,  1.08s/it]"
     ]
    },
    {
     "name": "stdout",
     "output_type": "stream",
     "text": [
      "{{endothelial cell}}\n"
     ]
    },
    {
     "name": "stderr",
     "output_type": "stream",
     "text": [
      " 43%|████▎     | 54/126 [00:58<01:14,  1.04s/it]"
     ]
    },
    {
     "name": "stdout",
     "output_type": "stream",
     "text": [
      "{{endothelial cell}}\n"
     ]
    },
    {
     "name": "stderr",
     "output_type": "stream",
     "text": [
      " 44%|████▎     | 55/126 [01:01<01:38,  1.39s/it]"
     ]
    },
    {
     "name": "stdout",
     "output_type": "stream",
     "text": [
      "{{endothelial cells}}\n"
     ]
    },
    {
     "name": "stderr",
     "output_type": "stream",
     "text": [
      " 44%|████▍     | 56/126 [01:02<01:28,  1.26s/it]"
     ]
    },
    {
     "name": "stdout",
     "output_type": "stream",
     "text": [
      "{{b cell and myeloid lineage cell}}\n"
     ]
    },
    {
     "name": "stderr",
     "output_type": "stream",
     "text": [
      " 45%|████▌     | 57/126 [01:03<01:22,  1.19s/it]"
     ]
    },
    {
     "name": "stdout",
     "output_type": "stream",
     "text": [
      "{{myofibroblast}}\n"
     ]
    },
    {
     "name": "stderr",
     "output_type": "stream",
     "text": [
      " 46%|████▌     | 58/126 [01:03<01:13,  1.09s/it]"
     ]
    },
    {
     "name": "stdout",
     "output_type": "stream",
     "text": [
      "{{mast cell}}\n"
     ]
    },
    {
     "name": "stderr",
     "output_type": "stream",
     "text": [
      " 47%|████▋     | 59/126 [01:05<01:19,  1.18s/it]"
     ]
    },
    {
     "name": "stdout",
     "output_type": "stream",
     "text": [
      "{{smooth muscle cell}}\n"
     ]
    },
    {
     "name": "stderr",
     "output_type": "stream",
     "text": [
      " 48%|████▊     | 60/126 [01:06<01:17,  1.17s/it]"
     ]
    },
    {
     "name": "stdout",
     "output_type": "stream",
     "text": [
      "{{endothelial cell}}\n"
     ]
    },
    {
     "name": "stderr",
     "output_type": "stream",
     "text": [
      " 48%|████▊     | 61/126 [01:07<01:13,  1.14s/it]"
     ]
    },
    {
     "name": "stdout",
     "output_type": "stream",
     "text": [
      "{{unknown cell type}}\n"
     ]
    },
    {
     "name": "stderr",
     "output_type": "stream",
     "text": [
      " 49%|████▉     | 62/126 [01:08<01:11,  1.12s/it]"
     ]
    },
    {
     "name": "stdout",
     "output_type": "stream",
     "text": [
      "{{myofibroblast}}\n"
     ]
    },
    {
     "name": "stderr",
     "output_type": "stream",
     "text": [
      " 50%|█████     | 63/126 [01:09<01:06,  1.05s/it]"
     ]
    },
    {
     "name": "stdout",
     "output_type": "stream",
     "text": [
      "{{alveolar epithelial type 2 cell}}\n"
     ]
    },
    {
     "name": "stderr",
     "output_type": "stream",
     "text": [
      " 51%|█████     | 64/126 [01:10<01:02,  1.01s/it]"
     ]
    },
    {
     "name": "stdout",
     "output_type": "stream",
     "text": [
      "{{basal epithelial cell}}\n"
     ]
    },
    {
     "name": "stderr",
     "output_type": "stream",
     "text": [
      " 52%|█████▏    | 65/126 [01:11<01:04,  1.06s/it]"
     ]
    },
    {
     "name": "stdout",
     "output_type": "stream",
     "text": [
      "{{ciliated epithelial cell}}\n"
     ]
    },
    {
     "name": "stderr",
     "output_type": "stream",
     "text": [
      " 52%|█████▏    | 66/126 [01:12<01:06,  1.11s/it]"
     ]
    },
    {
     "name": "stdout",
     "output_type": "stream",
     "text": [
      "{{alveolar epithelial type 2 cell}}\n"
     ]
    },
    {
     "name": "stderr",
     "output_type": "stream",
     "text": [
      " 53%|█████▎    | 67/126 [01:13<01:02,  1.05s/it]"
     ]
    },
    {
     "name": "stdout",
     "output_type": "stream",
     "text": [
      "{{cell_type_name}}: Not identifiable\n"
     ]
    },
    {
     "name": "stderr",
     "output_type": "stream",
     "text": [
      " 54%|█████▍    | 68/126 [01:14<01:00,  1.04s/it]"
     ]
    },
    {
     "name": "stdout",
     "output_type": "stream",
     "text": [
      "{{natural killer cell}}\n"
     ]
    },
    {
     "name": "stderr",
     "output_type": "stream",
     "text": [
      " 55%|█████▍    | 69/126 [01:15<00:56,  1.01it/s]"
     ]
    },
    {
     "name": "stdout",
     "output_type": "stream",
     "text": [
      "{{T-cell}}\n"
     ]
    },
    {
     "name": "stderr",
     "output_type": "stream",
     "text": [
      " 56%|█████▌    | 70/126 [01:16<00:56,  1.01s/it]"
     ]
    },
    {
     "name": "stdout",
     "output_type": "stream",
     "text": [
      "{{alveolar macrophage}}\n"
     ]
    },
    {
     "name": "stderr",
     "output_type": "stream",
     "text": [
      " 56%|█████▋    | 71/126 [01:17<00:55,  1.02s/it]"
     ]
    },
    {
     "name": "stdout",
     "output_type": "stream",
     "text": [
      "{{mast_cell}}\n"
     ]
    },
    {
     "name": "stderr",
     "output_type": "stream",
     "text": [
      " 57%|█████▋    | 72/126 [01:18<00:52,  1.02it/s]"
     ]
    },
    {
     "name": "stdout",
     "output_type": "stream",
     "text": [
      "{{smooth muscle cell}}\n"
     ]
    },
    {
     "name": "stderr",
     "output_type": "stream",
     "text": [
      " 58%|█████▊    | 73/126 [01:19<00:55,  1.04s/it]"
     ]
    },
    {
     "name": "stdout",
     "output_type": "stream",
     "text": [
      "{{endothelial cell}}\n"
     ]
    },
    {
     "name": "stderr",
     "output_type": "stream",
     "text": [
      " 59%|█████▊    | 74/126 [01:20<00:54,  1.05s/it]"
     ]
    },
    {
     "name": "stdout",
     "output_type": "stream",
     "text": [
      "{{unidentified cell type}}\n"
     ]
    },
    {
     "name": "stderr",
     "output_type": "stream",
     "text": [
      " 60%|█████▉    | 75/126 [01:22<00:56,  1.10s/it]"
     ]
    },
    {
     "name": "stdout",
     "output_type": "stream",
     "text": [
      "{{mast cell}}\n"
     ]
    },
    {
     "name": "stderr",
     "output_type": "stream",
     "text": [
      " 60%|██████    | 76/126 [01:23<00:52,  1.05s/it]"
     ]
    },
    {
     "name": "stdout",
     "output_type": "stream",
     "text": [
      "{{adipocyte}}\n"
     ]
    },
    {
     "name": "stderr",
     "output_type": "stream",
     "text": [
      " 61%|██████    | 77/126 [01:23<00:48,  1.01it/s]"
     ]
    },
    {
     "name": "stdout",
     "output_type": "stream",
     "text": [
      "{{alveolar epithelial type I cell}}\n"
     ]
    },
    {
     "name": "stderr",
     "output_type": "stream",
     "text": [
      " 62%|██████▏   | 78/126 [01:24<00:48,  1.01s/it]"
     ]
    },
    {
     "name": "stdout",
     "output_type": "stream",
     "text": [
      "{{alveolar epithelial type 2 cell}}\n"
     ]
    },
    {
     "name": "stderr",
     "output_type": "stream",
     "text": [
      " 63%|██████▎   | 79/126 [01:25<00:44,  1.06it/s]"
     ]
    },
    {
     "name": "stdout",
     "output_type": "stream",
     "text": [
      "{{b cell}}\n"
     ]
    },
    {
     "name": "stderr",
     "output_type": "stream",
     "text": [
      " 63%|██████▎   | 80/126 [01:27<00:47,  1.04s/it]"
     ]
    },
    {
     "name": "stdout",
     "output_type": "stream",
     "text": [
      "{{ciliated epithelial cell}}\n"
     ]
    },
    {
     "name": "stderr",
     "output_type": "stream",
     "text": [
      " 64%|██████▍   | 81/126 [01:28<00:47,  1.05s/it]"
     ]
    },
    {
     "name": "stdout",
     "output_type": "stream",
     "text": [
      "{{club cell}}\n"
     ]
    },
    {
     "name": "stderr",
     "output_type": "stream",
     "text": [
      " 65%|██████▌   | 82/126 [01:29<00:46,  1.06s/it]"
     ]
    },
    {
     "name": "stdout",
     "output_type": "stream",
     "text": [
      "{{fibroblast}}\n"
     ]
    },
    {
     "name": "stderr",
     "output_type": "stream",
     "text": [
      " 66%|██████▌   | 83/126 [01:30<00:43,  1.01s/it]"
     ]
    },
    {
     "name": "stdout",
     "output_type": "stream",
     "text": [
      "{{lymphatic endothelial cell}}\n"
     ]
    },
    {
     "name": "stderr",
     "output_type": "stream",
     "text": [
      " 67%|██████▋   | 84/126 [01:31<00:46,  1.10s/it]"
     ]
    },
    {
     "name": "stdout",
     "output_type": "stream",
     "text": [
      "{{macrophage}}\n"
     ]
    },
    {
     "name": "stderr",
     "output_type": "stream",
     "text": [
      " 67%|██████▋   | 85/126 [01:32<00:45,  1.11s/it]"
     ]
    },
    {
     "name": "stdout",
     "output_type": "stream",
     "text": [
      "{{mast cell}}\n"
     ]
    },
    {
     "name": "stderr",
     "output_type": "stream",
     "text": [
      " 68%|██████▊   | 86/126 [01:33<00:44,  1.12s/it]"
     ]
    },
    {
     "name": "stdout",
     "output_type": "stream",
     "text": [
      "{{myofibroblast}}\n"
     ]
    },
    {
     "name": "stderr",
     "output_type": "stream",
     "text": [
      " 69%|██████▉   | 87/126 [01:34<00:42,  1.08s/it]"
     ]
    },
    {
     "name": "stdout",
     "output_type": "stream",
     "text": [
      "{{smooth muscle cell}}\n"
     ]
    },
    {
     "name": "stderr",
     "output_type": "stream",
     "text": [
      " 70%|██████▉   | 88/126 [01:35<00:39,  1.04s/it]"
     ]
    },
    {
     "name": "stdout",
     "output_type": "stream",
     "text": [
      "{{T cell}}\n"
     ]
    },
    {
     "name": "stderr",
     "output_type": "stream",
     "text": [
      " 71%|███████   | 89/126 [01:36<00:37,  1.01s/it]"
     ]
    },
    {
     "name": "stdout",
     "output_type": "stream",
     "text": [
      "{{endothelial cell}}\n"
     ]
    },
    {
     "name": "stderr",
     "output_type": "stream",
     "text": [
      " 71%|███████▏  | 90/126 [01:37<00:35,  1.02it/s]"
     ]
    },
    {
     "name": "stdout",
     "output_type": "stream",
     "text": [
      "{{alveolar type II cell}}\n"
     ]
    },
    {
     "name": "stderr",
     "output_type": "stream",
     "text": [
      " 72%|███████▏  | 91/126 [01:39<00:47,  1.36s/it]"
     ]
    },
    {
     "name": "stdout",
     "output_type": "stream",
     "text": [
      "{{neutrophil}}\n"
     ]
    },
    {
     "name": "stderr",
     "output_type": "stream",
     "text": [
      " 73%|███████▎  | 92/126 [01:40<00:41,  1.22s/it]"
     ]
    },
    {
     "name": "stdout",
     "output_type": "stream",
     "text": [
      "{{T cell}}\n"
     ]
    },
    {
     "name": "stderr",
     "output_type": "stream",
     "text": [
      " 74%|███████▍  | 93/126 [01:41<00:37,  1.13s/it]"
     ]
    },
    {
     "name": "stdout",
     "output_type": "stream",
     "text": [
      "{{cytotoxic T cell}}\n"
     ]
    },
    {
     "name": "stderr",
     "output_type": "stream",
     "text": [
      " 75%|███████▍  | 94/126 [01:42<00:33,  1.04s/it]"
     ]
    },
    {
     "name": "stdout",
     "output_type": "stream",
     "text": [
      "{{natural killer t cell}}\n"
     ]
    },
    {
     "name": "stderr",
     "output_type": "stream",
     "text": [
      " 75%|███████▌  | 95/126 [01:44<00:47,  1.53s/it]"
     ]
    },
    {
     "name": "stdout",
     "output_type": "stream",
     "text": [
      "{{unknown_cell_type}}\n"
     ]
    },
    {
     "name": "stderr",
     "output_type": "stream",
     "text": [
      " 76%|███████▌  | 96/126 [01:45<00:40,  1.34s/it]"
     ]
    },
    {
     "name": "stdout",
     "output_type": "stream",
     "text": [
      "{{smooth muscle cell}}\n"
     ]
    },
    {
     "name": "stderr",
     "output_type": "stream",
     "text": [
      " 77%|███████▋  | 97/126 [01:46<00:35,  1.24s/it]"
     ]
    },
    {
     "name": "stdout",
     "output_type": "stream",
     "text": [
      "{{fibroblast}}\n"
     ]
    },
    {
     "name": "stderr",
     "output_type": "stream",
     "text": [
      " 78%|███████▊  | 98/126 [01:47<00:31,  1.14s/it]"
     ]
    },
    {
     "name": "stdout",
     "output_type": "stream",
     "text": [
      "{{macrophage}}\n"
     ]
    },
    {
     "name": "stderr",
     "output_type": "stream",
     "text": [
      " 79%|███████▊  | 99/126 [01:48<00:30,  1.14s/it]"
     ]
    },
    {
     "name": "stdout",
     "output_type": "stream",
     "text": [
      "{{mast cell}}\n"
     ]
    },
    {
     "name": "stderr",
     "output_type": "stream",
     "text": [
      " 79%|███████▉  | 100/126 [01:49<00:28,  1.10s/it]"
     ]
    },
    {
     "name": "stdout",
     "output_type": "stream",
     "text": [
      "{{classical monocyte}}\n"
     ]
    },
    {
     "name": "stderr",
     "output_type": "stream",
     "text": [
      " 80%|████████  | 101/126 [01:50<00:26,  1.07s/it]"
     ]
    },
    {
     "name": "stdout",
     "output_type": "stream",
     "text": [
      "{{endothelial cell}}\n"
     ]
    },
    {
     "name": "stderr",
     "output_type": "stream",
     "text": [
      " 81%|████████  | 102/126 [01:52<00:26,  1.09s/it]"
     ]
    },
    {
     "name": "stdout",
     "output_type": "stream",
     "text": [
      "{{multiciliated epithelial cell}}\n"
     ]
    },
    {
     "name": "stderr",
     "output_type": "stream",
     "text": [
      " 82%|████████▏ | 103/126 [01:52<00:23,  1.04s/it]"
     ]
    },
    {
     "name": "stdout",
     "output_type": "stream",
     "text": [
      "{{dendritic cell}}\n"
     ]
    },
    {
     "name": "stderr",
     "output_type": "stream",
     "text": [
      " 83%|████████▎ | 104/126 [01:53<00:22,  1.03s/it]"
     ]
    },
    {
     "name": "stdout",
     "output_type": "stream",
     "text": [
      "{{club cell}}\n"
     ]
    },
    {
     "name": "stderr",
     "output_type": "stream",
     "text": [
      " 83%|████████▎ | 105/126 [01:54<00:21,  1.01s/it]"
     ]
    },
    {
     "name": "stdout",
     "output_type": "stream",
     "text": [
      "{{basal epithelial cell}}\n"
     ]
    },
    {
     "name": "stderr",
     "output_type": "stream",
     "text": [
      " 84%|████████▍ | 106/126 [01:56<00:20,  1.02s/it]"
     ]
    },
    {
     "name": "stdout",
     "output_type": "stream",
     "text": [
      "{{plasma cell}}\n"
     ]
    },
    {
     "name": "stderr",
     "output_type": "stream",
     "text": [
      " 85%|████████▍ | 107/126 [01:57<00:19,  1.02s/it]"
     ]
    },
    {
     "name": "stdout",
     "output_type": "stream",
     "text": [
      "{{B cell}}\n"
     ]
    },
    {
     "name": "stderr",
     "output_type": "stream",
     "text": [
      " 86%|████████▌ | 108/126 [01:57<00:17,  1.02it/s]"
     ]
    },
    {
     "name": "stdout",
     "output_type": "stream",
     "text": [
      "{{goblet cell}}\n"
     ]
    },
    {
     "name": "stderr",
     "output_type": "stream",
     "text": [
      " 87%|████████▋ | 109/126 [01:58<00:16,  1.05it/s]"
     ]
    },
    {
     "name": "stdout",
     "output_type": "stream",
     "text": [
      "{{macrophage}}\n"
     ]
    },
    {
     "name": "stderr",
     "output_type": "stream",
     "text": [
      " 87%|████████▋ | 110/126 [01:59<00:15,  1.06it/s]"
     ]
    },
    {
     "name": "stdout",
     "output_type": "stream",
     "text": [
      "{{endothelial cell}}\n"
     ]
    },
    {
     "name": "stderr",
     "output_type": "stream",
     "text": [
      " 88%|████████▊ | 111/126 [02:00<00:14,  1.03it/s]"
     ]
    },
    {
     "name": "stdout",
     "output_type": "stream",
     "text": [
      "{{endothelial cell}}\n"
     ]
    },
    {
     "name": "stderr",
     "output_type": "stream",
     "text": [
      " 89%|████████▉ | 112/126 [02:01<00:13,  1.04it/s]"
     ]
    },
    {
     "name": "stdout",
     "output_type": "stream",
     "text": [
      "{{unknown}}\n"
     ]
    },
    {
     "name": "stderr",
     "output_type": "stream",
     "text": [
      " 90%|████████▉ | 113/126 [02:02<00:13,  1.01s/it]"
     ]
    },
    {
     "name": "stdout",
     "output_type": "stream",
     "text": [
      "{{endothelial cell}}\n"
     ]
    },
    {
     "name": "stderr",
     "output_type": "stream",
     "text": [
      " 90%|█████████ | 114/126 [02:03<00:11,  1.01it/s]"
     ]
    },
    {
     "name": "stdout",
     "output_type": "stream",
     "text": [
      "{{fibroblast}}\n"
     ]
    },
    {
     "name": "stderr",
     "output_type": "stream",
     "text": [
      " 91%|█████████▏| 115/126 [02:04<00:11,  1.01s/it]"
     ]
    },
    {
     "name": "stdout",
     "output_type": "stream",
     "text": [
      "{{lymphatic endothelial cell}}\n"
     ]
    },
    {
     "name": "stderr",
     "output_type": "stream",
     "text": [
      " 92%|█████████▏| 116/126 [02:05<00:10,  1.00s/it]"
     ]
    },
    {
     "name": "stdout",
     "output_type": "stream",
     "text": [
      "{{smooth muscle cell}}\n"
     ]
    },
    {
     "name": "stderr",
     "output_type": "stream",
     "text": [
      " 93%|█████████▎| 117/126 [02:07<00:09,  1.10s/it]"
     ]
    },
    {
     "name": "stdout",
     "output_type": "stream",
     "text": [
      "{{plasmacytoid dendritic cell}}\n"
     ]
    },
    {
     "name": "stderr",
     "output_type": "stream",
     "text": [
      " 94%|█████████▎| 118/126 [02:08<00:08,  1.08s/it]"
     ]
    },
    {
     "name": "stdout",
     "output_type": "stream",
     "text": [
      "{{club cell, alveolar epithelial type 2 cell}}\n"
     ]
    },
    {
     "name": "stderr",
     "output_type": "stream",
     "text": [
      " 94%|█████████▍| 119/126 [02:09<00:07,  1.07s/it]"
     ]
    },
    {
     "name": "stdout",
     "output_type": "stream",
     "text": [
      "{{endothelial cell}}\n"
     ]
    },
    {
     "name": "stderr",
     "output_type": "stream",
     "text": [
      " 95%|█████████▌| 120/126 [02:10<00:06,  1.01s/it]"
     ]
    },
    {
     "name": "stdout",
     "output_type": "stream",
     "text": [
      "{{artery cell}}\n"
     ]
    },
    {
     "name": "stderr",
     "output_type": "stream",
     "text": [
      " 96%|█████████▌| 121/126 [02:10<00:04,  1.03it/s]"
     ]
    },
    {
     "name": "stdout",
     "output_type": "stream",
     "text": [
      "{{alveolar epithelial type 2 cell}}\n"
     ]
    },
    {
     "name": "stderr",
     "output_type": "stream",
     "text": [
      " 97%|█████████▋| 122/126 [02:11<00:03,  1.04it/s]"
     ]
    },
    {
     "name": "stdout",
     "output_type": "stream",
     "text": [
      "{{pericyte}}\n"
     ]
    },
    {
     "name": "stderr",
     "output_type": "stream",
     "text": [
      " 98%|█████████▊| 123/126 [02:12<00:02,  1.01it/s]"
     ]
    },
    {
     "name": "stdout",
     "output_type": "stream",
     "text": [
      "{{goblet cell}}\n"
     ]
    },
    {
     "name": "stderr",
     "output_type": "stream",
     "text": [
      " 98%|█████████▊| 124/126 [02:13<00:02,  1.00s/it]"
     ]
    },
    {
     "name": "stdout",
     "output_type": "stream",
     "text": [
      "{{goblet cell}}\n"
     ]
    },
    {
     "name": "stderr",
     "output_type": "stream",
     "text": [
      " 99%|█████████▉| 125/126 [02:14<00:00,  1.01it/s]"
     ]
    },
    {
     "name": "stdout",
     "output_type": "stream",
     "text": [
      "{{intermediate monocyte}}\n"
     ]
    },
    {
     "name": "stderr",
     "output_type": "stream",
     "text": [
      "100%|██████████| 126/126 [02:15<00:00,  1.08s/it]"
     ]
    },
    {
     "name": "stdout",
     "output_type": "stream",
     "text": [
      "{{goblet cell}}\n",
      "['alveolar epithelial cell', 'B cell', 'basal epithelial cell', 'neutrophil', 'T cell', 'ciliated cell', 'dendritic cell', 'fibroblast', 'lymphatic endothelial cell', 'macrophage', 'natural killer cell', 'plasma cell', 'alveolar type II cell', 'mast cell', 'neutrophil', 'endothelial cell', 'cytotoxic T cell', 'club cell/alveolar type II cell', 'fibroblast', 'natural killer t cell', 'proliferating epithelial cells', 'proliferating cell', 'endothelial cell', 'club cell', 'endothelial cell', 'endothelial cell', 'smooth muscle cell', 'artery endothelial cell', 'endothelial cell', 'unknown or mixed lineage', 'cell_type_name', 'undefined_cell_type', 'platelet', 'natural killer t cell', 'airway smooth muscle', 'bronchial epithelial cell', 'club cell', 'neuroendocrine cell', 'serous cell', 'macrophage', 'cytotoxic T cell', 'alveolar type II pneumocyte', 'endothelial cell', 'T cell', 'endothelial cell', 'myofibroblast', 'alveolar epithelial type 1 cell', 'alveolar epithelial type 2 cell', 'B cell', 'club_cell', 'classical monocyte', 'goblet cell', 'endothelial cell', 'endothelial cell', 'endothelial cells', 'b cell and myeloid lineage cell', 'myofibroblast', 'mast cell', 'smooth muscle cell', 'endothelial cell', 'unknown cell type', 'myofibroblast', 'alveolar epithelial type 2 cell', 'basal epithelial cell', 'ciliated epithelial cell', 'alveolar epithelial type 2 cell', 'cell_type_name', 'natural killer cell', 'T-cell', 'alveolar macrophage', 'mast_cell', 'smooth muscle cell', 'endothelial cell', 'unidentified cell type', 'mast cell', 'adipocyte', 'alveolar epithelial type I cell', 'alveolar epithelial type 2 cell', 'b cell', 'ciliated epithelial cell', 'club cell', 'fibroblast', 'lymphatic endothelial cell', 'macrophage', 'mast cell', 'myofibroblast', 'smooth muscle cell', 'T cell', 'endothelial cell', 'alveolar type II cell', 'neutrophil', 'T cell', 'cytotoxic T cell', 'natural killer t cell', 'unknown_cell_type', 'smooth muscle cell', 'fibroblast', 'macrophage', 'mast cell', 'classical monocyte', 'endothelial cell', 'multiciliated epithelial cell', 'dendritic cell', 'club cell', 'basal epithelial cell', 'plasma cell', 'B cell', 'goblet cell', 'macrophage', 'endothelial cell', 'endothelial cell', 'unknown', 'endothelial cell', 'fibroblast', 'lymphatic endothelial cell', 'smooth muscle cell', 'plasmacytoid dendritic cell', 'club cell, alveolar epithelial type 2 cell', 'endothelial cell', 'artery cell', 'alveolar epithelial type 2 cell', 'pericyte', 'goblet cell', 'goblet cell', 'intermediate monocyte', 'goblet cell']\n"
     ]
    },
    {
     "name": "stderr",
     "output_type": "stream",
     "text": [
      "\n"
     ]
    }
   ],
   "source": [
    "from tqdm import tqdm\n",
    "# Alternate the lagecy openai.embeddings_utils.search_vectors function\n",
    "def cosine_similarity(a, b):\n",
    "    # print(a, b, type(a), type(b), type(a[0]), type(b[0]))\n",
    "    # print(np.linalg.norm(a), np.linalg.norm(b))\n",
    "    return np.dot(a, b) / (np.linalg.norm(a) * np.linalg.norm(b))\n",
    "\n",
    "def annotateCell_GPT(messages: list, n=5) -> list:\n",
    "    global client\n",
    "    responses = []\n",
    "\n",
    "    for message in tqdm(messages):\n",
    "\n",
    "        # 提取輸入的 marker\n",
    "        # print(message, type(message))\n",
    "        input_markers = message.split(\", \")\n",
    "        input_embedding = get_embedding(\", \".join(input_markers))\n",
    "        cell_type_db[\"similarity\"] = cell_type_db[\"embedding\"].apply(lambda x: cosine_similarity(x, input_embedding))\n",
    "        # marker_importance_db[\"similarity\"] = marker_importance_db[\"embedding\"].apply(lambda x: cosine_similarity(x, input_embedding))\n",
    "\n",
    "        # 進行檢索\n",
    "        cell_type_results = (\n",
    "            cell_type_db.sort_values(\"similarity\", ascending=False)\n",
    "            .head(n)\n",
    "        )\n",
    "        # marker_importance_results = (\n",
    "        #     marker_importance_db.sort_values(\"similarity\", ascending=False)\n",
    "        #     .head(n)\n",
    "        # )\n",
    "\n",
    "        # 組合上下文\n",
    "        context = \"### Cell Type Database Results ###\\n\"\n",
    "        for _,  result in cell_type_results.iterrows():\n",
    "            \n",
    "            context += f\"Cell Type: {result['cell type']}\\nMarkers: {result['markers']}\\nBroad Type: {result['broad type']}\\n\"\n",
    "            tempdb = marker_importance_db[marker_importance_db[\"cell_type_formatted\"] == result[\"cell type\"]]\n",
    "            if not tempdb.empty:\n",
    "                for marker in result['markers'].split(\", \"):\n",
    "                    imp = tempdb[tempdb[\"marker\"] == marker]\n",
    "                    if not imp.empty:\n",
    "                        context += f\"Importance of {marker}: {imp['neg_log10_p'].values[0]}\\n\"\n",
    "                    else:\n",
    "                        context += f\"Importance of {marker}: Not Found\\n\"\n",
    "            context += \"\\n\"\n",
    "\n",
    "        # 提示用戶\n",
    "        message = (\"### task: Identify cell types ###\\n\" + message + '\\n'\n",
    "        + \"Answer is not necessary to be in the Database. \"\n",
    "        + \"Only provide the cell type name, formatted as: {{cell_type_name}}. \"\n",
    "        + \"Do not show numbers before the name. \"\n",
    "        + \"Some can be a mixture of multiple cell types.\")\n",
    "        # 提供給 GPT 模型\n",
    "        completion = client.chat.completions.create(\n",
    "            model=\"gpt-4o\",\n",
    "            messages=[\n",
    "                {\"role\": \"system\", \"content\": \"Identify cell types of lung tissue using the markers provided. Use the retrieved context for your decision.\"},\n",
    "                {\"role\": \"user\", \"content\": f\"{context}\\n\\n{message}\"}\n",
    "            ],\n",
    "            # response_format=json\n",
    "        )\n",
    "        print(completion.choices[0].message.content)\n",
    "        candi = completion.choices[0].message.content\n",
    "        candi = re.findall(r\"\\{\\{(.*?)\\}\\}\", candi)\n",
    "        if candi:\n",
    "            responses.append(candi[0])\n",
    "        else:\n",
    "            responses.append(\"Not Provided\")\n",
    "\n",
    "    return responses\n",
    "\n",
    "\n",
    "annotateCell_GPT_results = annotateCell_GPT(messages)\n",
    "print(annotateCell_GPT_results)"
   ]
  },
  {
   "cell_type": "code",
   "execution_count": 171,
   "metadata": {},
   "outputs": [
    {
     "name": "stderr",
     "output_type": "stream",
     "text": [
      "/var/folders/sh/zhklvq891q7c_0dsphlk2_dc0000gn/T/ipykernel_98513/1546951321.py:2: SettingWithCopyWarning: \n",
      "A value is trying to be set on a copy of a slice from a DataFrame.\n",
      "Try using .loc[row_indexer,col_indexer] = value instead\n",
      "\n",
      "See the caveats in the documentation: https://pandas.pydata.org/pandas-docs/stable/user_guide/indexing.html#returning-a-view-versus-a-copy\n",
      "  lung_data['RAG_cell_type'] = annotateCell_GPT_results\n"
     ]
    }
   ],
   "source": [
    "lung_data = gene_list[gene_list[\"tissue\"] == \"Lung\"]\n",
    "lung_data['RAG_cell_type'] = annotateCell_GPT_results\n",
    "lung_data.to_csv(\"RAG_no_verbosity.csv\", index=False)"
   ]
  },
  {
   "cell_type": "markdown",
   "metadata": {},
   "source": [
    "## Scoring system"
   ]
  },
  {
   "cell_type": "markdown",
   "metadata": {},
   "source": [
    "### result parsing"
   ]
  },
  {
   "cell_type": "code",
   "execution_count": 149,
   "metadata": {},
   "outputs": [],
   "source": [
    "def json_parsing(annotateCell_results: json)->list:\n",
    "       # Parse the strings into Python objects\n",
    "       parsed_results = [json.loads(item.strip()) for item in annotateCell_results]\n",
    "       # Flatten the results to get a list of all cell types\n",
    "       cell_types = [entry['cellType'] for result in parsed_results for entry in result]\n",
    "       return cell_types"
   ]
  },
  {
   "cell_type": "code",
   "execution_count": 150,
   "metadata": {},
   "outputs": [
    {
     "ename": "JSONDecodeError",
     "evalue": "Expecting value: line 1 column 1 (char 0)",
     "output_type": "error",
     "traceback": [
      "\u001b[0;31m---------------------------------------------------------------------------\u001b[0m",
      "\u001b[0;31mJSONDecodeError\u001b[0m                           Traceback (most recent call last)",
      "Cell \u001b[0;32mIn[150], line 1\u001b[0m\n\u001b[0;32m----> 1\u001b[0m cell_types \u001b[38;5;241m=\u001b[39m \u001b[43mjson_parsing\u001b[49m\u001b[43m(\u001b[49m\u001b[43mannotateCell_GPT_results\u001b[49m\u001b[43m)\u001b[49m\n\u001b[1;32m      2\u001b[0m \u001b[38;5;28mprint\u001b[39m(cell_types)\n",
      "Cell \u001b[0;32mIn[149], line 3\u001b[0m, in \u001b[0;36mjson_parsing\u001b[0;34m(annotateCell_results)\u001b[0m\n\u001b[1;32m      1\u001b[0m \u001b[38;5;28;01mdef\u001b[39;00m \u001b[38;5;21mjson_parsing\u001b[39m(annotateCell_results: json)\u001b[38;5;241m-\u001b[39m\u001b[38;5;241m>\u001b[39m\u001b[38;5;28mlist\u001b[39m:\n\u001b[1;32m      2\u001b[0m        \u001b[38;5;66;03m# Parse the strings into Python objects\u001b[39;00m\n\u001b[0;32m----> 3\u001b[0m        parsed_results \u001b[38;5;241m=\u001b[39m \u001b[43m[\u001b[49m\u001b[43mjson\u001b[49m\u001b[38;5;241;43m.\u001b[39;49m\u001b[43mloads\u001b[49m\u001b[43m(\u001b[49m\u001b[43mitem\u001b[49m\u001b[38;5;241;43m.\u001b[39;49m\u001b[43mstrip\u001b[49m\u001b[43m(\u001b[49m\u001b[43m)\u001b[49m\u001b[43m)\u001b[49m\u001b[43m \u001b[49m\u001b[38;5;28;43;01mfor\u001b[39;49;00m\u001b[43m \u001b[49m\u001b[43mitem\u001b[49m\u001b[43m \u001b[49m\u001b[38;5;129;43;01min\u001b[39;49;00m\u001b[43m \u001b[49m\u001b[43mannotateCell_results\u001b[49m\u001b[43m]\u001b[49m\n\u001b[1;32m      4\u001b[0m        \u001b[38;5;66;03m# Flatten the results to get a list of all cell types\u001b[39;00m\n\u001b[1;32m      5\u001b[0m        cell_types \u001b[38;5;241m=\u001b[39m [entry[\u001b[38;5;124m'\u001b[39m\u001b[38;5;124mcellType\u001b[39m\u001b[38;5;124m'\u001b[39m] \u001b[38;5;28;01mfor\u001b[39;00m result \u001b[38;5;129;01min\u001b[39;00m parsed_results \u001b[38;5;28;01mfor\u001b[39;00m entry \u001b[38;5;129;01min\u001b[39;00m result]\n",
      "Cell \u001b[0;32mIn[149], line 3\u001b[0m, in \u001b[0;36m<listcomp>\u001b[0;34m(.0)\u001b[0m\n\u001b[1;32m      1\u001b[0m \u001b[38;5;28;01mdef\u001b[39;00m \u001b[38;5;21mjson_parsing\u001b[39m(annotateCell_results: json)\u001b[38;5;241m-\u001b[39m\u001b[38;5;241m>\u001b[39m\u001b[38;5;28mlist\u001b[39m:\n\u001b[1;32m      2\u001b[0m        \u001b[38;5;66;03m# Parse the strings into Python objects\u001b[39;00m\n\u001b[0;32m----> 3\u001b[0m        parsed_results \u001b[38;5;241m=\u001b[39m [\u001b[43mjson\u001b[49m\u001b[38;5;241;43m.\u001b[39;49m\u001b[43mloads\u001b[49m\u001b[43m(\u001b[49m\u001b[43mitem\u001b[49m\u001b[38;5;241;43m.\u001b[39;49m\u001b[43mstrip\u001b[49m\u001b[43m(\u001b[49m\u001b[43m)\u001b[49m\u001b[43m)\u001b[49m \u001b[38;5;28;01mfor\u001b[39;00m item \u001b[38;5;129;01min\u001b[39;00m annotateCell_results]\n\u001b[1;32m      4\u001b[0m        \u001b[38;5;66;03m# Flatten the results to get a list of all cell types\u001b[39;00m\n\u001b[1;32m      5\u001b[0m        cell_types \u001b[38;5;241m=\u001b[39m [entry[\u001b[38;5;124m'\u001b[39m\u001b[38;5;124mcellType\u001b[39m\u001b[38;5;124m'\u001b[39m] \u001b[38;5;28;01mfor\u001b[39;00m result \u001b[38;5;129;01min\u001b[39;00m parsed_results \u001b[38;5;28;01mfor\u001b[39;00m entry \u001b[38;5;129;01min\u001b[39;00m result]\n",
      "File \u001b[0;32m/Library/Frameworks/Python.framework/Versions/3.11/lib/python3.11/json/__init__.py:346\u001b[0m, in \u001b[0;36mloads\u001b[0;34m(s, cls, object_hook, parse_float, parse_int, parse_constant, object_pairs_hook, **kw)\u001b[0m\n\u001b[1;32m    341\u001b[0m     s \u001b[38;5;241m=\u001b[39m s\u001b[38;5;241m.\u001b[39mdecode(detect_encoding(s), \u001b[38;5;124m'\u001b[39m\u001b[38;5;124msurrogatepass\u001b[39m\u001b[38;5;124m'\u001b[39m)\n\u001b[1;32m    343\u001b[0m \u001b[38;5;28;01mif\u001b[39;00m (\u001b[38;5;28mcls\u001b[39m \u001b[38;5;129;01mis\u001b[39;00m \u001b[38;5;28;01mNone\u001b[39;00m \u001b[38;5;129;01mand\u001b[39;00m object_hook \u001b[38;5;129;01mis\u001b[39;00m \u001b[38;5;28;01mNone\u001b[39;00m \u001b[38;5;129;01mand\u001b[39;00m\n\u001b[1;32m    344\u001b[0m         parse_int \u001b[38;5;129;01mis\u001b[39;00m \u001b[38;5;28;01mNone\u001b[39;00m \u001b[38;5;129;01mand\u001b[39;00m parse_float \u001b[38;5;129;01mis\u001b[39;00m \u001b[38;5;28;01mNone\u001b[39;00m \u001b[38;5;129;01mand\u001b[39;00m\n\u001b[1;32m    345\u001b[0m         parse_constant \u001b[38;5;129;01mis\u001b[39;00m \u001b[38;5;28;01mNone\u001b[39;00m \u001b[38;5;129;01mand\u001b[39;00m object_pairs_hook \u001b[38;5;129;01mis\u001b[39;00m \u001b[38;5;28;01mNone\u001b[39;00m \u001b[38;5;129;01mand\u001b[39;00m \u001b[38;5;129;01mnot\u001b[39;00m kw):\n\u001b[0;32m--> 346\u001b[0m     \u001b[38;5;28;01mreturn\u001b[39;00m \u001b[43m_default_decoder\u001b[49m\u001b[38;5;241;43m.\u001b[39;49m\u001b[43mdecode\u001b[49m\u001b[43m(\u001b[49m\u001b[43ms\u001b[49m\u001b[43m)\u001b[49m\n\u001b[1;32m    347\u001b[0m \u001b[38;5;28;01mif\u001b[39;00m \u001b[38;5;28mcls\u001b[39m \u001b[38;5;129;01mis\u001b[39;00m \u001b[38;5;28;01mNone\u001b[39;00m:\n\u001b[1;32m    348\u001b[0m     \u001b[38;5;28mcls\u001b[39m \u001b[38;5;241m=\u001b[39m JSONDecoder\n",
      "File \u001b[0;32m/Library/Frameworks/Python.framework/Versions/3.11/lib/python3.11/json/decoder.py:337\u001b[0m, in \u001b[0;36mJSONDecoder.decode\u001b[0;34m(self, s, _w)\u001b[0m\n\u001b[1;32m    332\u001b[0m \u001b[38;5;28;01mdef\u001b[39;00m \u001b[38;5;21mdecode\u001b[39m(\u001b[38;5;28mself\u001b[39m, s, _w\u001b[38;5;241m=\u001b[39mWHITESPACE\u001b[38;5;241m.\u001b[39mmatch):\n\u001b[1;32m    333\u001b[0m \u001b[38;5;250m    \u001b[39m\u001b[38;5;124;03m\"\"\"Return the Python representation of ``s`` (a ``str`` instance\u001b[39;00m\n\u001b[1;32m    334\u001b[0m \u001b[38;5;124;03m    containing a JSON document).\u001b[39;00m\n\u001b[1;32m    335\u001b[0m \n\u001b[1;32m    336\u001b[0m \u001b[38;5;124;03m    \"\"\"\u001b[39;00m\n\u001b[0;32m--> 337\u001b[0m     obj, end \u001b[38;5;241m=\u001b[39m \u001b[38;5;28;43mself\u001b[39;49m\u001b[38;5;241;43m.\u001b[39;49m\u001b[43mraw_decode\u001b[49m\u001b[43m(\u001b[49m\u001b[43ms\u001b[49m\u001b[43m,\u001b[49m\u001b[43m \u001b[49m\u001b[43midx\u001b[49m\u001b[38;5;241;43m=\u001b[39;49m\u001b[43m_w\u001b[49m\u001b[43m(\u001b[49m\u001b[43ms\u001b[49m\u001b[43m,\u001b[49m\u001b[43m \u001b[49m\u001b[38;5;241;43m0\u001b[39;49m\u001b[43m)\u001b[49m\u001b[38;5;241;43m.\u001b[39;49m\u001b[43mend\u001b[49m\u001b[43m(\u001b[49m\u001b[43m)\u001b[49m\u001b[43m)\u001b[49m\n\u001b[1;32m    338\u001b[0m     end \u001b[38;5;241m=\u001b[39m _w(s, end)\u001b[38;5;241m.\u001b[39mend()\n\u001b[1;32m    339\u001b[0m     \u001b[38;5;28;01mif\u001b[39;00m end \u001b[38;5;241m!=\u001b[39m \u001b[38;5;28mlen\u001b[39m(s):\n",
      "File \u001b[0;32m/Library/Frameworks/Python.framework/Versions/3.11/lib/python3.11/json/decoder.py:355\u001b[0m, in \u001b[0;36mJSONDecoder.raw_decode\u001b[0;34m(self, s, idx)\u001b[0m\n\u001b[1;32m    353\u001b[0m     obj, end \u001b[38;5;241m=\u001b[39m \u001b[38;5;28mself\u001b[39m\u001b[38;5;241m.\u001b[39mscan_once(s, idx)\n\u001b[1;32m    354\u001b[0m \u001b[38;5;28;01mexcept\u001b[39;00m \u001b[38;5;167;01mStopIteration\u001b[39;00m \u001b[38;5;28;01mas\u001b[39;00m err:\n\u001b[0;32m--> 355\u001b[0m     \u001b[38;5;28;01mraise\u001b[39;00m JSONDecodeError(\u001b[38;5;124m\"\u001b[39m\u001b[38;5;124mExpecting value\u001b[39m\u001b[38;5;124m\"\u001b[39m, s, err\u001b[38;5;241m.\u001b[39mvalue) \u001b[38;5;28;01mfrom\u001b[39;00m \u001b[38;5;28;01mNone\u001b[39;00m\n\u001b[1;32m    356\u001b[0m \u001b[38;5;28;01mreturn\u001b[39;00m obj, end\n",
      "\u001b[0;31mJSONDecodeError\u001b[0m: Expecting value: line 1 column 1 (char 0)"
     ]
    }
   ],
   "source": [
    "cell_types = json_parsing(annotateCell_GPT_results)\n",
    "print(cell_types)"
   ]
  },
  {
   "cell_type": "markdown",
   "metadata": {},
   "source": [
    "### CL correspondence\n",
    "match the cell_types to get CLID from Cell Ontology\n",
    "search name in graph and return the corresponding clid\\\n",
    "if no matches found, send request to cell ontology"
   ]
  },
  {
   "cell_type": "code",
   "execution_count": 97,
   "metadata": {},
   "outputs": [],
   "source": [
    "# URL for Cell Ontology (CO) OBO file\n",
    "CO_URL = 'http://purl.obolibrary.org/obo/CL.obo'\n",
    "OBO_FILE_PATH = 'oboNet/cl.obo'\n",
    "# dictionary to store search result\n",
    "NAME_TO_CLID_DICT = dict()\n",
    "\n",
    "def load_ontology(url):\n",
    "    graph = obonet.read_obo(url)\n",
    "    return graph\n",
    "def search_ontology(cell_name: str, ontology='cl')->str:\n",
    "    global NAME_TO_CLID_DICT\n",
    "    normalized_name = inflector.singular_noun(cell_name.lower()) or cell_name.lower()\n",
    "    normalized_name = re.sub(r\"^\\(?\\d+\\)?\\.\", \"\", normalized_name).strip()\n",
    "    # search in dict for faster access to clid and name\n",
    "    if normalized_name in NAME_TO_CLID_DICT :\n",
    "        return NAME_TO_CLID_DICT[normalized_name]\n",
    "    \n",
    "    for id, data in graph.nodes(data=True):\n",
    "        if 'name' in data:\n",
    "            # Singularize and normalize the graph's 'name'\n",
    "            label = inflector.singular_noun(data['name'].lower()) or data['name'].lower()\n",
    "            # Compare normalized names\n",
    "            if label == normalized_name:\n",
    "                NAME_TO_CLID_DICT[normalized_name] = (id, label)\n",
    "                return id, label # Return the clid and label(name) if a match is found\n",
    "    \n",
    "    # If no clid name found in graph, send request to ontology api    \n",
    "    # OLS API URL\n",
    "    url = f\"https://www.ebi.ac.uk/ols/api/search?q={normalized_name}&ontology={ontology}\"\n",
    "\n",
    "    # Make the API request\n",
    "    response = requests.get(url)\n",
    "    if response.status_code == 200:\n",
    "        if len(response.json()['response']['docs'])==0:\n",
    "          return None, None\n",
    "        id = response.json()['response']['docs'][0]['obo_id']\n",
    "        label = response.json()['response']['docs'][0]['label']\n",
    "        NAME_TO_CLID_DICT[normalized_name] = (id, label)\n",
    "        return id, label\n",
    "    else:\n",
    "        print(f\"Error: {response.status_code}\")\n",
    "        return None, None\n",
    "\n",
    "inflector = inflect.engine()\n",
    "# Load the Cell Ontology\n",
    "graph = load_ontology(OBO_FILE_PATH)\n",
    "\n"
   ]
  },
  {
   "cell_type": "code",
   "execution_count": 54,
   "metadata": {},
   "outputs": [
    {
     "ename": "NameError",
     "evalue": "name 'cell_types' is not defined",
     "output_type": "error",
     "traceback": [
      "\u001b[0;31m---------------------------------------------------------------------------\u001b[0m",
      "\u001b[0;31mNameError\u001b[0m                                 Traceback (most recent call last)",
      "Cell \u001b[0;32mIn[54], line 2\u001b[0m\n\u001b[1;32m      1\u001b[0m clids \u001b[38;5;241m=\u001b[39m []\n\u001b[0;32m----> 2\u001b[0m \u001b[38;5;28;01mfor\u001b[39;00m cell_type \u001b[38;5;129;01min\u001b[39;00m \u001b[43mcell_types\u001b[49m:\n\u001b[1;32m      3\u001b[0m   clids\u001b[38;5;241m.\u001b[39mappend(search_ontology(cell_type))\n\u001b[1;32m      5\u001b[0m \u001b[38;5;28mprint\u001b[39m(clids)\n",
      "\u001b[0;31mNameError\u001b[0m: name 'cell_types' is not defined"
     ]
    }
   ],
   "source": [
    "clids = []\n",
    "for cell_type in cell_types:\n",
    "  clids.append(search_ontology(cell_type))\n",
    "\n",
    "print(clids)"
   ]
  },
  {
   "cell_type": "markdown",
   "metadata": {},
   "source": [
    "### Calculate distance with two CLID\n",
    "#### Method 1 : shortest path length between two nodes\n",
    "calculate the distance between two nodes ( manual CLID and LLM annotated CLID)"
   ]
  },
  {
   "cell_type": "code",
   "execution_count": 91,
   "metadata": {},
   "outputs": [],
   "source": [
    "def calculate_difference(graph:nx.graph, clid_1:str, clid_2:str)->int:\n",
    "    try:\n",
    "        return nx.shortest_path_length(graph, source=clid_1, target=clid_2)\n",
    "    except:\n",
    "        return -1\n",
    "def calculate_difference_name(graph:nx.graph, type_1:str, type_2:str)->int:\n",
    "    clid_1, label_1 = search_ontology(type_1)\n",
    "    clid_2, label_2 = search_ontology(type_2)\n",
    "    return calculate_difference(graph, clid_1, clid_2)\n"
   ]
  },
  {
   "cell_type": "code",
   "execution_count": 95,
   "metadata": {},
   "outputs": [
    {
     "name": "stdout",
     "output_type": "stream",
     "text": [
      "-1\n",
      "1\n",
      "{'t cell': ('CL:0000084', 't cell'), 'cytotoxic t cell': ('CL:0000910', 'cytotoxic t cell'), 't-helper cell': ('CL:0000912', 'helper T cell')}\n",
      "{'t cell': ('CL:0000084', 't cell'), 'cytotoxic t cell': ('CL:0000910', 'cytotoxic t cell'), 't-helper cell': ('CL:0000912', 'helper T cell')}\n",
      "-1\n",
      "{'t cell': ('CL:0000084', 't cell'), 'cytotoxic t cell': ('CL:0000910', 'cytotoxic t cell'), 't-helper cell': ('CL:0000912', 'helper T cell')}\n",
      "{'t cell': ('CL:0000084', 't cell'), 'cytotoxic t cell': ('CL:0000910', 'cytotoxic t cell'), 't-helper cell': ('CL:0000912', 'helper T cell')}\n",
      "3\n",
      "{'t cell': ('CL:0000084', 't cell'), 'cytotoxic t cell': ('CL:0000910', 'cytotoxic t cell'), 't-helper cell': ('CL:0000912', 'helper T cell')}\n",
      "{'t cell': ('CL:0000084', 't cell'), 'cytotoxic t cell': ('CL:0000910', 'cytotoxic t cell'), 't-helper cell': ('CL:0000912', 'helper T cell')}\n",
      "3\n"
     ]
    }
   ],
   "source": [
    "print(calculate_difference(graph, 'CL:0002250', 'CL:0009016'))\n",
    "print(calculate_difference(graph,  'CL:0009016','CL:0002250'))\n",
    "# intestinal crypt stem cell 0002250\n",
    "# intestinal crypt stem cell of large intestine 0009016\n",
    "# should put the broader type (i.e. LLM annotated ) behind\n",
    "print(calculate_difference_name(graph, 'T cells', 'Cytotoxic T cells'))\n",
    "print(calculate_difference_name(graph, 'Cytotoxic T cells', 'T cells'))\n",
    "print(calculate_difference_name(graph, 'T-helper cells', 'T cells'))"
   ]
  },
  {
   "cell_type": "code",
   "execution_count": null,
   "metadata": {},
   "outputs": [
    {
     "name": "stdout",
     "output_type": "stream",
     "text": [
      "{'t cell': ('CL:0000084', 't cell'), 'cytotoxic t cell': ('CL:0000910', 'cytotoxic t cell'), 'helper T cell': ('CL:0000912', 'helper T cell')}\n",
      "searching\n",
      "{'t cell': ('CL:0000084', 't cell'), 'cytotoxic t cell': ('CL:0000910', 'cytotoxic t cell'), 'helper T cell': ('CL:0000912', 'helper T cell')}\n",
      "3\n"
     ]
    }
   ],
   "source": []
  },
  {
   "cell_type": "markdown",
   "metadata": {},
   "source": [
    "#### Method 2 : calculate adjusted path-based similarity\n",
    "assign score according to 'On measuring of SImilarity between tree nodes'\n",
    "\n",
    "$$ l_a (v_i, v_j) = \\frac{l(v_i, lca_{ij})+l(v_j, lca_{ij})}{1 + l(lca_{ij},t)}$$\n",
    "\n",
    "while score equals $$ s_a(v_i, v_j) = \\frac{1}{1+l_a(v_i, v_j)} = \\frac{1 + l(lca_{ij},t)}{1+ l(v_i, lca_{ij})+l(v_j, lca_{ij}) + l(lca_{ij},t)}$$"
   ]
  },
  {
   "cell_type": "code",
   "execution_count": 14,
   "metadata": {},
   "outputs": [],
   "source": [
    "def adjusted_path_based_score(graph, clid_1, clid_2):\n",
    "       ugraph = graph.to_undirected()\n",
    "       lca = nx.lowest_common_ancestor(graph, clid_1, clid_2)\n",
    "       root_node = [x for x in graph.nodes() if graph.out_degree(x)>1 and graph.in_degree(x)==0]\n",
    "       try:\n",
    "              l_i_lca = nx.shortest_path_length(ugraph, source = clid_1, target = lca)\n",
    "              l_j_lca = nx.shortest_path_length(ugraph, source = clid_2, traget = lca)\n",
    "              l_lca_t = nx.shortest_path_length(ugraph, source = lca, target = root_node)\n",
    "              return (1+l_lca_t) / (1+l_i_lca + l_j_lca + l_lca_t)\n",
    "       except:\n",
    "              return -1"
   ]
  },
  {
   "cell_type": "code",
   "execution_count": null,
   "metadata": {},
   "outputs": [],
   "source": [
    "print(nx.is_directed_acyclic_graph(graph))\n",
    "degraph= graph.copy()\n",
    "nx.find_cycle(degraph, orientation='original')\n",
    "\n",
    "while not nx.is_directed_acyclic_graph(degraph):\n",
    "       trimmed_egdes = nx.find_cycle(degraph, orientation='original')\n",
    "       for edge in trimmed_egdes:\n",
    "              print(graph.nodes[edge[0]]['name'],edge[2],graph.nodes[edge[1]]['name'] )\n",
    "              dagraph = degraph.remove_edge(edge[0], edge[1])\n"
   ]
  },
  {
   "cell_type": "code",
   "execution_count": 43,
   "metadata": {},
   "outputs": [
    {
     "name": "stdout",
     "output_type": "stream",
     "text": [
      "CL:0000236 CL:0000818\n",
      "CL:0000236 CL:0000787\n",
      "CL:0000236 CL:0000788\n",
      "CL:0000236 CL:0000980\n",
      "CL:0000910 CL:0000934\n",
      "CL:0000084 CL:0000895\n",
      "None nan\n",
      "CL:0000084 CL:0000904\n",
      "CL:0000910 CL:0000905\n",
      "None CL:0000815\n",
      "None CL:0000900\n",
      "CL:0000084 nan\n",
      "CL:0000084 CL:0000907\n",
      "CL:0000910 CL:0000913\n",
      "CL:0000576 nan\n",
      "CL:0000451 CL:0000990\n",
      "CL:0000451 CL:0000990\n",
      "CL:0000236 CL:0000784\n",
      "CL:0000576 CL:0001054\n",
      "CL:0000235 nan\n",
      "[2, 3, 3, 3, -1, 3, -1, 5, -1, -1, -1, -1, 5, -1, -1, 1, 1, -1, 1, -1]\n"
     ]
    }
   ],
   "source": [
    "diff_result=[]\n",
    "for i in range(len(clids)):\n",
    "  clid_1 =clids[i] #LLM annotated CLID\n",
    "  clid_2 =gene_list[\"manual_CLID\"][i] \n",
    "  if(clid_1 != None and clid_2!=\"nan\"):# manual annotated CLID\n",
    "    difference = calculate_difference(graph, clid_2, clid_1)\n",
    "    diff_result.append(difference)\n",
    "  else:\n",
    "    diff_result.append(-1)\n",
    "  print(clid_1, clid_2)\n",
    "  # print(difference)\n",
    "print(diff_result)"
   ]
  },
  {
   "cell_type": "markdown",
   "metadata": {},
   "source": [
    "### Assign new scoring system to all.csv"
   ]
  },
  {
   "cell_type": "code",
   "execution_count": 39,
   "metadata": {},
   "outputs": [],
   "source": [
    "MODELS = ['gpt4aug3', 'gpt4mar23','gpt3.5aug3', 'CellMarker2.0','SingleR', 'ScType']\n",
    "MANUAL = 'manual'"
   ]
  },
  {
   "cell_type": "code",
   "execution_count": 40,
   "metadata": {},
   "outputs": [],
   "source": [
    "def assign_score(gene_list: pd.DataFrame):\n",
    "       global MODELS\n",
    "       global MANUAL\n",
    "       global graph\n",
    "       gene_list_scored = pd.DataFrame()\n",
    "       gene_list_scored = gene_list.copy()\n",
    "       for MODEL in MODELS:\n",
    "              scores = []\n",
    "              for i in range(len(gene_list)):\n",
    "                     clid_1 = gene_list[MANUAL+'_CLID'][i] \n",
    "                     clid_2 = gene_list[MODEL+'_CLID'][i]\n",
    "                     scores.append(calculate_difference(graph, clid_1, clid_2))\n",
    "              gene_list_scored[MODEL+'_aggrement_modified'] = scores\n",
    "       return gene_list_scored\n"
   ]
  },
  {
   "cell_type": "code",
   "execution_count": 41,
   "metadata": {},
   "outputs": [
    {
     "name": "stdout",
     "output_type": "stream",
     "text": [
      "            dataset       tissue  \\\n",
      "0           Azimuth         PBMC   \n",
      "1           Azimuth         PBMC   \n",
      "2           Azimuth         PBMC   \n",
      "3           Azimuth         PBMC   \n",
      "4           Azimuth         PBMC   \n",
      "...             ...          ...   \n",
      "1125  tabulasapiens  Vasculature   \n",
      "1126  tabulasapiens  Vasculature   \n",
      "1127  tabulasapiens  Vasculature   \n",
      "1128  tabulasapiens  Vasculature   \n",
      "1129  tabulasapiens  Vasculature   \n",
      "\n",
      "                                                 marker  \\\n",
      "0     MS4A1, TNFRSF13B, IGHM, IGHD, AIM2, CD79A, LIN...   \n",
      "1     MS4A1, COCH, AIM2, BANK1, SSPN, CD79A, TEX9, R...   \n",
      "2     IGHM, IGHD, CD79A, IL4R, MS4A1, CXCR4, BTG1, T...   \n",
      "3     IGHA2, MZB1, TNFRSF17, DERL3, TXNDC5, TNFRSF13...   \n",
      "4     GZMH, CD4, FGFBP2, ITGB1, GZMA, CST7, GNLY, B2...   \n",
      "...                                                 ...   \n",
      "1125  KLRD1,NKG7,XCL2,CTSW,XCL1,GNLY,GZMA,KLRB1,KLRC...   \n",
      "1126  JCHAIN,MZB1,DERL3,IGHG2,IGHA2,TNFRSF17,SDC1,FC...   \n",
      "1127  TFF3,PKHD1L1,PROX1,NTS,FLT4,RELN,GPR182,STAB2,...   \n",
      "1128  VWF,ACKR1,PLVAP,PECAM1,AQP1,RAMP3,CLEC14A,SOX1...   \n",
      "1129  MSLN,UPK3B,MUC16,CALB2,KLK11,BICDL1,CHAC1,TGM1...   \n",
      "\n",
      "               manual_annotation                              manual_CLname  \\\n",
      "0            Intermediate B cell                  transitional stage B cell   \n",
      "1                  Memory B cell                              memory B cell   \n",
      "2                   Naive B cell                               naive B cell   \n",
      "3                    Plasmablast                                plasmablast   \n",
      "4               CD4+ Cytotoxic T  CD4-positive, alpha-beta cytotoxic T cell   \n",
      "...                          ...                                        ...   \n",
      "1125                     nk cell                        natural killer cell   \n",
      "1126                 plasma cell                                plasma cell   \n",
      "1127  lymphatic endothelial cell       endothelial cell of lymphatic vessel   \n",
      "1128            endothelial cell                           endothelial cell   \n",
      "1129             epithelial cell                            epithelial cell   \n",
      "\n",
      "     manual_CLID  manual_broadtype          gpt4aug3_annotation  \\\n",
      "0     CL:0000818            b cell                      B Cells   \n",
      "1     CL:0000787            b cell                      B Cells   \n",
      "2     CL:0000788            b cell                      B Cells   \n",
      "3     CL:0000980            b cell                 Plasma Cells   \n",
      "4     CL:0000934         t/nk cell                     NK Cells   \n",
      "...          ...               ...                          ...   \n",
      "1125  CL:0000623         t/nk cell         Natural Killer Cells   \n",
      "1126  CL:0000786            b cell                 Plasma Cells   \n",
      "1127  CL:0002138  endothelial cell  Lymphatic Endothelial Cells   \n",
      "1128  CL:0000115  endothelial cell            Endothelial Cells   \n",
      "1129  CL:0000066   epithelial cell             Epithelial Cells   \n",
      "\n",
      "                           gpt4aug3_CLname gpt4aug3_CLID  ...  \\\n",
      "0                                   B cell    CL:0000236  ...   \n",
      "1                                   B cell    CL:0000236  ...   \n",
      "2                                   B cell    CL:0000236  ...   \n",
      "3                              plasma cell    CL:0000786  ...   \n",
      "4                      natural killer cell    CL:0000623  ...   \n",
      "...                                    ...           ...  ...   \n",
      "1125                   natural killer cell    CL:0000623  ...   \n",
      "1126                           plasma cell    CL:0000786  ...   \n",
      "1127  endothelial cell of lymphatic vessel    CL:0002138  ...   \n",
      "1128                      endothelial cell    CL:0000115  ...   \n",
      "1129                       epithelial cell    CL:0000066  ...   \n",
      "\n",
      "                             ScType_CLname  ScType_CLID  ScType_broadtype  \\\n",
      "0                                      NaN          NaN               NaN   \n",
      "1                                      NaN          NaN               NaN   \n",
      "2                                      NaN          NaN               NaN   \n",
      "3                                      NaN          NaN               NaN   \n",
      "4                                      NaN          NaN               NaN   \n",
      "...                                    ...          ...               ...   \n",
      "1125                                   NaN          NaN         t/nk cell   \n",
      "1126                           plasma cell   CL:0000786            b cell   \n",
      "1127  endothelial cell of lymphatic vessel   CL:0002138  endothelial cell   \n",
      "1128                      endothelial cell   CL:0000115  endothelial cell   \n",
      "1129                  epicardial adipocyte   CL:1000309          fat cell   \n",
      "\n",
      "     ScType_agreement gpt4aug3_aggrement_modified  \\\n",
      "0                 NaN                           2   \n",
      "1                 NaN                           3   \n",
      "2                 NaN                           3   \n",
      "3                 NaN                          -1   \n",
      "4                 NaN                          -1   \n",
      "...               ...                         ...   \n",
      "1125              0.5                           0   \n",
      "1126              1.0                           0   \n",
      "1127              1.0                           0   \n",
      "1128              1.0                           0   \n",
      "1129              0.0                           0   \n",
      "\n",
      "     gpt4mar23_aggrement_modified  gpt3.5aug3_aggrement_modified  \\\n",
      "0                               2                              2   \n",
      "1                               2                              3   \n",
      "2                               0                              3   \n",
      "3                              -1                             -1   \n",
      "4                               0                             -1   \n",
      "...                           ...                            ...   \n",
      "1125                           -1                              0   \n",
      "1126                           -1                             -1   \n",
      "1127                           -1                              0   \n",
      "1128                           -1                              0   \n",
      "1129                           -1                              0   \n",
      "\n",
      "     CellMarker2.0_aggrement_modified SingleR_aggrement_modified  \\\n",
      "0                                  -1                         -1   \n",
      "1                                  -1                         -1   \n",
      "2                                  -1                         -1   \n",
      "3                                  -1                         -1   \n",
      "4                                  -1                         -1   \n",
      "...                               ...                        ...   \n",
      "1125                               -1                          0   \n",
      "1126                               -1                          4   \n",
      "1127                               -1                          2   \n",
      "1128                               -1                          0   \n",
      "1129                               -1                         -1   \n",
      "\n",
      "     ScType_aggrement_modified  \n",
      "0                           -1  \n",
      "1                           -1  \n",
      "2                           -1  \n",
      "3                           -1  \n",
      "4                           -1  \n",
      "...                        ...  \n",
      "1125                        -1  \n",
      "1126                         0  \n",
      "1127                         0  \n",
      "1128                         0  \n",
      "1129                        -1  \n",
      "\n",
      "[1130 rows x 43 columns]\n"
     ]
    }
   ],
   "source": [
    "gene_list_scored = assign_score(gene_list)\n",
    "print(gene_list_scored)"
   ]
  },
  {
   "cell_type": "code",
   "execution_count": 42,
   "metadata": {},
   "outputs": [],
   "source": [
    "gene_list_scored.to_csv('Data/all_modified.csv')"
   ]
  },
  {
   "cell_type": "code",
   "execution_count": null,
   "metadata": {},
   "outputs": [],
   "source": []
  }
 ],
 "metadata": {
  "kernelspec": {
   "display_name": "Python 3",
   "language": "python",
   "name": "python3"
  },
  "language_info": {
   "codemirror_mode": {
    "name": "ipython",
    "version": 3
   },
   "file_extension": ".py",
   "mimetype": "text/x-python",
   "name": "python",
   "nbconvert_exporter": "python",
   "pygments_lexer": "ipython3",
   "version": "3.11.5"
  }
 },
 "nbformat": 4,
 "nbformat_minor": 2
}
